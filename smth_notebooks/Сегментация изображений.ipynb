{
  "nbformat": 4,
  "nbformat_minor": 0,
  "metadata": {
    "kernelspec": {
      "display_name": "Python 3",
      "language": "python",
      "name": "python3"
    },
    "language_info": {
      "codemirror_mode": {
        "name": "ipython",
        "version": 3
      },
      "file_extension": ".py",
      "mimetype": "text/x-python",
      "name": "python",
      "nbconvert_exporter": "python",
      "pygments_lexer": "ipython3",
      "version": "3.7.0"
    },
    "toc": {
      "base_numbering": 1,
      "nav_menu": {},
      "number_sections": true,
      "sideBar": true,
      "skip_h1_title": false,
      "title_cell": "Table of Contents",
      "title_sidebar": "Contents",
      "toc_cell": false,
      "toc_position": {},
      "toc_section_display": true,
      "toc_window_display": false
    },
    "colab": {
      "name": "lab_02.ipynb",
      "provenance": [],
      "collapsed_sections": []
    },
    "accelerator": "GPU",
    "widgets": {
      "application/vnd.jupyter.widget-state+json": {
        "b906f5ead1d64498a464ace34857b39e": {
          "model_module": "@jupyter-widgets/controls",
          "model_name": "HBoxModel",
          "state": {
            "_view_name": "HBoxView",
            "_dom_classes": [],
            "_model_name": "HBoxModel",
            "_view_module": "@jupyter-widgets/controls",
            "_model_module_version": "1.5.0",
            "_view_count": null,
            "_view_module_version": "1.5.0",
            "box_style": "",
            "layout": "IPY_MODEL_040019759450442a85ab95adc759299b",
            "_model_module": "@jupyter-widgets/controls",
            "children": [
              "IPY_MODEL_64e31ec624254cabac154bd1c342ae07",
              "IPY_MODEL_83722b384b8c4758b3295d5a6c7dc620"
            ]
          }
        },
        "040019759450442a85ab95adc759299b": {
          "model_module": "@jupyter-widgets/base",
          "model_name": "LayoutModel",
          "state": {
            "_view_name": "LayoutView",
            "grid_template_rows": null,
            "right": null,
            "justify_content": null,
            "_view_module": "@jupyter-widgets/base",
            "overflow": null,
            "_model_module_version": "1.2.0",
            "_view_count": null,
            "flex_flow": null,
            "width": null,
            "min_width": null,
            "border": null,
            "align_items": null,
            "bottom": null,
            "_model_module": "@jupyter-widgets/base",
            "top": null,
            "grid_column": null,
            "overflow_y": null,
            "overflow_x": null,
            "grid_auto_flow": null,
            "grid_area": null,
            "grid_template_columns": null,
            "flex": null,
            "_model_name": "LayoutModel",
            "justify_items": null,
            "grid_row": null,
            "max_height": null,
            "align_content": null,
            "visibility": null,
            "align_self": null,
            "height": null,
            "min_height": null,
            "padding": null,
            "grid_auto_rows": null,
            "grid_gap": null,
            "max_width": null,
            "order": null,
            "_view_module_version": "1.2.0",
            "grid_template_areas": null,
            "object_position": null,
            "object_fit": null,
            "grid_auto_columns": null,
            "margin": null,
            "display": null,
            "left": null
          }
        },
        "64e31ec624254cabac154bd1c342ae07": {
          "model_module": "@jupyter-widgets/controls",
          "model_name": "FloatProgressModel",
          "state": {
            "_view_name": "ProgressView",
            "style": "IPY_MODEL_9e0d7d62e7ad40dfa872b03087c62843",
            "_dom_classes": [],
            "description": "step: 100%",
            "_model_name": "FloatProgressModel",
            "bar_style": "success",
            "max": 18,
            "_view_module": "@jupyter-widgets/controls",
            "_model_module_version": "1.5.0",
            "value": 18,
            "_view_count": null,
            "_view_module_version": "1.5.0",
            "orientation": "horizontal",
            "min": 0,
            "description_tooltip": null,
            "_model_module": "@jupyter-widgets/controls",
            "layout": "IPY_MODEL_9234f7afc2cc41aa99fee0db9516d7f8"
          }
        },
        "83722b384b8c4758b3295d5a6c7dc620": {
          "model_module": "@jupyter-widgets/controls",
          "model_name": "HTMLModel",
          "state": {
            "_view_name": "HTMLView",
            "style": "IPY_MODEL_2d960ce9a11741c5b5ea0008406c300d",
            "_dom_classes": [],
            "description": "",
            "_model_name": "HTMLModel",
            "placeholder": "​",
            "_view_module": "@jupyter-widgets/controls",
            "_model_module_version": "1.5.0",
            "value": " 18/18 [00:17&lt;00:00,  1.02it/s]",
            "_view_count": null,
            "_view_module_version": "1.5.0",
            "description_tooltip": null,
            "_model_module": "@jupyter-widgets/controls",
            "layout": "IPY_MODEL_c16cdc3646ff4d7fb96423adbc1e5ac6"
          }
        },
        "9e0d7d62e7ad40dfa872b03087c62843": {
          "model_module": "@jupyter-widgets/controls",
          "model_name": "ProgressStyleModel",
          "state": {
            "_view_name": "StyleView",
            "_model_name": "ProgressStyleModel",
            "description_width": "initial",
            "_view_module": "@jupyter-widgets/base",
            "_model_module_version": "1.5.0",
            "_view_count": null,
            "_view_module_version": "1.2.0",
            "bar_color": null,
            "_model_module": "@jupyter-widgets/controls"
          }
        },
        "9234f7afc2cc41aa99fee0db9516d7f8": {
          "model_module": "@jupyter-widgets/base",
          "model_name": "LayoutModel",
          "state": {
            "_view_name": "LayoutView",
            "grid_template_rows": null,
            "right": null,
            "justify_content": null,
            "_view_module": "@jupyter-widgets/base",
            "overflow": null,
            "_model_module_version": "1.2.0",
            "_view_count": null,
            "flex_flow": null,
            "width": null,
            "min_width": null,
            "border": null,
            "align_items": null,
            "bottom": null,
            "_model_module": "@jupyter-widgets/base",
            "top": null,
            "grid_column": null,
            "overflow_y": null,
            "overflow_x": null,
            "grid_auto_flow": null,
            "grid_area": null,
            "grid_template_columns": null,
            "flex": null,
            "_model_name": "LayoutModel",
            "justify_items": null,
            "grid_row": null,
            "max_height": null,
            "align_content": null,
            "visibility": null,
            "align_self": null,
            "height": null,
            "min_height": null,
            "padding": null,
            "grid_auto_rows": null,
            "grid_gap": null,
            "max_width": null,
            "order": null,
            "_view_module_version": "1.2.0",
            "grid_template_areas": null,
            "object_position": null,
            "object_fit": null,
            "grid_auto_columns": null,
            "margin": null,
            "display": null,
            "left": null
          }
        },
        "2d960ce9a11741c5b5ea0008406c300d": {
          "model_module": "@jupyter-widgets/controls",
          "model_name": "DescriptionStyleModel",
          "state": {
            "_view_name": "StyleView",
            "_model_name": "DescriptionStyleModel",
            "description_width": "",
            "_view_module": "@jupyter-widgets/base",
            "_model_module_version": "1.5.0",
            "_view_count": null,
            "_view_module_version": "1.2.0",
            "_model_module": "@jupyter-widgets/controls"
          }
        },
        "c16cdc3646ff4d7fb96423adbc1e5ac6": {
          "model_module": "@jupyter-widgets/base",
          "model_name": "LayoutModel",
          "state": {
            "_view_name": "LayoutView",
            "grid_template_rows": null,
            "right": null,
            "justify_content": null,
            "_view_module": "@jupyter-widgets/base",
            "overflow": null,
            "_model_module_version": "1.2.0",
            "_view_count": null,
            "flex_flow": null,
            "width": null,
            "min_width": null,
            "border": null,
            "align_items": null,
            "bottom": null,
            "_model_module": "@jupyter-widgets/base",
            "top": null,
            "grid_column": null,
            "overflow_y": null,
            "overflow_x": null,
            "grid_auto_flow": null,
            "grid_area": null,
            "grid_template_columns": null,
            "flex": null,
            "_model_name": "LayoutModel",
            "justify_items": null,
            "grid_row": null,
            "max_height": null,
            "align_content": null,
            "visibility": null,
            "align_self": null,
            "height": null,
            "min_height": null,
            "padding": null,
            "grid_auto_rows": null,
            "grid_gap": null,
            "max_width": null,
            "order": null,
            "_view_module_version": "1.2.0",
            "grid_template_areas": null,
            "object_position": null,
            "object_fit": null,
            "grid_auto_columns": null,
            "margin": null,
            "display": null,
            "left": null
          }
        },
        "393e685f5d494d07850c6e62c2ed05b8": {
          "model_module": "@jupyter-widgets/controls",
          "model_name": "HBoxModel",
          "state": {
            "_view_name": "HBoxView",
            "_dom_classes": [],
            "_model_name": "HBoxModel",
            "_view_module": "@jupyter-widgets/controls",
            "_model_module_version": "1.5.0",
            "_view_count": null,
            "_view_module_version": "1.5.0",
            "box_style": "",
            "layout": "IPY_MODEL_f2726fa73be04a7e89f43f8e3ee40646",
            "_model_module": "@jupyter-widgets/controls",
            "children": [
              "IPY_MODEL_ac1fb83adade438198893db6ab499f7a",
              "IPY_MODEL_151dbe9e5b55408c905feb305b207b83"
            ]
          }
        },
        "f2726fa73be04a7e89f43f8e3ee40646": {
          "model_module": "@jupyter-widgets/base",
          "model_name": "LayoutModel",
          "state": {
            "_view_name": "LayoutView",
            "grid_template_rows": null,
            "right": null,
            "justify_content": null,
            "_view_module": "@jupyter-widgets/base",
            "overflow": null,
            "_model_module_version": "1.2.0",
            "_view_count": null,
            "flex_flow": null,
            "width": null,
            "min_width": null,
            "border": null,
            "align_items": null,
            "bottom": null,
            "_model_module": "@jupyter-widgets/base",
            "top": null,
            "grid_column": null,
            "overflow_y": null,
            "overflow_x": null,
            "grid_auto_flow": null,
            "grid_area": null,
            "grid_template_columns": null,
            "flex": null,
            "_model_name": "LayoutModel",
            "justify_items": null,
            "grid_row": null,
            "max_height": null,
            "align_content": null,
            "visibility": null,
            "align_self": null,
            "height": null,
            "min_height": null,
            "padding": null,
            "grid_auto_rows": null,
            "grid_gap": null,
            "max_width": null,
            "order": null,
            "_view_module_version": "1.2.0",
            "grid_template_areas": null,
            "object_position": null,
            "object_fit": null,
            "grid_auto_columns": null,
            "margin": null,
            "display": null,
            "left": null
          }
        },
        "ac1fb83adade438198893db6ab499f7a": {
          "model_module": "@jupyter-widgets/controls",
          "model_name": "FloatProgressModel",
          "state": {
            "_view_name": "ProgressView",
            "style": "IPY_MODEL_f1aa12389915492cb251b4e3557d70d0",
            "_dom_classes": [],
            "description": "step: 100%",
            "_model_name": "FloatProgressModel",
            "bar_style": "success",
            "max": 18,
            "_view_module": "@jupyter-widgets/controls",
            "_model_module_version": "1.5.0",
            "value": 18,
            "_view_count": null,
            "_view_module_version": "1.5.0",
            "orientation": "horizontal",
            "min": 0,
            "description_tooltip": null,
            "_model_module": "@jupyter-widgets/controls",
            "layout": "IPY_MODEL_e3ee7bd93bec4a1588e119aa9cb980da"
          }
        },
        "151dbe9e5b55408c905feb305b207b83": {
          "model_module": "@jupyter-widgets/controls",
          "model_name": "HTMLModel",
          "state": {
            "_view_name": "HTMLView",
            "style": "IPY_MODEL_2cf0667b71d044689617916e244e5c33",
            "_dom_classes": [],
            "description": "",
            "_model_name": "HTMLModel",
            "placeholder": "​",
            "_view_module": "@jupyter-widgets/controls",
            "_model_module_version": "1.5.0",
            "value": " 18/18 [00:16&lt;00:00,  1.07it/s]",
            "_view_count": null,
            "_view_module_version": "1.5.0",
            "description_tooltip": null,
            "_model_module": "@jupyter-widgets/controls",
            "layout": "IPY_MODEL_8975fc279dba4eb59f0629bd01dd99b3"
          }
        },
        "f1aa12389915492cb251b4e3557d70d0": {
          "model_module": "@jupyter-widgets/controls",
          "model_name": "ProgressStyleModel",
          "state": {
            "_view_name": "StyleView",
            "_model_name": "ProgressStyleModel",
            "description_width": "initial",
            "_view_module": "@jupyter-widgets/base",
            "_model_module_version": "1.5.0",
            "_view_count": null,
            "_view_module_version": "1.2.0",
            "bar_color": null,
            "_model_module": "@jupyter-widgets/controls"
          }
        },
        "e3ee7bd93bec4a1588e119aa9cb980da": {
          "model_module": "@jupyter-widgets/base",
          "model_name": "LayoutModel",
          "state": {
            "_view_name": "LayoutView",
            "grid_template_rows": null,
            "right": null,
            "justify_content": null,
            "_view_module": "@jupyter-widgets/base",
            "overflow": null,
            "_model_module_version": "1.2.0",
            "_view_count": null,
            "flex_flow": null,
            "width": null,
            "min_width": null,
            "border": null,
            "align_items": null,
            "bottom": null,
            "_model_module": "@jupyter-widgets/base",
            "top": null,
            "grid_column": null,
            "overflow_y": null,
            "overflow_x": null,
            "grid_auto_flow": null,
            "grid_area": null,
            "grid_template_columns": null,
            "flex": null,
            "_model_name": "LayoutModel",
            "justify_items": null,
            "grid_row": null,
            "max_height": null,
            "align_content": null,
            "visibility": null,
            "align_self": null,
            "height": null,
            "min_height": null,
            "padding": null,
            "grid_auto_rows": null,
            "grid_gap": null,
            "max_width": null,
            "order": null,
            "_view_module_version": "1.2.0",
            "grid_template_areas": null,
            "object_position": null,
            "object_fit": null,
            "grid_auto_columns": null,
            "margin": null,
            "display": null,
            "left": null
          }
        },
        "2cf0667b71d044689617916e244e5c33": {
          "model_module": "@jupyter-widgets/controls",
          "model_name": "DescriptionStyleModel",
          "state": {
            "_view_name": "StyleView",
            "_model_name": "DescriptionStyleModel",
            "description_width": "",
            "_view_module": "@jupyter-widgets/base",
            "_model_module_version": "1.5.0",
            "_view_count": null,
            "_view_module_version": "1.2.0",
            "_model_module": "@jupyter-widgets/controls"
          }
        },
        "8975fc279dba4eb59f0629bd01dd99b3": {
          "model_module": "@jupyter-widgets/base",
          "model_name": "LayoutModel",
          "state": {
            "_view_name": "LayoutView",
            "grid_template_rows": null,
            "right": null,
            "justify_content": null,
            "_view_module": "@jupyter-widgets/base",
            "overflow": null,
            "_model_module_version": "1.2.0",
            "_view_count": null,
            "flex_flow": null,
            "width": null,
            "min_width": null,
            "border": null,
            "align_items": null,
            "bottom": null,
            "_model_module": "@jupyter-widgets/base",
            "top": null,
            "grid_column": null,
            "overflow_y": null,
            "overflow_x": null,
            "grid_auto_flow": null,
            "grid_area": null,
            "grid_template_columns": null,
            "flex": null,
            "_model_name": "LayoutModel",
            "justify_items": null,
            "grid_row": null,
            "max_height": null,
            "align_content": null,
            "visibility": null,
            "align_self": null,
            "height": null,
            "min_height": null,
            "padding": null,
            "grid_auto_rows": null,
            "grid_gap": null,
            "max_width": null,
            "order": null,
            "_view_module_version": "1.2.0",
            "grid_template_areas": null,
            "object_position": null,
            "object_fit": null,
            "grid_auto_columns": null,
            "margin": null,
            "display": null,
            "left": null
          }
        },
        "8b6be1fffb2c47e69edbd9816c221897": {
          "model_module": "@jupyter-widgets/controls",
          "model_name": "HBoxModel",
          "state": {
            "_view_name": "HBoxView",
            "_dom_classes": [],
            "_model_name": "HBoxModel",
            "_view_module": "@jupyter-widgets/controls",
            "_model_module_version": "1.5.0",
            "_view_count": null,
            "_view_module_version": "1.5.0",
            "box_style": "",
            "layout": "IPY_MODEL_c945ac1d2c684879a5b39c5d9ff2fbba",
            "_model_module": "@jupyter-widgets/controls",
            "children": [
              "IPY_MODEL_627b5d227b5d403588365054f5ca8c84",
              "IPY_MODEL_19220966b8f44498b356e06342848fb4"
            ]
          }
        },
        "c945ac1d2c684879a5b39c5d9ff2fbba": {
          "model_module": "@jupyter-widgets/base",
          "model_name": "LayoutModel",
          "state": {
            "_view_name": "LayoutView",
            "grid_template_rows": null,
            "right": null,
            "justify_content": null,
            "_view_module": "@jupyter-widgets/base",
            "overflow": null,
            "_model_module_version": "1.2.0",
            "_view_count": null,
            "flex_flow": null,
            "width": null,
            "min_width": null,
            "border": null,
            "align_items": null,
            "bottom": null,
            "_model_module": "@jupyter-widgets/base",
            "top": null,
            "grid_column": null,
            "overflow_y": null,
            "overflow_x": null,
            "grid_auto_flow": null,
            "grid_area": null,
            "grid_template_columns": null,
            "flex": null,
            "_model_name": "LayoutModel",
            "justify_items": null,
            "grid_row": null,
            "max_height": null,
            "align_content": null,
            "visibility": null,
            "align_self": null,
            "height": null,
            "min_height": null,
            "padding": null,
            "grid_auto_rows": null,
            "grid_gap": null,
            "max_width": null,
            "order": null,
            "_view_module_version": "1.2.0",
            "grid_template_areas": null,
            "object_position": null,
            "object_fit": null,
            "grid_auto_columns": null,
            "margin": null,
            "display": null,
            "left": null
          }
        },
        "627b5d227b5d403588365054f5ca8c84": {
          "model_module": "@jupyter-widgets/controls",
          "model_name": "FloatProgressModel",
          "state": {
            "_view_name": "ProgressView",
            "style": "IPY_MODEL_2c3b08b6a1194fc6926e580d0f60c475",
            "_dom_classes": [],
            "description": "step: 100%",
            "_model_name": "FloatProgressModel",
            "bar_style": "success",
            "max": 18,
            "_view_module": "@jupyter-widgets/controls",
            "_model_module_version": "1.5.0",
            "value": 18,
            "_view_count": null,
            "_view_module_version": "1.5.0",
            "orientation": "horizontal",
            "min": 0,
            "description_tooltip": null,
            "_model_module": "@jupyter-widgets/controls",
            "layout": "IPY_MODEL_16bbb1629d9f4043af7ba6d976f2071a"
          }
        },
        "19220966b8f44498b356e06342848fb4": {
          "model_module": "@jupyter-widgets/controls",
          "model_name": "HTMLModel",
          "state": {
            "_view_name": "HTMLView",
            "style": "IPY_MODEL_e863f14307704b268afe7fc13e02896a",
            "_dom_classes": [],
            "description": "",
            "_model_name": "HTMLModel",
            "placeholder": "​",
            "_view_module": "@jupyter-widgets/controls",
            "_model_module_version": "1.5.0",
            "value": " 18/18 [01:19&lt;00:00,  4.40s/it]",
            "_view_count": null,
            "_view_module_version": "1.5.0",
            "description_tooltip": null,
            "_model_module": "@jupyter-widgets/controls",
            "layout": "IPY_MODEL_ef3a86b5e4914004b8ca30171f091897"
          }
        },
        "2c3b08b6a1194fc6926e580d0f60c475": {
          "model_module": "@jupyter-widgets/controls",
          "model_name": "ProgressStyleModel",
          "state": {
            "_view_name": "StyleView",
            "_model_name": "ProgressStyleModel",
            "description_width": "initial",
            "_view_module": "@jupyter-widgets/base",
            "_model_module_version": "1.5.0",
            "_view_count": null,
            "_view_module_version": "1.2.0",
            "bar_color": null,
            "_model_module": "@jupyter-widgets/controls"
          }
        },
        "16bbb1629d9f4043af7ba6d976f2071a": {
          "model_module": "@jupyter-widgets/base",
          "model_name": "LayoutModel",
          "state": {
            "_view_name": "LayoutView",
            "grid_template_rows": null,
            "right": null,
            "justify_content": null,
            "_view_module": "@jupyter-widgets/base",
            "overflow": null,
            "_model_module_version": "1.2.0",
            "_view_count": null,
            "flex_flow": null,
            "width": null,
            "min_width": null,
            "border": null,
            "align_items": null,
            "bottom": null,
            "_model_module": "@jupyter-widgets/base",
            "top": null,
            "grid_column": null,
            "overflow_y": null,
            "overflow_x": null,
            "grid_auto_flow": null,
            "grid_area": null,
            "grid_template_columns": null,
            "flex": null,
            "_model_name": "LayoutModel",
            "justify_items": null,
            "grid_row": null,
            "max_height": null,
            "align_content": null,
            "visibility": null,
            "align_self": null,
            "height": null,
            "min_height": null,
            "padding": null,
            "grid_auto_rows": null,
            "grid_gap": null,
            "max_width": null,
            "order": null,
            "_view_module_version": "1.2.0",
            "grid_template_areas": null,
            "object_position": null,
            "object_fit": null,
            "grid_auto_columns": null,
            "margin": null,
            "display": null,
            "left": null
          }
        },
        "e863f14307704b268afe7fc13e02896a": {
          "model_module": "@jupyter-widgets/controls",
          "model_name": "DescriptionStyleModel",
          "state": {
            "_view_name": "StyleView",
            "_model_name": "DescriptionStyleModel",
            "description_width": "",
            "_view_module": "@jupyter-widgets/base",
            "_model_module_version": "1.5.0",
            "_view_count": null,
            "_view_module_version": "1.2.0",
            "_model_module": "@jupyter-widgets/controls"
          }
        },
        "ef3a86b5e4914004b8ca30171f091897": {
          "model_module": "@jupyter-widgets/base",
          "model_name": "LayoutModel",
          "state": {
            "_view_name": "LayoutView",
            "grid_template_rows": null,
            "right": null,
            "justify_content": null,
            "_view_module": "@jupyter-widgets/base",
            "overflow": null,
            "_model_module_version": "1.2.0",
            "_view_count": null,
            "flex_flow": null,
            "width": null,
            "min_width": null,
            "border": null,
            "align_items": null,
            "bottom": null,
            "_model_module": "@jupyter-widgets/base",
            "top": null,
            "grid_column": null,
            "overflow_y": null,
            "overflow_x": null,
            "grid_auto_flow": null,
            "grid_area": null,
            "grid_template_columns": null,
            "flex": null,
            "_model_name": "LayoutModel",
            "justify_items": null,
            "grid_row": null,
            "max_height": null,
            "align_content": null,
            "visibility": null,
            "align_self": null,
            "height": null,
            "min_height": null,
            "padding": null,
            "grid_auto_rows": null,
            "grid_gap": null,
            "max_width": null,
            "order": null,
            "_view_module_version": "1.2.0",
            "grid_template_areas": null,
            "object_position": null,
            "object_fit": null,
            "grid_auto_columns": null,
            "margin": null,
            "display": null,
            "left": null
          }
        },
        "ea5557160b8748fba7af44c6599be298": {
          "model_module": "@jupyter-widgets/controls",
          "model_name": "HBoxModel",
          "state": {
            "_view_name": "HBoxView",
            "_dom_classes": [],
            "_model_name": "HBoxModel",
            "_view_module": "@jupyter-widgets/controls",
            "_model_module_version": "1.5.0",
            "_view_count": null,
            "_view_module_version": "1.5.0",
            "box_style": "",
            "layout": "IPY_MODEL_9087889a206c4c118fdb85b0dba3a46f",
            "_model_module": "@jupyter-widgets/controls",
            "children": [
              "IPY_MODEL_98fa317c7fa64a41a2bc49909d787e78",
              "IPY_MODEL_5c8e7773c7c04f1f8d24158df7af4ad2"
            ]
          }
        },
        "9087889a206c4c118fdb85b0dba3a46f": {
          "model_module": "@jupyter-widgets/base",
          "model_name": "LayoutModel",
          "state": {
            "_view_name": "LayoutView",
            "grid_template_rows": null,
            "right": null,
            "justify_content": null,
            "_view_module": "@jupyter-widgets/base",
            "overflow": null,
            "_model_module_version": "1.2.0",
            "_view_count": null,
            "flex_flow": null,
            "width": null,
            "min_width": null,
            "border": null,
            "align_items": null,
            "bottom": null,
            "_model_module": "@jupyter-widgets/base",
            "top": null,
            "grid_column": null,
            "overflow_y": null,
            "overflow_x": null,
            "grid_auto_flow": null,
            "grid_area": null,
            "grid_template_columns": null,
            "flex": null,
            "_model_name": "LayoutModel",
            "justify_items": null,
            "grid_row": null,
            "max_height": null,
            "align_content": null,
            "visibility": null,
            "align_self": null,
            "height": null,
            "min_height": null,
            "padding": null,
            "grid_auto_rows": null,
            "grid_gap": null,
            "max_width": null,
            "order": null,
            "_view_module_version": "1.2.0",
            "grid_template_areas": null,
            "object_position": null,
            "object_fit": null,
            "grid_auto_columns": null,
            "margin": null,
            "display": null,
            "left": null
          }
        },
        "98fa317c7fa64a41a2bc49909d787e78": {
          "model_module": "@jupyter-widgets/controls",
          "model_name": "FloatProgressModel",
          "state": {
            "_view_name": "ProgressView",
            "style": "IPY_MODEL_2a89bee550e041abb3567066e997c7ff",
            "_dom_classes": [],
            "description": "step: 100%",
            "_model_name": "FloatProgressModel",
            "bar_style": "success",
            "max": 18,
            "_view_module": "@jupyter-widgets/controls",
            "_model_module_version": "1.5.0",
            "value": 18,
            "_view_count": null,
            "_view_module_version": "1.5.0",
            "orientation": "horizontal",
            "min": 0,
            "description_tooltip": null,
            "_model_module": "@jupyter-widgets/controls",
            "layout": "IPY_MODEL_13160f9f57514b999dfd04bba835e572"
          }
        },
        "5c8e7773c7c04f1f8d24158df7af4ad2": {
          "model_module": "@jupyter-widgets/controls",
          "model_name": "HTMLModel",
          "state": {
            "_view_name": "HTMLView",
            "style": "IPY_MODEL_ccbacdda07ba46a5a316c2a09b2951fd",
            "_dom_classes": [],
            "description": "",
            "_model_name": "HTMLModel",
            "placeholder": "​",
            "_view_module": "@jupyter-widgets/controls",
            "_model_module_version": "1.5.0",
            "value": " 18/18 [00:41&lt;00:00,  2.29s/it]",
            "_view_count": null,
            "_view_module_version": "1.5.0",
            "description_tooltip": null,
            "_model_module": "@jupyter-widgets/controls",
            "layout": "IPY_MODEL_31c0dd69b7744cecb9f8665aeb22c301"
          }
        },
        "2a89bee550e041abb3567066e997c7ff": {
          "model_module": "@jupyter-widgets/controls",
          "model_name": "ProgressStyleModel",
          "state": {
            "_view_name": "StyleView",
            "_model_name": "ProgressStyleModel",
            "description_width": "initial",
            "_view_module": "@jupyter-widgets/base",
            "_model_module_version": "1.5.0",
            "_view_count": null,
            "_view_module_version": "1.2.0",
            "bar_color": null,
            "_model_module": "@jupyter-widgets/controls"
          }
        },
        "13160f9f57514b999dfd04bba835e572": {
          "model_module": "@jupyter-widgets/base",
          "model_name": "LayoutModel",
          "state": {
            "_view_name": "LayoutView",
            "grid_template_rows": null,
            "right": null,
            "justify_content": null,
            "_view_module": "@jupyter-widgets/base",
            "overflow": null,
            "_model_module_version": "1.2.0",
            "_view_count": null,
            "flex_flow": null,
            "width": null,
            "min_width": null,
            "border": null,
            "align_items": null,
            "bottom": null,
            "_model_module": "@jupyter-widgets/base",
            "top": null,
            "grid_column": null,
            "overflow_y": null,
            "overflow_x": null,
            "grid_auto_flow": null,
            "grid_area": null,
            "grid_template_columns": null,
            "flex": null,
            "_model_name": "LayoutModel",
            "justify_items": null,
            "grid_row": null,
            "max_height": null,
            "align_content": null,
            "visibility": null,
            "align_self": null,
            "height": null,
            "min_height": null,
            "padding": null,
            "grid_auto_rows": null,
            "grid_gap": null,
            "max_width": null,
            "order": null,
            "_view_module_version": "1.2.0",
            "grid_template_areas": null,
            "object_position": null,
            "object_fit": null,
            "grid_auto_columns": null,
            "margin": null,
            "display": null,
            "left": null
          }
        },
        "ccbacdda07ba46a5a316c2a09b2951fd": {
          "model_module": "@jupyter-widgets/controls",
          "model_name": "DescriptionStyleModel",
          "state": {
            "_view_name": "StyleView",
            "_model_name": "DescriptionStyleModel",
            "description_width": "",
            "_view_module": "@jupyter-widgets/base",
            "_model_module_version": "1.5.0",
            "_view_count": null,
            "_view_module_version": "1.2.0",
            "_model_module": "@jupyter-widgets/controls"
          }
        },
        "31c0dd69b7744cecb9f8665aeb22c301": {
          "model_module": "@jupyter-widgets/base",
          "model_name": "LayoutModel",
          "state": {
            "_view_name": "LayoutView",
            "grid_template_rows": null,
            "right": null,
            "justify_content": null,
            "_view_module": "@jupyter-widgets/base",
            "overflow": null,
            "_model_module_version": "1.2.0",
            "_view_count": null,
            "flex_flow": null,
            "width": null,
            "min_width": null,
            "border": null,
            "align_items": null,
            "bottom": null,
            "_model_module": "@jupyter-widgets/base",
            "top": null,
            "grid_column": null,
            "overflow_y": null,
            "overflow_x": null,
            "grid_auto_flow": null,
            "grid_area": null,
            "grid_template_columns": null,
            "flex": null,
            "_model_name": "LayoutModel",
            "justify_items": null,
            "grid_row": null,
            "max_height": null,
            "align_content": null,
            "visibility": null,
            "align_self": null,
            "height": null,
            "min_height": null,
            "padding": null,
            "grid_auto_rows": null,
            "grid_gap": null,
            "max_width": null,
            "order": null,
            "_view_module_version": "1.2.0",
            "grid_template_areas": null,
            "object_position": null,
            "object_fit": null,
            "grid_auto_columns": null,
            "margin": null,
            "display": null,
            "left": null
          }
        }
      }
    }
  },
  "cells": [
    {
      "cell_type": "markdown",
      "metadata": {
        "id": "EkUl-n7g9n_M"
      },
      "source": [
        "# 2 практическое задание. Сегментация изображений.\n",
        "\n",
        "## Практикум на ЭВМ для 317 группы, весна 2021\n",
        "\n",
        "#### Фамилия, имя: \n",
        "\n",
        "Дата выдачи: 18 марта 00:00\n",
        "\n",
        "Мягкий дедлайн: 1 апреля 23:59 "
      ]
    },
    {
      "cell_type": "markdown",
      "metadata": {
        "id": "6DA13lfO9n_c"
      },
      "source": [
        "В этом задании вы будете решать задачу сегментации людей на фотографии с помощью нейросетевых архитектур Unet и Linknet. \n",
        "\n",
        "Ссылка на данные: https://yadi.sk/d/-ug82uwhSuLYrA"
      ]
    },
    {
      "cell_type": "markdown",
      "metadata": {
        "id": "lfgawVEl9n_d"
      },
      "source": [
        "## Загрузка данных (1 балл)"
      ]
    },
    {
      "cell_type": "markdown",
      "metadata": {
        "id": "U9Iw1snh9n_f"
      },
      "source": [
        "Для загрузки данных pytorch опирается на такую сущность, как **`Dataset`**.\n",
        "\n",
        "Этот абстрактный класс определен в `torch.utils.data.dataset`:\n",
        "\n",
        "```python\n",
        "class Dataset(object):\n",
        "    \"\"\"An abstract class representing a Dataset.\n",
        "\n",
        "    All other datasets should subclass it. All subclasses should override\n",
        "    ``__len__``, that provides the size of the dataset, and ``__getitem__``,\n",
        "    supporting integer indexing in range from 0 to len(self) exclusive.\n",
        "    \"\"\"\n",
        "\n",
        "    def __getitem__(self, index):\n",
        "        raise NotImplementedError\n",
        "\n",
        "    def __len__(self):\n",
        "        raise NotImplementedError\n",
        "\n",
        "    def __add__(self, other):\n",
        "        return ConcatDataset([self, other])\n",
        "```\n",
        "При определении нового источника данных мы создаем наследника данного класса и реализуем методы `__getitem__` и `__len__`.\n",
        "\n",
        "Пример готового такого класса — `torchvision.datasets.ImageFolder`, который позволяет создать датасет на основе директории с imagenet-подобной структурой поддиректорий (`./train/{class}` и `./val/{class}`):\n",
        "\n",
        "```python\n",
        "imagenet = torchvision.datasets.ImageFolder('path/to/imagenet_root/')\n",
        "```"
      ]
    },
    {
      "cell_type": "markdown",
      "metadata": {
        "id": "pdXssaK59n_j"
      },
      "source": [
        "Реализуйте класс PhotosDataset для выданных данных.\n",
        "\n",
        "**Внимание.** Возможно, стоит прочитать следующий пункт задания, чтобы реализация была удобной."
      ]
    },
    {
      "cell_type": "code",
      "metadata": {
        "id": "7KUCgaVY9n_m"
      },
      "source": [
        "import torch\n",
        "import torch.nn as nn\n",
        "\n",
        "import numpy as np\n",
        "import numpy.testing as npt\n",
        "import matplotlib.pyplot as plt\n",
        "\n",
        "from torchvision.models import vgg13\n",
        "from torch.utils.data import Dataset, DataLoader\n",
        "\n",
        "from torch import optim\n",
        "import zipfile\n",
        "import os\n",
        "\n",
        "from google.colab import drive\n",
        "from PIL import Image, ImageEnhance\n",
        "\n",
        "import natsort\n",
        "\n",
        "import glob\n",
        "\n",
        "import joblib\n",
        "from joblib import Parallel, delayed\n",
        "\n",
        "from tqdm.notebook import tqdm\n",
        "from IPython.display import clear_output\n",
        "\n",
        "from skimage.morphology import area_closing, area_opening"
      ],
      "execution_count": 1,
      "outputs": []
    },
    {
      "cell_type": "code",
      "metadata": {
        "id": "5kRxJItNwnqC"
      },
      "source": [
        "device = torch.device(\"cuda:0\" if torch.cuda.is_available() else \"cpu\")"
      ],
      "execution_count": 2,
      "outputs": []
    },
    {
      "cell_type": "code",
      "metadata": {
        "id": "Blu4nKFU9n_p"
      },
      "source": [
        "class PhotosDataset(Dataset):\n",
        "    def __init__(self, images_dir, target_dir=None, transforms=None):\n",
        "        self.images_dir = images_dir\n",
        "        self.target_dir = target_dir\n",
        "\n",
        "        self.transforms = transforms\n",
        "\n",
        "        self.images = self.make_dataset(self.images_dir)\n",
        "        self.target = self.make_dataset(self.target_dir)\n",
        "\n",
        "    def make_dataset(self, dir):\n",
        "        num_of_cpu = joblib.cpu_count()\n",
        "        delayed_funcs = [delayed(Image.open)(file) for file in natsort.natsorted(glob.glob(dir+'/*'))]\n",
        "        parallel_pool = Parallel(n_jobs=num_of_cpu)\n",
        "        dataset = parallel_pool(delayed_funcs)\n",
        "        return dataset\n",
        "\n",
        "    def __len__(self):\n",
        "        return len(self.images)\n",
        "                   \n",
        "    def __getitem__(self, idx):\n",
        "        image, mask = self.images[idx], self.target[idx]\n",
        "        sample = {'image': image, 'mask': mask}\n",
        "\n",
        "        if self.transforms:\n",
        "            sample = self.transforms(sample)\n",
        "\n",
        "        return sample"
      ],
      "execution_count": 3,
      "outputs": []
    },
    {
      "cell_type": "markdown",
      "metadata": {
        "id": "WiN5RlDc9n_q"
      },
      "source": [
        "## Модуль аугментации (3 балла)"
      ]
    },
    {
      "cell_type": "markdown",
      "metadata": {
        "id": "TvYp9NWO9n_r"
      },
      "source": [
        "Конструктор стандартного `ImageFolder`, принимают параметр `transform` (и иногда `target_transform`).\n",
        "\n",
        "Они служат для того, чтобы загружаемые изображения (обычно это `PIL.Image`) или таргеты преобразовывать в тензоры нужного вида.\n",
        "\n",
        "В `torchvision` входит модуль `transforms` для стандартных примеров таких преобразований. В `transforms` могут содержаться случайные преобразования, это самый простой путь для реализации аугментации данных.\n",
        "\n",
        "При определении кастомного трансформера помимо конструктора нужно реализовать лишь метод `__call__`:\n",
        "\n",
        "```python\n",
        "class HorizontalFlip(object):\n",
        "    def __init__(self, mode=0):\n",
        "        self.method = mode\n",
        "\n",
        "    def __call__(self, img):\n",
        "        \"\"\"\n",
        "        Args:\n",
        "            img (PIL.Image): Image to be flipped.\n",
        "\n",
        "        Returns:\n",
        "            PIL.Image: Randomly flipped image.\n",
        "        \"\"\"\n",
        "        if self.method:\n",
        "            return img.transpose(Image.FLIP_LEFT_RIGHT)\n",
        "        return img\n",
        "\n",
        "```\n",
        "\n",
        "С полным списком стандартных преобразований можно ознакомиться в http://pytorch.org/docs/master/torchvision/transforms.html."
      ]
    },
    {
      "cell_type": "markdown",
      "metadata": {
        "id": "9vvouKDH9n_s"
      },
      "source": [
        "В данной части вам предлагается самостояльно реализовать несколько кастомных трансформеров.\n",
        "Обратите внимание, что для некоторых трансформеров, необходимо преобразовывать и изображение, и маску, а для каких-то только изображение.\n",
        "\n",
        "Один из путей реализации:\n",
        "* реализовать декоратор, делающий любое преобразование случайным\n",
        "* реализовать декоратор, применяющий преобразование и к изображению, и к маске\n",
        "\n",
        "Список трансформеров, которые надо реализовать:"
      ]
    },
    {
      "cell_type": "markdown",
      "metadata": {
        "id": "owt3C-SE9n_t"
      },
      "source": [
        "* случайное (с вероятностью p) горизонтальное отображение (flip) изображения \n",
        "* случайное (с веротностью p) вырезание фрагмента изображения (заданного или случайного размера)\n",
        "* случайное (с вероятностью p) изменение яркости изображения (на заданную или случайную величину)\n",
        "* случайное (с веротностью p) изменение фона изображения (на изображение из заданного списка изображений)"
      ]
    },
    {
      "cell_type": "markdown",
      "metadata": {
        "id": "UaRTr2n89n_v"
      },
      "source": [
        "Добавьте случайные преобразования в ваши датасеты. Также, добавьте преобразование в tensor и нормализацию для изображения:\n",
        "\n",
        "```\n",
        "transforms.ToTensor()\n",
        "transforms.Normalize(mean=[0.485, 0.456, 0.406],\n",
        "                     std=[0.229, 0.224, 0.225])\n",
        "```"
      ]
    },
    {
      "cell_type": "code",
      "metadata": {
        "id": "z1tdHeXeX1Pk"
      },
      "source": [
        "class Compose():\n",
        "\n",
        "    def __init__(self, *transforms):\n",
        "        self.transforms = transforms\n",
        "\n",
        "    def __call__(self, sample):\n",
        "        for t in self.transforms:\n",
        "            sample = t(sample)\n",
        "        return sample\n",
        "\n",
        "class RandomHorizontalFlip():\n",
        "\n",
        "    def __init__(self, p=0.5):\n",
        "        self.p = p\n",
        "\n",
        "    def __call__(self, sample):\n",
        "\n",
        "        image, mask = sample['image'], sample['mask']\n",
        "\n",
        "        if torch.rand(1) < self.p:\n",
        "            image = image.transpose(Image.FLIP_LEFT_RIGHT)\n",
        "            mask = mask.transpose(Image.FLIP_LEFT_RIGHT)\n",
        "\n",
        "        return {'image': image, 'mask': mask}\n",
        "        \n",
        "\n",
        "class RandomErasing():\n",
        "\n",
        "    def __init__(self, p=0.5, shape=None):\n",
        "        self.p = p\n",
        "        self.shape = shape\n",
        "\n",
        "    def __call__(self, sample):\n",
        "\n",
        "        image, mask = sample['image'], sample['mask']\n",
        "\n",
        "        if torch.rand(1) < self.p:\n",
        "\n",
        "            image, mask = np.asarray(image).copy(), np.asarray(mask).copy()\n",
        "\n",
        "            i_w, i_h = image.shape[:2]\n",
        "\n",
        "            if self.shape is None:\n",
        "                self.shape = (np.random.randint(i_h), \n",
        "                              np.random.randint(i_w)) \n",
        "            else:\n",
        "                self.shape = np.clip(self.shape, [1, 1], [i_h-1, i_w-1])\n",
        "                \n",
        "            point = (np.random.randint(i_h-self.shape[0]), \n",
        "                    np.random.randint(i_w-self.shape[1]))\n",
        "\n",
        "            image[point[0]:point[0]+self.shape[0], \n",
        "                  point[1]:point[1]+self.shape[1]] = [0, 0, 0]\n",
        "\n",
        "            mask[point[0]:point[0]+self.shape[0], \n",
        "                  point[1]:point[1]+self.shape[1]] = 0\n",
        "\n",
        "            image = Image.fromarray(np.uint8(image))\n",
        "            mask = Image.fromarray(np.uint8(mask))\n",
        "\n",
        "        return {'image': image, 'mask': mask}\n",
        "\n",
        "\n",
        "class RandomAdjustBrightness():\n",
        "\n",
        "    def __init__(self, p=0.5, brightness_factor=None):\n",
        "        self.p = p\n",
        "        self.brightness_factor = brightness_factor\n",
        "\n",
        "    def __call__(self, sample):\n",
        "\n",
        "        image, mask = sample['image'], sample['mask']\n",
        "\n",
        "        if torch.rand(1) < self.p:\n",
        "            if self.brightness_factor is None:\n",
        "                self.brightness_factor = np.random.rand(1)\n",
        "\n",
        "            else:\n",
        "                self.brightness_factor = np.clip(self.brightness_factor, 0, 1) \n",
        "\n",
        "            enhancer = ImageEnhance.Brightness(image)\n",
        "            image = enhancer.enhance(self.brightness_factor)\n",
        "\n",
        "        return {'image': image, 'mask': mask}\n",
        "\n",
        "\n",
        "class RandomReplaceBackground():\n",
        "\n",
        "    def __init__(self, backgrounds, p=0.5):\n",
        "        self.p = p\n",
        "        self.backgrounds = backgrounds\n",
        "\n",
        "    def __call__(self, sample):\n",
        "\n",
        "        image, mask = sample['image'], sample['mask']\n",
        "\n",
        "        if torch.rand(1) < self.p:\n",
        "\n",
        "            image, mask = np.asarray(image).copy(), np.asarray(mask).copy()\n",
        "\n",
        "            ind = np.random.randint(len(self.backgrounds))\n",
        "            background = np.asarray(self.backgrounds[ind].copy().resize(reversed(image.shape[:2])))\n",
        "\n",
        "            image[np.where(255-mask)]= background[np.where(255-mask)]\n",
        "\n",
        "            image = Image.fromarray(np.uint8(image))\n",
        "            mask = Image.fromarray(np.uint8(mask))\n",
        "\n",
        "        return {'image': image, 'mask': mask}\n",
        "\n",
        "class ToTensor():\n",
        "    \n",
        "    def to_tensor(self, image):\n",
        "        if not isinstance(image, np.ndarray):\n",
        "            image = np.asarray(image)\n",
        "\n",
        "        if image.ndim == 2:\n",
        "            image = image[:, :, None]  \n",
        "\n",
        "        image = torch.from_numpy(image.astype(np.float32).transpose((2, 0, 1))).contiguous() / 255\n",
        "        return image\n",
        "\n",
        "    def __call__(self, sample):\n",
        "        image, mask = sample['image'], sample['mask']\n",
        "        image = self.to_tensor(image)\n",
        "        mask = self.to_tensor(mask)\n",
        "        return {'image': image, 'mask': mask}\n",
        "\n",
        "\n",
        "class Normalize():\n",
        "\n",
        "    def __init__(self, mean, std):\n",
        "        self.mean = mean\n",
        "        self.std = std\n",
        "\n",
        "    def normalize(self, image, mean, std):\n",
        "        dtype, device = image.dtype, image.device\n",
        "        mean = torch.as_tensor(mean, dtype=dtype, device=device)\n",
        "        std = torch.as_tensor(std, dtype=dtype, device=device)\n",
        "        return (image - mean[:, None, None]) / std[:, None, None]\n",
        "\n",
        "    def __call__(self, sample):\n",
        "\n",
        "        image, mask = sample['image'], sample['mask']\n",
        "        image = self.normalize(image, self.mean, self.std)\n",
        "        return {'image': image, 'mask': mask}\n"
      ],
      "execution_count": 4,
      "outputs": []
    },
    {
      "cell_type": "markdown",
      "metadata": {
        "id": "soaHRVGGVi1d"
      },
      "source": [
        "Произведем загрузку датасета."
      ]
    },
    {
      "cell_type": "code",
      "metadata": {
        "id": "Giryp-cbUOJR",
        "colab": {
          "base_uri": "https://localhost:8080/"
        },
        "outputId": "6623ea7e-9255-4679-ec29-18777b87498a"
      },
      "source": [
        "drive.mount('/content/drive')"
      ],
      "execution_count": 5,
      "outputs": [
        {
          "output_type": "stream",
          "text": [
            "Drive already mounted at /content/drive; to attempt to forcibly remount, call drive.mount(\"/content/drive\", force_remount=True).\n"
          ],
          "name": "stdout"
        }
      ]
    },
    {
      "cell_type": "code",
      "metadata": {
        "id": "--EngKiLUTqw"
      },
      "source": [
        "zip_file = '/content/drive/My Drive/people_data.zip'\n",
        "z = zipfile.ZipFile(zip_file, 'r')\n",
        "z.extractall()"
      ],
      "execution_count": 6,
      "outputs": []
    },
    {
      "cell_type": "code",
      "metadata": {
        "id": "ROF_YLxLbAag"
      },
      "source": [
        "hflip = RandomHorizontalFlip()\n",
        "erase = RandomErasing()\n",
        "bright = RandomAdjustBrightness()\n",
        "to_tens = ToTensor()\n",
        "norm = Normalize(mean=[0.485, 0.456, 0.406],\n",
        "                 std=[0.229, 0.224, 0.225])\n",
        "\n",
        "\n",
        "img1 = Image.open('/content/people_data/train/1.jpg')\n",
        "img2 = Image.open('/content/people_data/train/2.jpg')\n",
        "img3 = Image.open('/content/people_data/train/3.jpg')\n",
        "\n",
        "backgrounds = (img1, img2, img3)\n",
        "repback = RandomReplaceBackground(backgrounds)\n",
        "\n",
        "composed = Compose(bright, to_tens, norm)"
      ],
      "execution_count": 7,
      "outputs": []
    },
    {
      "cell_type": "code",
      "metadata": {
        "id": "fTdenYiY9n_w",
        "colab": {
          "base_uri": "https://localhost:8080/"
        },
        "outputId": "6edb4935-428f-4578-8e16-8cb16e4e3f3b"
      },
      "source": [
        "%%time\n",
        "\n",
        "DATA_PATH = '/content/people_data/'\n",
        "\n",
        "train_dataset = PhotosDataset(\n",
        "      images_dir=DATA_PATH + 'train/',\n",
        "      target_dir=DATA_PATH + 'train_mask/', \n",
        "      transforms=composed\n",
        ")\n",
        "\n",
        "test_dataset = PhotosDataset(\n",
        "    images_dir=DATA_PATH + 'test/',\n",
        "    target_dir=DATA_PATH + 'test_mask/',\n",
        "    transforms=composed\n",
        ")"
      ],
      "execution_count": 8,
      "outputs": [
        {
          "output_type": "stream",
          "text": [
            "CPU times: user 927 ms, sys: 543 ms, total: 1.47 s\n",
            "Wall time: 3.79 s\n"
          ],
          "name": "stdout"
        }
      ]
    },
    {
      "cell_type": "markdown",
      "metadata": {
        "id": "7EYshuZv9n_x"
      },
      "source": [
        "Функция для отображения изображения:"
      ]
    },
    {
      "cell_type": "code",
      "metadata": {
        "id": "n72slsiVk44V"
      },
      "source": [
        "def show_idx_image(sample, transform=None, title='Without transformations'):\n",
        "\n",
        "    if transform is not None:\n",
        "        sample = transform(sample)\n",
        "        \n",
        "    image, mask = sample['image'], sample['mask']\n",
        "\n",
        "    image_to_show = image.transpose(0, 1).transpose(1, 2).numpy()\n",
        "    image_to_show = (image_to_show * np.array([0.229, 0.224, 0.225])) + np.array([0.485, 0.456, 0.406])\n",
        "    image_to_show = np.clip(image_to_show, 0, 1)\n",
        "\n",
        "    mask_to_show = mask[0].numpy()\n",
        "\n",
        "    fig, ax = plt.subplots(1, 3)\n",
        "    fig.set_figwidth(7)\n",
        "    fig.set_figheight(3)\n",
        "\n",
        "    plt.subplot(1, 3, 1)\n",
        "    plt.imshow(image_to_show)\n",
        "    plt.axis('off')\n",
        "\n",
        "    plt.subplot(1, 3, 2)\n",
        "    plt.imshow(mask_to_show)\n",
        "    plt.axis('off')\n",
        "\n",
        "    plt.subplot(1, 3, 3)\n",
        "    image_mask_to_show = image_to_show.copy()\n",
        "    image_mask_to_show[np.where(1-mask_to_show)] = [0, 0, 0]\n",
        "    plt.imshow(image_mask_to_show)\n",
        "    plt.axis('off')\n",
        "\n",
        "    plt.suptitle(title)"
      ],
      "execution_count": 9,
      "outputs": []
    },
    {
      "cell_type": "markdown",
      "metadata": {
        "id": "ver1N8jS9n_z"
      },
      "source": [
        "Отобразите несколько изображений и масок, на которых будет видна правильная работа вашего модуля аугментации данных."
      ]
    },
    {
      "cell_type": "markdown",
      "metadata": {
        "id": "JET4hIwaAIpP"
      },
      "source": [
        "Загрузим изображения отдельно (Применять будем все трансформации). Не вижу смысла для проверки работоспособности беспокоить весь датасет."
      ]
    },
    {
      "cell_type": "code",
      "metadata": {
        "id": "DLQtcBU64QZe"
      },
      "source": [
        "test_img = Image.open('/content/people_data/test/1390.jpg')\n",
        "test_mask = Image.open('/content/people_data/test_mask/1390.png')\n",
        "test_sample = {'image': test_img, 'mask': test_mask}"
      ],
      "execution_count": 10,
      "outputs": []
    },
    {
      "cell_type": "code",
      "metadata": {
        "colab": {
          "base_uri": "https://localhost:8080/",
          "height": 337
        },
        "id": "ME19h7qg9Bmc",
        "outputId": "ffc977d9-98dc-4a85-d611-6e9894f769e4"
      },
      "source": [
        "test_img"
      ],
      "execution_count": 11,
      "outputs": [
        {
          "output_type": "execute_result",
          "data": {
            "image/png": "[encoded data removed]",
            "text/plain": [
              "<PIL.JpegImagePlugin.JpegImageFile image mode=RGB size=240x320 at 0x7F8EED444090>"
            ]
          },
          "metadata": {
            "tags": []
          },
          "execution_count": 11
        }
      ]
    },
    {
      "cell_type": "markdown",
      "metadata": {
        "id": "Qhwexw_l-okt"
      },
      "source": [
        "Для работоспособности случайных трансформаций проверим их с p=0 и с p=1, между этими наблюдениями обязательно будет разница в одну трансформацию при любом запуске. Фактически, избегаем случайности. "
      ]
    },
    {
      "cell_type": "code",
      "metadata": {
        "id": "eH1wab6G4y8C"
      },
      "source": [
        "hflip_p_0 = RandomHorizontalFlip(p=0)\n",
        "erase_p_0 = RandomErasing(p=0, shape=(100, 100))\n",
        "bright_p_0 = RandomAdjustBrightness(p=0, brightness_factor=0.5)\n",
        "\n",
        "hflip_p_1 = RandomHorizontalFlip(p=1)\n",
        "erase_p_1 = RandomErasing(p=1, shape=(100, 100))\n",
        "bright_p_1 = RandomAdjustBrightness(p=1, brightness_factor=0.5)\n",
        "\n",
        "img1 = Image.open('/content/people_data/train/1.jpg')\n",
        "img2 = Image.open('/content/people_data/train/2.jpg')\n",
        "img3 = Image.open('/content/people_data/train/3.jpg')\n",
        "\n",
        "backgrounds = (img1, img2, img3)\n",
        "repback_p_0 = RandomReplaceBackground(backgrounds, p=0)\n",
        "repback_p_1 = RandomReplaceBackground(backgrounds, p=1)\n",
        "\n",
        "to_tens = ToTensor()\n",
        "norm = Normalize(mean=[0.485, 0.456, 0.406],\n",
        "                 std=[0.229, 0.224, 0.225])\n",
        "\n",
        "composed_p_0 = Compose(hflip_p_0, erase_p_0, bright_p_0, repback_p_0, to_tens, norm)\n",
        "composed_p_1 = Compose(hflip_p_1, erase_p_1, bright_p_1, repback_p_1, to_tens, norm)"
      ],
      "execution_count": 12,
      "outputs": []
    },
    {
      "cell_type": "code",
      "metadata": {
        "colab": {
          "base_uri": "https://localhost:8080/",
          "height": 211
        },
        "id": "gvAwmJEscJQj",
        "outputId": "d8a3470f-e0f4-4af8-bf68-879eb538b85d"
      },
      "source": [
        "show_idx_image(test_sample, transform=composed_p_0)"
      ],
      "execution_count": 13,
      "outputs": [
        {
          "output_type": "display_data",
          "data": {
            "image/png": "[encoded data removed]",
            "text/plain": [
              "<Figure size 504x216 with 3 Axes>"
            ]
          },
          "metadata": {
            "tags": [],
            "needs_background": "light"
          }
        }
      ]
    },
    {
      "cell_type": "code",
      "metadata": {
        "colab": {
          "base_uri": "https://localhost:8080/",
          "height": 211
        },
        "id": "EGDYr8l--Kfg",
        "outputId": "798f41f0-5901-4ec8-9900-2eb0268d9ff0"
      },
      "source": [
        "show_idx_image(test_sample, transform=composed_p_1, title='With all transformations')"
      ],
      "execution_count": 14,
      "outputs": [
        {
          "output_type": "display_data",
          "data": {
            "image/png": "[encoded data removed]",
            "text/plain": [
              "<Figure size 504x216 with 3 Axes>"
            ]
          },
          "metadata": {
            "tags": [],
            "needs_background": "light"
          }
        }
      ]
    },
    {
      "cell_type": "markdown",
      "metadata": {
        "id": "4poDUonN-eap"
      },
      "source": [
        "Как видно, все нужные трансформации работают:\n",
        "- случайное отображение выполняется\n",
        "- случайное вырезание фрагмента работает\n",
        "- случайная замена фона работает \n",
        "- случайное изменение яркости работает\n",
        "\n",
        "Из неочевидного:\n",
        "- перевод в тензор работает\n",
        "- нормализация работает \n",
        "\n",
        "Ибо без работы этих преобразований не получилось бы отобразить результат с помощью функции ```show_idx_image```"
      ]
    },
    {
      "cell_type": "markdown",
      "metadata": {
        "id": "JWz7kx3z9n_1"
      },
      "source": [
        "## Загрузчики"
      ]
    },
    {
      "cell_type": "markdown",
      "metadata": {
        "id": "-0tKkbOv9n_2"
      },
      "source": [
        "При обучении сети удобнее работать не с датасетами, а с загрузчиками. Загрузчики создаются на основе датасета и позволяют итерироваться по батчам из него.\n",
        "\n",
        "Обратите внимание на параметры DataLoader. При num_workers > 1, батчи готовятся (загружаются картинки, обрабатываются и т.д.) сразу в нескольких фоновых процессах. С помощью параметра shuffle можно подавать картинки на обучение в случайном порядке."
      ]
    },
    {
      "cell_type": "code",
      "metadata": {
        "id": "ptv8rfF99n_3"
      },
      "source": [
        "train_data_loader = DataLoader(train_dataset, batch_size=8, shuffle=True)\n",
        "test_data_loader = DataLoader(test_dataset, batch_size=8)"
      ],
      "execution_count": 15,
      "outputs": []
    },
    {
      "cell_type": "markdown",
      "metadata": {
        "id": "2dtsLJ-P9n_4"
      },
      "source": [
        "## DiceLoss (1 балл)"
      ]
    },
    {
      "cell_type": "markdown",
      "metadata": {
        "id": "wdF_-GKq9n_4"
      },
      "source": [
        "Функция потерь реализовывается как и все стандартные нейронные модули в pytorch, через nn.Module. В ячейке ниже вам предлагается реализовать фукцию потерь dice (аналог меры Джаккарда).\n",
        "\n",
        "Результат dice loss определим как:\n",
        "\n",
        "$$\n",
        "1 - \\frac{2\\sum_{i, j}a_{ij}b_{ij}}{\\sum_{ij}(a_{ij} + b_{ij} + \\varepsilon)}\n",
        "$$\n",
        "\n",
        "где $a_{ij} \\in [0, 1]$ — предсказанная вероятность нахождения человека в пикселе изображения, $b_{ij}$ — разметка для пикселя изображения."
      ]
    },
    {
      "cell_type": "code",
      "metadata": {
        "id": "zluk-jA79n_5"
      },
      "source": [
        "class DiceLoss(nn.Module):\n",
        "    def __init__(self, eps=1e-7, reduction=None, with_logits=True):\n",
        "        super().__init__()\n",
        "        self.eps = eps\n",
        "        self.reduction = reduction\n",
        "        self.with_logits = with_logits\n",
        "        \n",
        "    def forward(self, logits, true_labels):\n",
        "        true_labels = true_labels.long()\n",
        "        \n",
        "        if self.with_logits:\n",
        "            logits = torch.sigmoid(logits)\n",
        "        \n",
        "        logits = logits.contiguous().view(logits.shape[0], -1)\n",
        "        true_labels = true_labels.contiguous().view(true_labels.shape[0], -1)\n",
        "\n",
        "        num = torch.sum(torch.mul(logits, true_labels), dim=1)\n",
        "        den = torch.sum(logits + true_labels, dim=1) + self.eps\n",
        "\n",
        "        loss = 1 - 2 * num / den\n",
        "        \n",
        "        if self.reduction == 'sum':\n",
        "            loss_value = loss.sum()\n",
        "        elif self.reduction == 'mean':\n",
        "            loss_value = loss.mean()\n",
        "        elif self.reduction is None:\n",
        "            loss_value = loss\n",
        "            \n",
        "        return loss_value"
      ],
      "execution_count": 16,
      "outputs": []
    },
    {
      "cell_type": "markdown",
      "metadata": {
        "id": "IcVL0ihJ9n_5"
      },
      "source": [
        "Проверка реализации:"
      ]
    },
    {
      "cell_type": "code",
      "metadata": {
        "id": "R726j3Ks9n_7"
      },
      "source": [
        "logits = torch.tensor([\n",
        "    [[0, 0.5], [0.5, 1]],\n",
        "    [[0.1, 0.1], [0, 0]],\n",
        "])\n",
        "\n",
        "target = torch.tensor([\n",
        "    [[0, 1], [1, 1]],\n",
        "    [[1, 0], [0, 1]],\n",
        "])\n",
        "\n",
        "losses = DiceLoss(with_logits=False, reduction=None, eps=1e-7)(logits, target)\n",
        "npt.assert_almost_equal(losses.numpy(), np.array([0.2, 0.90909]), decimal=4)\n",
        "\n",
        "loss = DiceLoss(with_logits=False, reduction='mean', eps=1e-7)(logits, target)\n",
        "npt.assert_almost_equal(float(loss.numpy()), 0.554545, decimal=4)\n",
        "\n",
        "loss = DiceLoss(with_logits=False, reduction='sum', eps=1e-7)(logits, target)\n",
        "npt.assert_almost_equal(float(loss.numpy()), 1.10909, decimal=4)"
      ],
      "execution_count": 17,
      "outputs": []
    },
    {
      "cell_type": "markdown",
      "metadata": {
        "id": "1PDgYivc9n_7"
      },
      "source": [
        "## Unet (2 балла)"
      ]
    },
    {
      "cell_type": "markdown",
      "metadata": {
        "id": "gREYfKx99n_8"
      },
      "source": [
        "Для решения задачи сегментации будем использовать UNet (https://arxiv.org/pdf/1505.04597.pdf) с энкодером из первых блоков предобученного VGG13. Архитектура сети реализована за вас ниже.\n",
        "\n",
        "Энкодер:"
      ]
    },
    {
      "cell_type": "code",
      "metadata": {
        "id": "RRYuEL469n_8"
      },
      "source": [
        "class VGG13Encoder(torch.nn.Module):\n",
        "    def __init__(self, num_blocks, pretrained=True):\n",
        "        super().__init__()\n",
        "        self.num_blocks = num_blocks\n",
        "        self.blocks = nn.ModuleList()\n",
        "        # Obtaining pretrained VGG model from torchvision.models and\n",
        "        # copying all layers except for max pooling.\n",
        "        feature_extractor = vgg13(pretrained=pretrained).features\n",
        "        for i in range(self.num_blocks):\n",
        "            self.blocks.append(\n",
        "                torch.nn.Sequential(*[feature_extractor[j]\n",
        "                                      for j in range(i * 5, i * 5 + 4)]))\n",
        "\n",
        "    def forward(self, x):\n",
        "        activations = []\n",
        "        for i in range(self.num_blocks):\n",
        "            x = self.blocks[i](x)\n",
        "            activations.append(x)\n",
        "            if i != self.num_blocks - 1:\n",
        "                x = torch.functional.F.max_pool2d(x, kernel_size=2, stride=2)\n",
        "        return activations"
      ],
      "execution_count": 18,
      "outputs": []
    },
    {
      "cell_type": "markdown",
      "metadata": {
        "id": "ib9yTnWQ9n_9"
      },
      "source": [
        "Декодер:"
      ]
    },
    {
      "cell_type": "code",
      "metadata": {
        "id": "8CdMP35i9n_9"
      },
      "source": [
        "class DecoderBlock(torch.nn.Module):\n",
        "    def __init__(self, out_channels):\n",
        "        super().__init__()\n",
        "\n",
        "        self.upconv = torch.nn.Conv2d(\n",
        "            in_channels=out_channels * 2, out_channels=out_channels,\n",
        "            kernel_size=3, padding=1, dilation=1\n",
        "        )\n",
        "        self.conv1 = torch.nn.Conv2d(\n",
        "            in_channels=out_channels * 2, out_channels=out_channels,\n",
        "            kernel_size=3, padding=1, dilation=1\n",
        "        )\n",
        "        self.conv2 = torch.nn.Conv2d(\n",
        "            in_channels=out_channels, out_channels=out_channels,\n",
        "            kernel_size=3, padding=1, dilation=1\n",
        "        )\n",
        "        self.relu = nn.ReLU()\n",
        "    def forward(self, down, left):\n",
        "        x = torch.nn.functional.interpolate(down, scale_factor=2)\n",
        "        x = self.upconv(x)\n",
        "        x = self.relu(self.conv1(torch.cat([left, x], 1)))\n",
        "        x = self.relu(self.conv2(x))\n",
        "        return x"
      ],
      "execution_count": 19,
      "outputs": []
    },
    {
      "cell_type": "code",
      "metadata": {
        "id": "n1z9k_TY9n_-"
      },
      "source": [
        "class Decoder(nn.Module):\n",
        "    def __init__(self, num_filters, num_blocks):\n",
        "        super().__init__()\n",
        "\n",
        "        for i in range(num_blocks):\n",
        "            self.add_module(f'block{num_blocks - i}', DecoderBlock(num_filters * 2**i))\n",
        "\n",
        "    def forward(self, acts):\n",
        "        up = acts[-1]\n",
        "        for i, left in enumerate(acts[-2::-1]):\n",
        "            up = self.__getattr__(f'block{i + 1}')(up, left)\n",
        "        return up"
      ],
      "execution_count": 20,
      "outputs": []
    },
    {
      "cell_type": "markdown",
      "metadata": {
        "id": "oNJO6Zci9n_-"
      },
      "source": [
        "Сеть Unet:"
      ]
    },
    {
      "cell_type": "code",
      "metadata": {
        "id": "afBDqOKI9n_-"
      },
      "source": [
        "class UNet(torch.nn.Module):\n",
        "    def __init__(self, num_classes=1, num_filters=64, num_blocks=4):\n",
        "        super().__init__()\n",
        "        self.encoder = VGG13Encoder(num_blocks=num_blocks)\n",
        "        self.decoder = Decoder(num_filters=64, num_blocks=num_blocks - 1)\n",
        "        self.final = torch.nn.Conv2d(\n",
        "            in_channels=num_filters, out_channels=num_classes, kernel_size=1\n",
        "        )\n",
        "\n",
        "    def forward(self, x):\n",
        "        acts = self.encoder(x)\n",
        "        x = self.decoder(acts)\n",
        "        x = self.final(x)\n",
        "        return x"
      ],
      "execution_count": 21,
      "outputs": []
    },
    {
      "cell_type": "markdown",
      "metadata": {
        "id": "KH-O7f-h9n__"
      },
      "source": [
        "Функция для оценивания качества сети:"
      ]
    },
    {
      "cell_type": "code",
      "metadata": {
        "id": "8_Ud_DRHQnpG"
      },
      "source": [
        "def predict_img(net,\n",
        "                full_img,\n",
        "                device,\n",
        "                scale_factor=1,\n",
        "                out_threshold=0.5):\n",
        "    net.eval()\n",
        "\n",
        "    img = torch.from_numpy(BasicDataset.preprocess(full_img, scale_factor))\n",
        "\n",
        "    img = img.unsqueeze(0)\n",
        "    img = img.to(device=device, dtype=torch.float32)\n",
        "\n",
        "    with torch.no_grad():\n",
        "        output = net(img)\n",
        "\n",
        "        if net.n_classes > 1:\n",
        "            probs = F.softmax(output, dim=1)\n",
        "        else:\n",
        "            probs = torch.sigmoid(output)\n",
        "\n",
        "        probs = probs.squeeze(0)\n",
        "\n",
        "        tf = transforms.Compose(\n",
        "            [\n",
        "                transforms.ToPILImage(),\n",
        "                transforms.Resize(full_img.size[1]),\n",
        "                transforms.ToTensor()\n",
        "            ]\n",
        "        )\n",
        "\n",
        "        probs = tf(probs.cpu())\n",
        "        full_mask = probs.squeeze().cpu().numpy()\n",
        "\n",
        "    return full_mask > out_threshold"
      ],
      "execution_count": 22,
      "outputs": []
    },
    {
      "cell_type": "code",
      "metadata": {
        "id": "35XXX6T59oAA"
      },
      "source": [
        "def evaluate_net(net, testloader):\n",
        "\n",
        "    net = net.eval()\n",
        "    correct = 0.\n",
        "    total = 0.\n",
        "    \n",
        "    with torch.no_grad():\n",
        "        for data in testloader:\n",
        "            images, labels = data['image'], data['mask']\n",
        "            \n",
        "            images = images.to(device)\n",
        "            labels = labels.to(device)\n",
        "            \n",
        "            outputs = net(images).to(device)\n",
        "            preds = (torch.sigmoid(outputs) > 0.5).type(torch.float32)\n",
        "            total += labels.size(0)\n",
        "\n",
        "            correct += (preds==labels).type(torch.float32).mean()\n",
        "    \n",
        "    correct = correct / total\n",
        "    label = labels[0]\n",
        "    pred = preds[0]\n",
        "    return correct, label, pred"
      ],
      "execution_count": 23,
      "outputs": []
    },
    {
      "cell_type": "code",
      "metadata": {
        "id": "R7p8AtTD9ko6"
      },
      "source": [
        "def train(net, trainloader, testloader, opt, \n",
        "              criterion, \n",
        "              num_epochs=2, verbose_num_iters=10):\n",
        "\n",
        "    net.train()\n",
        "    loss_trace = []\n",
        "    correct_trace = []\n",
        "\n",
        "    iter_i = 0\n",
        "    for epoch_i in range(num_epochs):        \n",
        "        for batch in trainloader:\n",
        "            images, labels = batch['image'], batch['mask']\n",
        "            \n",
        "            images = images.to(device)\n",
        "            labels = labels.to(device)\n",
        "\n",
        "            outputs = net(images).to(device)\n",
        "            opt.zero_grad()\n",
        "\n",
        "            loss = criterion(outputs, labels)\n",
        "            preds = (torch.sigmoid(outputs) > 0.5).type(torch.float32)\n",
        "            correct = (preds==labels).type(torch.float32).mean()\n",
        "\n",
        "            loss.backward()\n",
        "            opt.step()\n",
        "\n",
        "            loss_trace.append((iter_i, loss.item()))\n",
        "            correct_trace.append((iter_i, correct.item()))\n",
        "        \n",
        "            iter_i += 1\n",
        "\n",
        "            if iter_i % verbose_num_iters == 0:\n",
        "                clear_output(wait=True)\n",
        "                plt.figure(figsize=(22, 5))\n",
        "                \n",
        "                plt.subplot(1, 4, 1)\n",
        "                plt.xlabel('Iteration')\n",
        "                plt.ylabel('Loss')\n",
        "                plt.plot([p[0] for p in loss_trace], \n",
        "                         [p[1] for p in loss_trace])\n",
        "\n",
        "                plt.subplot(1, 4, 2)\n",
        "                plt.xlabel('Iteration')\n",
        "                plt.ylabel('Accuracy')\n",
        "                plt.plot([p[0] for p in correct_trace], \n",
        "                         [p[1] for p in correct_trace], color='orange')\n",
        "                    \n",
        "                with torch.no_grad():\n",
        "                    label = labels[0].cpu().detach().numpy()[0]\n",
        "                    pred = preds[0].cpu().detach().numpy()[0] \n",
        "\n",
        "                    plt.subplot(1, 4, 3)\n",
        "                    plt.imshow(label)\n",
        "                    plt.title('true mask')\n",
        "                    plt.axis('off')\n",
        "\n",
        "                    plt.subplot(1, 4, 4)\n",
        "                    plt.imshow(pred)\n",
        "                    plt.title('predict mask')\n",
        "                    plt.axis('off')\n",
        "\n",
        "                plt.show()\n",
        "    return loss_trace[-1][1], correct_trace[-1][1]"
      ],
      "execution_count": 24,
      "outputs": []
    },
    {
      "cell_type": "code",
      "metadata": {
        "colab": {
          "base_uri": "https://localhost:8080/",
          "height": 367
        },
        "id": "cOtYWkroEloP",
        "outputId": "58042497-0a55-4c56-e9be-0002c343d2fc"
      },
      "source": [
        "net = UNet().to(device)\n",
        "net = nn.DataParallel(net)\n",
        "opt = optim.Adam(net.parameters(), lr=1e-04)\n",
        "\n",
        "criterion = nn.BCEWithLogitsLoss()\n",
        "loss, accuracy = train(net, train_data_loader, test_data_loader, opt, criterion, verbose_num_iters=3)\n",
        "print(f'Loss: {loss:.3f}, Accuracy: {accuracy:.3f}')"
      ],
      "execution_count": 25,
      "outputs": [
        {
          "output_type": "display_data",
          "data": {
            "image/png": "[encoded data removed]",
            "text/plain": [
              "<Figure size 1584x360 with 4 Axes>"
            ]
          },
          "metadata": {
            "tags": [],
            "needs_background": "light"
          }
        },
        {
          "output_type": "stream",
          "text": [
            "Loss: 0.216, Accuracy: 0.909\n"
          ],
          "name": "stdout"
        }
      ]
    },
    {
      "cell_type": "code",
      "metadata": {
        "colab": {
          "base_uri": "https://localhost:8080/",
          "height": 367
        },
        "id": "XPr4JQ2TY1lh",
        "outputId": "be73b5eb-476e-47f9-8ed8-dc27a6b309ca"
      },
      "source": [
        "net = UNet().to(device)\n",
        "net = nn.DataParallel(net)\n",
        "opt = optim.Adam(net.parameters(), lr=1e-04)\n",
        "\n",
        "criterion = DiceLoss(reduction='mean')\n",
        "loss, accuracy = train(net, train_data_loader, test_data_loader, opt, criterion, verbose_num_iters=3)\n",
        "print(f'Loss: {loss:.3f}, Accuracy: {accuracy:.3f}')"
      ],
      "execution_count": 26,
      "outputs": [
        {
          "output_type": "display_data",
          "data": {
            "image/png": "[encoded data removed]",
            "text/plain": [
              "<Figure size 1584x360 with 4 Axes>"
            ]
          },
          "metadata": {
            "tags": [],
            "needs_background": "light"
          }
        },
        {
          "output_type": "stream",
          "text": [
            "Loss: 0.033, Accuracy: 0.964\n"
          ],
          "name": "stdout"
        }
      ]
    },
    {
      "cell_type": "code",
      "metadata": {
        "id": "X52AnwC1eBFd"
      },
      "source": [
        "class LossComposs(nn.Module):\n",
        "    def __init__(self, loss1, loss2, w=(0.5, 0.5)):\n",
        "        super().__init__()\n",
        "        self.loss1 = loss1\n",
        "        self.loss2 = loss2\n",
        "        self.w = w\n",
        "        \n",
        "    def forward(self, logits, true_labels):\n",
        "        res1 = self.loss1(logits, true_labels).float()\n",
        "        res2 = self.loss2(logits, true_labels).float()\n",
        "        return self.w[0]*res1 + self.w[1]*res2"
      ],
      "execution_count": 27,
      "outputs": []
    },
    {
      "cell_type": "code",
      "metadata": {
        "colab": {
          "base_uri": "https://localhost:8080/",
          "height": 367
        },
        "id": "CKE8EpNzdeFh",
        "outputId": "e6604751-3ac7-45a8-90b1-8cdd0c5b017d"
      },
      "source": [
        "net = UNet().to(device)\n",
        "net = nn.DataParallel(net)\n",
        "opt = optim.Adam(net.parameters(), lr=1e-04)\n",
        "\n",
        "loss1 = DiceLoss(reduction='mean')\n",
        "loss2 = nn.BCEWithLogitsLoss()\n",
        "\n",
        "criterion = LossComposs(loss1, loss2)\n",
        "loss, accuracy = train(net, train_data_loader, test_data_loader, opt, criterion, verbose_num_iters=3)\n",
        "print(f'Loss: {loss:.3f}, Accuracy: {accuracy:.3f}')"
      ],
      "execution_count": 28,
      "outputs": [
        {
          "output_type": "display_data",
          "data": {
            "image/png": "[encoded data removed]",
            "text/plain": [
              "<Figure size 1584x360 with 4 Axes>"
            ]
          },
          "metadata": {
            "tags": [],
            "needs_background": "light"
          }
        },
        {
          "output_type": "stream",
          "text": [
            "Loss: 0.113, Accuracy: 0.943\n"
          ],
          "name": "stdout"
        }
      ]
    },
    {
      "cell_type": "markdown",
      "metadata": {
        "id": "0dGfPsqEsc5T"
      },
      "source": [
        "В целом видно, что Dice дает более хорошие результаты. Во-первых, качество в эксперименте с Dice выше, а ошибка меньше, нежели в двух других. Последний эксперимент подтверждает эту теорию, так как даже среднее между кросс-энтропией и dice loss лучше справляется с обучением, недели чистая энтропия."
      ]
    },
    {
      "cell_type": "markdown",
      "metadata": {
        "id": "_fRY4j9P9oAA"
      },
      "source": [
        "Теперь применим сеть на практике!\n",
        "\n",
        "Обучите сеть на обучающей выборке и протестируйте качество на тестовой выборке. \n",
        "\n",
        "Сначала при обучении используйте только кросс-энтропию (torch.nn.BCEWithLogitsLoss будет более удобна для бинарного случая). Зафиксируйте результат.\n",
        "\n",
        "Сравните между собой несколько стратегий оптимизации (только кросс-энтропия, только dice loss, сумма двух лоссов с весами). \n",
        "\n",
        "Для всех экспериментов отобразите графики функции потерь и качества за время обучения. Выведите получившиеся маски для нескольких изображений из датасета. Сделайте выводы."
      ]
    },
    {
      "cell_type": "markdown",
      "metadata": {
        "id": "73pw65O39oAD"
      },
      "source": [
        "## LinkNet (2 балла)"
      ]
    },
    {
      "cell_type": "markdown",
      "metadata": {
        "id": "iNF0uF6M9oAD"
      },
      "source": [
        "Реализуйте архитектуру LinkNet с использованием энкодера, основанного на VGG13. Архитектура похожа на Unet, но вместо конкатенации слоёв используются skip-connections. Для реализации достаточно переписать структуру декодировщика из предыдущего пункта.\n",
        "\n",
        "https://arxiv.org/pdf/1707.03718.pdf\n",
        "\n",
        "Обучите сеть и проведите анализ согласно предыдущему пункту."
      ]
    },
    {
      "cell_type": "markdown",
      "metadata": {
        "id": "9Gml786P9oAF"
      },
      "source": [
        "Обучите LinkNet. Сравните LinkNet и Unet по качеству и скорости работы. Сделайте выводы. "
      ]
    },
    {
      "cell_type": "markdown",
      "metadata": {
        "id": "x5398Hq69oAF"
      },
      "source": [
        "## Теоретические вопросы (1 балл)"
      ]
    },
    {
      "cell_type": "markdown",
      "metadata": {
        "id": "Uc2zwMra9oAG"
      },
      "source": [
        "### Вопрос 1.\n",
        "* Сформулируйте два предположения о структуре входных данных, на которые опирается архитектура сверточных сетей. \n",
        "* Какие преимущества дает использование сверток в случае, если эти предположения верные? \n",
        "* Приведите пример входных данных, когда эти предположения не выполняются."
      ]
    },
    {
      "cell_type": "markdown",
      "metadata": {
        "id": "tTdpgoXo9oAH"
      },
      "source": [
        "- Основные предположения\n",
        "\n",
        "Свёрточные сети опираются на предположение о том, что внутри данных существуют некоторые отделимые признаки, которые могут встречаться в любой части данных. Например, кошачья мордочка может встретиться на любой части изображения или фрагмент из нескольких слов - в любой части текста. Признаки отделяются свёртками по скользящему окну, и чем больше получившаяся для элемента величина - тем сильнее окно похоже на матрицу признака в смысле скалярного произведения. Как правило, свёрточные слои объединяются со слоями пространственного объединения, позволяющими получить инвариантную относительно смещений в некоторой окрестности статистику.\n",
        "\n",
        "Исходя из этих принципов наиболее важным можно назвать следующие два фактора:\n",
        "```\n",
        "1. В данных существуют важные признаки, отождествляемые с ядрами свёртки\n",
        "2. Одни и те же признаки могут находится в любой части данных.\n",
        "```\n",
        "- Преимущества свёрток\n",
        "\n",
        "```\n",
        "1. Разреженные взаимодействия - у свёрточных сетей существенно меньше весов\n",
        "2. Разделение параметров - одна и та же свёртка используется по всему изображению\n",
        "3. Инвариантность относительно сдвига\n",
        "```\n",
        "- Когда предположения нарушаются?\n",
        "\n",
        "Данные не имеют локальных признаков - например, задача банковского скоринга. Другой причиной не использовать свёрточные сети может быть отсутствие пространственной инвариантности внутри данных - пусть в данных важна очередность признаков: последовательность *признак_1*  -> *признак_2* может быть отличной от *признак_2* -> *признак_1*. Например, существует датасет с изображениями частей лиц, расположенных очевидно неправильно относительно друг друга для человека, на котором свёрточные сети уверенно детектируют людей."
      ]
    },
    {
      "cell_type": "markdown",
      "metadata": {
        "id": "ii8aFAE19oAH"
      },
      "source": [
        "### Вопрос 2\n",
        "Пусть дано множество 1-D входов ${x^{(i)} \\in \\mathbb{R}^{100}}$. \n",
        "\n",
        "Рассмотрим полносвязный слой ${f(\\cdot)}$, заданный как ${f(x^{(i)}) = \\sigma(Wx^{(i)})}$, где ${W}$ - матрица весов размерности ${1000\\times 100}$ и ${\\sigma(\\cdot)}$ поэлементая функция активации. \n",
        "\n",
        "Рассмотрим также сверточный слой ${g(\\cdot)}$ с десятью картами признаков: ${g(x^{(i)}) = \\sigma([z_1, z_2,...,z_{10}])}$, где ${z_j = x^{(i)}\\ast w_j}$ для некоторого ядра свертки ${w_j}$ с размером 3 и паддингом 1. Для ${f(\\cdot)}$ и ${g(\\cdot)}$ напишите: \n",
        "\n",
        "1. Размерность выходного пространства. \n",
        "2. Количество обучаемых параметров. \n",
        "3. Число операций при выполнении forward pass (при условии наивной реализации перемножения матриц и вычисления сверток)."
      ]
    },
    {
      "cell_type": "markdown",
      "metadata": {
        "id": "DHWWFkfp9oAH"
      },
      "source": [
        "- Размерность выходного пространства\n",
        "\n",
        "Для полносвязного слоя размерность равна результату умножения матрицы на вектор:\n",
        "$$\n",
        "W_{1000 \\times 100} \\cdot x_{100\\times1} = y_{1000\\times1}\n",
        "$$\n",
        "Размерность равна 1000. \n",
        "\n",
        "Для свёрточной сети размерность равна произведению числа окон с учётом паддинга на число различных свёрток:\n",
        "$$\n",
        "(1 + 98 + 1) * 10 = 1000\n",
        "$$\n",
        "__Размерности выходных пространств совпадают.__\n",
        "\n",
        "- Количество обучаемых параметров\n",
        "\n",
        "Для полносвязной сети это число параметров в матрице $W$ - $10^5$. Поскольку по условию\n",
        "$$\n",
        "f(x) = \\sigma(Wx)\n",
        "$$\n",
        "bias-ом ($b$) можно пренебречь.\n",
        "\n",
        "Для свёрточной сети число параметров - это размер ядра свёртки на число свёрток, то есть $3 * 10 = 30$. Здесь также пренебрегааем bias-ом.\n",
        "\n",
        "- Число операций при forward pass\n",
        "\n",
        "Для полносвязной сети это число умножений и сложений:\n",
        "$$\n",
        "1000 * (100_\\text{(число умножений)} + 99_\\text{(число сложений)}) = 199000\n",
        "$$\n",
        "Для свёрточной сети:\n",
        "$$\n",
        "100_\\text{(число признаков)} * 10_\\text{(число различных свёрток)}\n",
        "(3_\\text{(число умножений)} + 2_\\text{(число сложений)}) = 5000\n",
        "$$"
      ]
    },
    {
      "cell_type": "markdown",
      "metadata": {
        "id": "xX_Roalm9oAI"
      },
      "source": [
        "## Бонус: постобработка изображений (1 балл)\n",
        "\n",
        "В предложенной задаче на фотографиях необходимо сегментировать только центральное изображения. Артефакты, которые появляются на краях изображения, можно удалять с помощью постобработки (например, с помощью модуля https://scikit-image.org/docs/dev/api/skimage.morphology.html). \n",
        "\n",
        "Реализуйте какой-нибудь из методов постобработки, дающий прирост в качестве. Продемонстируйте несколько изображений, на которых постобработка будет оказывать влияние на результат сегментации."
      ]
    },
    {
      "cell_type": "code",
      "metadata": {
        "colab": {
          "base_uri": "https://localhost:8080/"
        },
        "id": "X__4zGvbv78c",
        "outputId": "431137ca-c954-4575-a1ce-55593bae3b9e"
      },
      "source": [
        "%%time\n",
        "composed = Compose(to_tens, norm)\n",
        "\n",
        "DATA_PATH = '/content/people_data/'\n",
        "\n",
        "train_dataset = PhotosDataset(\n",
        "      images_dir=DATA_PATH + 'train/',\n",
        "      target_dir=DATA_PATH + 'train_mask/', \n",
        "      transforms=composed\n",
        ")\n",
        "\n",
        "test_dataset = PhotosDataset(\n",
        "    images_dir=DATA_PATH + 'test/',\n",
        "    target_dir=DATA_PATH + 'test_mask/',\n",
        "    transforms=composed\n",
        ")\n",
        "\n",
        "train_data_loader = DataLoader(train_dataset, batch_size=8, shuffle=True)\n",
        "test_data_loader = DataLoader(test_dataset, batch_size=8)"
      ],
      "execution_count": 36,
      "outputs": [
        {
          "output_type": "stream",
          "text": [
            "CPU times: user 1 s, sys: 366 ms, total: 1.37 s\n",
            "Wall time: 3.35 s\n"
          ],
          "name": "stdout"
        }
      ]
    },
    {
      "cell_type": "code",
      "metadata": {
        "id": "IZpFfYxk7hPl"
      },
      "source": [
        "def train(net, trainloader, testloader, opt, \n",
        "              criterion, \n",
        "              num_epochs=2, verbose_num_iters=10, postproc=False):\n",
        "\n",
        "    net.train()\n",
        "    loss_trace = []\n",
        "    correct_trace = []\n",
        "\n",
        "    iter_i = 0\n",
        "    for epoch_i in range(num_epochs):        \n",
        "        for batch in tqdm(trainloader, desc='step'):\n",
        "            images, labels = batch['image'], batch['mask']\n",
        "            \n",
        "            images = images.to(device)\n",
        "            labels = labels.to(device)\n",
        "\n",
        "            outputs = net(images).to(device)\n",
        "            opt.zero_grad()\n",
        "\n",
        "            loss = criterion(outputs, labels)\n",
        "            preds = (torch.sigmoid(outputs) > 0.5).type(torch.float32)\n",
        "            if postproc:\n",
        "                for pred in preds:\n",
        "                    pred = pred.cpu().detach().numpy()[0]\n",
        "                    area_threshold = pred.sum() * 0.75\n",
        "                    pred = area_opening(pred, area_threshold.astype(np.int32))\n",
        "\n",
        "                    disk_mask = disk(min(pred.shape) // 18)\n",
        "                    pred = dilation(pred, disk_mask)\n",
        "                    pred = erosion(pred, disk_mask)\n",
        "\n",
        "                    pred = pred[:, :, None]  \n",
        "                    pred = torch.from_numpy(pred.astype(np.float32).transpose((2, 0, 1))).contiguous()\n",
        "\n",
        "            label = labels[0]\n",
        "            pred = preds[0]\n",
        "\n",
        "            correct = (preds==labels).type(torch.float32).mean()\n",
        "            loss.backward()\n",
        "            opt.step()\n",
        "\n",
        "            loss_trace.append((iter_i, loss.item()))\n",
        "            correct_trace.append((iter_i, correct.item()))\n",
        "        \n",
        "            iter_i += 1\n",
        "\n",
        "    return loss_trace, correct_trace, label, pred"
      ],
      "execution_count": 131,
      "outputs": []
    },
    {
      "cell_type": "code",
      "metadata": {
        "colab": {
          "base_uri": "https://localhost:8080/",
          "height": 116,
          "referenced_widgets": [
            "b906f5ead1d64498a464ace34857b39e",
            "040019759450442a85ab95adc759299b",
            "64e31ec624254cabac154bd1c342ae07",
            "83722b384b8c4758b3295d5a6c7dc620",
            "9e0d7d62e7ad40dfa872b03087c62843",
            "9234f7afc2cc41aa99fee0db9516d7f8",
            "2d960ce9a11741c5b5ea0008406c300d",
            "c16cdc3646ff4d7fb96423adbc1e5ac6",
            "393e685f5d494d07850c6e62c2ed05b8",
            "f2726fa73be04a7e89f43f8e3ee40646",
            "ac1fb83adade438198893db6ab499f7a",
            "151dbe9e5b55408c905feb305b207b83",
            "f1aa12389915492cb251b4e3557d70d0",
            "e3ee7bd93bec4a1588e119aa9cb980da",
            "2cf0667b71d044689617916e244e5c33",
            "8975fc279dba4eb59f0629bd01dd99b3"
          ]
        },
        "id": "j1Vvq5hDu48i",
        "outputId": "995d734a-6f20-4a9e-bcde-2bc1dc60d79f"
      },
      "source": [
        "net = UNet().to(device)\n",
        "net = nn.DataParallel(net)\n",
        "opt = optim.Adam(net.parameters(), lr=1e-04)\n",
        "\n",
        "criterion = nn.BCEWithLogitsLoss()\n",
        "loss1, accuracy1, label1, pred1 = train(net, test_data_loader, test_data_loader, opt, criterion, verbose_num_iters=3)"
      ],
      "execution_count": 137,
      "outputs": [
        {
          "output_type": "display_data",
          "data": {
            "application/vnd.jupyter.widget-view+json": {
              "model_id": "b906f5ead1d64498a464ace34857b39e",
              "version_minor": 0,
              "version_major": 2
            },
            "text/plain": [
              "HBox(children=(FloatProgress(value=0.0, description='step', max=18.0, style=ProgressStyle(description_width='i…"
            ]
          },
          "metadata": {
            "tags": []
          }
        },
        {
          "output_type": "stream",
          "text": [
            "\n"
          ],
          "name": "stdout"
        },
        {
          "output_type": "display_data",
          "data": {
            "application/vnd.jupyter.widget-view+json": {
              "model_id": "393e685f5d494d07850c6e62c2ed05b8",
              "version_minor": 0,
              "version_major": 2
            },
            "text/plain": [
              "HBox(children=(FloatProgress(value=0.0, description='step', max=18.0, style=ProgressStyle(description_width='i…"
            ]
          },
          "metadata": {
            "tags": []
          }
        },
        {
          "output_type": "stream",
          "text": [
            "\n"
          ],
          "name": "stdout"
        }
      ]
    },
    {
      "cell_type": "code",
      "metadata": {
        "colab": {
          "base_uri": "https://localhost:8080/",
          "height": 133,
          "referenced_widgets": [
            "8b6be1fffb2c47e69edbd9816c221897",
            "c945ac1d2c684879a5b39c5d9ff2fbba",
            "627b5d227b5d403588365054f5ca8c84",
            "19220966b8f44498b356e06342848fb4",
            "2c3b08b6a1194fc6926e580d0f60c475",
            "16bbb1629d9f4043af7ba6d976f2071a",
            "e863f14307704b268afe7fc13e02896a",
            "ef3a86b5e4914004b8ca30171f091897",
            "ea5557160b8748fba7af44c6599be298",
            "9087889a206c4c118fdb85b0dba3a46f",
            "98fa317c7fa64a41a2bc49909d787e78",
            "5c8e7773c7c04f1f8d24158df7af4ad2",
            "2a89bee550e041abb3567066e997c7ff",
            "13160f9f57514b999dfd04bba835e572",
            "ccbacdda07ba46a5a316c2a09b2951fd",
            "31c0dd69b7744cecb9f8665aeb22c301"
          ]
        },
        "id": "Rib2rp0V_nqx",
        "outputId": "9cb559ba-a77d-4000-e66a-b021d89edf58"
      },
      "source": [
        "net = UNet().to(device)\n",
        "net = nn.DataParallel(net)\n",
        "opt = optim.Adam(net.parameters(), lr=1e-04)\n",
        "\n",
        "criterion = nn.BCEWithLogitsLoss()\n",
        "loss2, accuracy2, label2, pred2 = train(net, test_data_loader, test_data_loader, opt, criterion, verbose_num_iters=3, postproc=True)"
      ],
      "execution_count": 133,
      "outputs": [
        {
          "output_type": "stream",
          "text": [
            "\n"
          ],
          "name": "stdout"
        },
        {
          "output_type": "display_data",
          "data": {
            "application/vnd.jupyter.widget-view+json": {
              "model_id": "8b6be1fffb2c47e69edbd9816c221897",
              "version_minor": 0,
              "version_major": 2
            },
            "text/plain": [
              "HBox(children=(FloatProgress(value=0.0, description='step', max=18.0, style=ProgressStyle(description_width='i…"
            ]
          },
          "metadata": {
            "tags": []
          }
        },
        {
          "output_type": "stream",
          "text": [
            "\n"
          ],
          "name": "stdout"
        },
        {
          "output_type": "display_data",
          "data": {
            "application/vnd.jupyter.widget-view+json": {
              "model_id": "ea5557160b8748fba7af44c6599be298",
              "version_minor": 0,
              "version_major": 2
            },
            "text/plain": [
              "HBox(children=(FloatProgress(value=0.0, description='step', max=18.0, style=ProgressStyle(description_width='i…"
            ]
          },
          "metadata": {
            "tags": []
          }
        },
        {
          "output_type": "stream",
          "text": [
            "\n"
          ],
          "name": "stdout"
        }
      ]
    },
    {
      "cell_type": "code",
      "metadata": {
        "colab": {
          "base_uri": "https://localhost:8080/",
          "height": 351
        },
        "id": "gk9N4MWC7k6h",
        "outputId": "047a00da-ca09-45cc-fd46-b11c2a1f727e"
      },
      "source": [
        "plt.figure(figsize=(22, 5))\n",
        "                \n",
        "plt.subplot(1, 4, 1)\n",
        "plt.xlabel('Iteration')\n",
        "plt.ylabel('Loss')\n",
        "plt.plot([p[0] for p in loss1], [p[1] for p in loss1], color='blue', label='without preprocessing')\n",
        "plt.plot([p[0] for p in loss2], [p[1] for p in loss2], color='green', label='with preprocessing')\n",
        "\n",
        "\n",
        "plt.subplot(1, 4, 2)\n",
        "plt.xlabel('Iteration')\n",
        "plt.ylabel('Accuracy')\n",
        "plt.plot([p[0] for p in accuracy1], [p[1] for p in accuracy1], color='blue', label='without preprocessing')\n",
        "plt.plot([p[0] for p in accuracy2], [p[1] for p in accuracy2], color='green', label='with preprocessing')"
      ],
      "execution_count": 138,
      "outputs": [
        {
          "output_type": "execute_result",
          "data": {
            "text/plain": [
              "[<matplotlib.lines.Line2D at 0x7f8d535b2d90>]"
            ]
          },
          "metadata": {
            "tags": []
          },
          "execution_count": 138
        },
        {
          "output_type": "display_data",
          "data": {
            "image/png": "[encoded data removed]",
            "text/plain": [
              "<Figure size 1584x360 with 2 Axes>"
            ]
          },
          "metadata": {
            "tags": [],
            "needs_background": "light"
          }
        }
      ]
    },
    {
      "cell_type": "markdown",
      "metadata": {
        "id": "a6OtVDVVJA3_"
      },
      "source": [
        "Как видно, качество незначительно, но улучшилось.\n",
        "Проверим на изображениях:\n"
      ]
    },
    {
      "cell_type": "code",
      "metadata": {
        "colab": {
          "base_uri": "https://localhost:8080/",
          "height": 266
        },
        "id": "DMt0DRsBKOGI",
        "outputId": "ace06c05-cf7f-43c7-8e25-824052f0268c"
      },
      "source": [
        "plt.figure(figsize=(10, 5))\n",
        "\n",
        "plt.subplot(1, 3, 1)\n",
        "plt.axis('off')\n",
        "plt.title('true mask')\n",
        "plt.imshow(label1.cpu().detach().numpy()[0])\n",
        "\n",
        "plt.subplot(1, 3, 2)\n",
        "plt.axis('off')\n",
        "plt.title('predict mask')\n",
        "plt.imshow(pred1.cpu().detach().numpy()[0])\n",
        "\n",
        "plt.subplot(1, 3, 3)\n",
        "plt.axis('off')\n",
        "plt.title('predict mask with postprocessing')\n",
        "plt.imshow(pred2.cpu().detach().numpy()[0])\n",
        "\n",
        "plt.show()"
      ],
      "execution_count": 139,
      "outputs": [
        {
          "output_type": "display_data",
          "data": {
            "image/png": "[encoded data removed]",
            "text/plain": [
              "<Figure size 720x360 with 3 Axes>"
            ]
          },
          "metadata": {
            "tags": [],
            "needs_background": "light"
          }
        }
      ]
    },
    {
      "cell_type": "markdown",
      "metadata": {
        "id": "k-EUZwt1PtxR"
      },
      "source": [
        "В целом стало лучше за счет исключения \"островков\" и \"дырок\"."
      ]
    },
    {
      "cell_type": "markdown",
      "metadata": {
        "id": "M8ha0FrR9oAJ"
      },
      "source": [
        "## Бонус: существенное улучшение качества (2 балла)"
      ]
    },
    {
      "cell_type": "markdown",
      "metadata": {
        "id": "69jU_vEv9oAJ"
      },
      "source": [
        "Придумайте какой-нибудь трюк, который существенно (с учётом бонусного пункта 1) повысит качество (которое должно быть и так достаточно высоко). Не разрешается использовать дополнительные данные или другие предобученные кодировщики кроме VGG13.\n",
        "\n",
        "Если вы что-то попробовали, но качество не повысилось, всё равно оформите этот пункт, даже за неудачные попытки могут быть начислены баллы."
      ]
    },
    {
      "cell_type": "markdown",
      "metadata": {
        "id": "-RJRBuGq9oAK"
      },
      "source": [
        "## Бонус: обучение с использованием сторонних фреймворков (1 балл)"
      ]
    },
    {
      "cell_type": "markdown",
      "metadata": {
        "id": "aPeKgVGs9oAK"
      },
      "source": [
        "Попробуйте обучить свою модель с использованием одного из следующих фреймворков: catalyst, pytorch-lightning, kekas."
      ]
    }
  ]
}