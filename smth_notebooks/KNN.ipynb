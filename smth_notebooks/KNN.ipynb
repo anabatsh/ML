{
 "cells": [
  {
   "cell_type": "markdown",
   "metadata": {},
   "source": [
    "## Подключение необходимых библиотек"
   ]
  },
  {
   "cell_type": "code",
   "execution_count": null,
   "metadata": {},
   "outputs": [],
   "source": [
    "import numpy as np\n",
    "import pandas as pd\n",
    "import hashlib \n",
    "import numpy.linalg as LA\n",
    "from time import time\n",
    "from typing import Union, Callable, Iterable, Optional\n",
    "import matplotlib.pyplot as plt\n",
    "from IPython.display import Latex\n",
    "\n",
    "from sklearn import preprocessing \n",
    "from sklearn.preprocessing import LabelEncoder, OneHotEncoder, MinMaxScaler\n",
    "from sklearn.impute import SimpleImputer\n",
    "from sklearn.metrics import mean_squared_error, roc_curve, roc_auc_score\n",
    "from sklearn.neighbors import NearestNeighbors, DistanceMetric\n",
    "from sklearn.model_selection import train_test_split, KFold"
   ]
  },
  {
   "cell_type": "markdown",
   "metadata": {},
   "source": [
    "## Загрузка датасета\n",
    "Все эксперименты в этой лабораторной работе проводятся на данных соревнования New York City Airbnb Open Data"
   ]
  },
  {
   "cell_type": "code",
   "execution_count": 117,
   "metadata": {},
   "outputs": [],
   "source": [
    "data = pd.read_csv('/home/anabatsh/Desktop/KNN_task2/AB_NYC_2019.csv')"
   ]
  },
  {
   "cell_type": "code",
   "execution_count": 118,
   "metadata": {},
   "outputs": [
    {
     "data": {
      "text/html": [
       "<div>\n",
       "<style scoped>\n",
       "    .dataframe tbody tr th:only-of-type {\n",
       "        vertical-align: middle;\n",
       "    }\n",
       "\n",
       "    .dataframe tbody tr th {\n",
       "        vertical-align: top;\n",
       "    }\n",
       "\n",
       "    .dataframe thead th {\n",
       "        text-align: right;\n",
       "    }\n",
       "</style>\n",
       "<table border=\"1\" class=\"dataframe\">\n",
       "  <thead>\n",
       "    <tr style=\"text-align: right;\">\n",
       "      <th></th>\n",
       "      <th>id</th>\n",
       "      <th>name</th>\n",
       "      <th>host_id</th>\n",
       "      <th>host_name</th>\n",
       "      <th>neighbourhood_group</th>\n",
       "      <th>neighbourhood</th>\n",
       "      <th>latitude</th>\n",
       "      <th>longitude</th>\n",
       "      <th>room_type</th>\n",
       "      <th>price</th>\n",
       "      <th>minimum_nights</th>\n",
       "      <th>number_of_reviews</th>\n",
       "      <th>last_review</th>\n",
       "      <th>reviews_per_month</th>\n",
       "      <th>calculated_host_listings_count</th>\n",
       "      <th>availability_365</th>\n",
       "    </tr>\n",
       "  </thead>\n",
       "  <tbody>\n",
       "    <tr>\n",
       "      <th>0</th>\n",
       "      <td>2539</td>\n",
       "      <td>Clean &amp; quiet apt home by the park</td>\n",
       "      <td>2787</td>\n",
       "      <td>John</td>\n",
       "      <td>Brooklyn</td>\n",
       "      <td>Kensington</td>\n",
       "      <td>40.64749</td>\n",
       "      <td>-73.97237</td>\n",
       "      <td>Private room</td>\n",
       "      <td>149</td>\n",
       "      <td>1</td>\n",
       "      <td>9</td>\n",
       "      <td>2018-10-19</td>\n",
       "      <td>0.21</td>\n",
       "      <td>6</td>\n",
       "      <td>365</td>\n",
       "    </tr>\n",
       "    <tr>\n",
       "      <th>1</th>\n",
       "      <td>2595</td>\n",
       "      <td>Skylit Midtown Castle</td>\n",
       "      <td>2845</td>\n",
       "      <td>Jennifer</td>\n",
       "      <td>Manhattan</td>\n",
       "      <td>Midtown</td>\n",
       "      <td>40.75362</td>\n",
       "      <td>-73.98377</td>\n",
       "      <td>Entire home/apt</td>\n",
       "      <td>225</td>\n",
       "      <td>1</td>\n",
       "      <td>45</td>\n",
       "      <td>2019-05-21</td>\n",
       "      <td>0.38</td>\n",
       "      <td>2</td>\n",
       "      <td>355</td>\n",
       "    </tr>\n",
       "    <tr>\n",
       "      <th>2</th>\n",
       "      <td>3647</td>\n",
       "      <td>THE VILLAGE OF HARLEM....NEW YORK !</td>\n",
       "      <td>4632</td>\n",
       "      <td>Elisabeth</td>\n",
       "      <td>Manhattan</td>\n",
       "      <td>Harlem</td>\n",
       "      <td>40.80902</td>\n",
       "      <td>-73.94190</td>\n",
       "      <td>Private room</td>\n",
       "      <td>150</td>\n",
       "      <td>3</td>\n",
       "      <td>0</td>\n",
       "      <td>NaN</td>\n",
       "      <td>NaN</td>\n",
       "      <td>1</td>\n",
       "      <td>365</td>\n",
       "    </tr>\n",
       "    <tr>\n",
       "      <th>3</th>\n",
       "      <td>3831</td>\n",
       "      <td>Cozy Entire Floor of Brownstone</td>\n",
       "      <td>4869</td>\n",
       "      <td>LisaRoxanne</td>\n",
       "      <td>Brooklyn</td>\n",
       "      <td>Clinton Hill</td>\n",
       "      <td>40.68514</td>\n",
       "      <td>-73.95976</td>\n",
       "      <td>Entire home/apt</td>\n",
       "      <td>89</td>\n",
       "      <td>1</td>\n",
       "      <td>270</td>\n",
       "      <td>2019-07-05</td>\n",
       "      <td>4.64</td>\n",
       "      <td>1</td>\n",
       "      <td>194</td>\n",
       "    </tr>\n",
       "    <tr>\n",
       "      <th>4</th>\n",
       "      <td>5022</td>\n",
       "      <td>Entire Apt: Spacious Studio/Loft by central park</td>\n",
       "      <td>7192</td>\n",
       "      <td>Laura</td>\n",
       "      <td>Manhattan</td>\n",
       "      <td>East Harlem</td>\n",
       "      <td>40.79851</td>\n",
       "      <td>-73.94399</td>\n",
       "      <td>Entire home/apt</td>\n",
       "      <td>80</td>\n",
       "      <td>10</td>\n",
       "      <td>9</td>\n",
       "      <td>2018-11-19</td>\n",
       "      <td>0.10</td>\n",
       "      <td>1</td>\n",
       "      <td>0</td>\n",
       "    </tr>\n",
       "  </tbody>\n",
       "</table>\n",
       "</div>"
      ],
      "text/plain": [
       "     id                                              name  host_id  \\\n",
       "0  2539                Clean & quiet apt home by the park     2787   \n",
       "1  2595                             Skylit Midtown Castle     2845   \n",
       "2  3647               THE VILLAGE OF HARLEM....NEW YORK !     4632   \n",
       "3  3831                   Cozy Entire Floor of Brownstone     4869   \n",
       "4  5022  Entire Apt: Spacious Studio/Loft by central park     7192   \n",
       "\n",
       "     host_name neighbourhood_group neighbourhood  latitude  longitude  \\\n",
       "0         John            Brooklyn    Kensington  40.64749  -73.97237   \n",
       "1     Jennifer           Manhattan       Midtown  40.75362  -73.98377   \n",
       "2    Elisabeth           Manhattan        Harlem  40.80902  -73.94190   \n",
       "3  LisaRoxanne            Brooklyn  Clinton Hill  40.68514  -73.95976   \n",
       "4        Laura           Manhattan   East Harlem  40.79851  -73.94399   \n",
       "\n",
       "         room_type  price  minimum_nights  number_of_reviews last_review  \\\n",
       "0     Private room    149               1                  9  2018-10-19   \n",
       "1  Entire home/apt    225               1                 45  2019-05-21   \n",
       "2     Private room    150               3                  0         NaN   \n",
       "3  Entire home/apt     89               1                270  2019-07-05   \n",
       "4  Entire home/apt     80              10                  9  2018-11-19   \n",
       "\n",
       "   reviews_per_month  calculated_host_listings_count  availability_365  \n",
       "0               0.21                               6               365  \n",
       "1               0.38                               2               355  \n",
       "2                NaN                               1               365  \n",
       "3               4.64                               1               194  \n",
       "4               0.10                               1                 0  "
      ]
     },
     "execution_count": 118,
     "metadata": {},
     "output_type": "execute_result"
    }
   ],
   "source": [
    "data.head()"
   ]
  },
  {
   "cell_type": "code",
   "execution_count": 119,
   "metadata": {},
   "outputs": [
    {
     "data": {
      "text/plain": [
       "(48895, 16)"
      ]
     },
     "execution_count": 119,
     "metadata": {},
     "output_type": "execute_result"
    }
   ],
   "source": [
    "data.shape"
   ]
  },
  {
   "cell_type": "code",
   "execution_count": 120,
   "metadata": {},
   "outputs": [
    {
     "name": "stdout",
     "output_type": "stream",
     "text": [
      "id 48895\n",
      "name 47906\n",
      "host_id 37457\n",
      "host_name 11453\n",
      "neighbourhood_group 5\n",
      "neighbourhood 221\n",
      "latitude 19048\n",
      "longitude 14718\n",
      "room_type 3\n",
      "price 674\n",
      "minimum_nights 109\n",
      "number_of_reviews 394\n",
      "last_review 1765\n",
      "reviews_per_month 938\n",
      "calculated_host_listings_count 47\n",
      "availability_365 366\n"
     ]
    }
   ],
   "source": [
    "# число значений у признаков\n",
    "for col_name in data.columns:\n",
    "    print(col_name, len(data[col_name].unique()))"
   ]
  },
  {
   "cell_type": "code",
   "execution_count": 121,
   "metadata": {},
   "outputs": [
    {
     "name": "stdout",
     "output_type": "stream",
     "text": [
      "<class 'pandas.core.frame.DataFrame'>\n",
      "RangeIndex: 48895 entries, 0 to 48894\n",
      "Data columns (total 16 columns):\n",
      " #   Column                          Non-Null Count  Dtype  \n",
      "---  ------                          --------------  -----  \n",
      " 0   id                              48895 non-null  int64  \n",
      " 1   name                            48879 non-null  object \n",
      " 2   host_id                         48895 non-null  int64  \n",
      " 3   host_name                       48874 non-null  object \n",
      " 4   neighbourhood_group             48895 non-null  object \n",
      " 5   neighbourhood                   48895 non-null  object \n",
      " 6   latitude                        48895 non-null  float64\n",
      " 7   longitude                       48895 non-null  float64\n",
      " 8   room_type                       48895 non-null  object \n",
      " 9   price                           48895 non-null  int64  \n",
      " 10  minimum_nights                  48895 non-null  int64  \n",
      " 11  number_of_reviews               48895 non-null  int64  \n",
      " 12  last_review                     38843 non-null  object \n",
      " 13  reviews_per_month               38843 non-null  float64\n",
      " 14  calculated_host_listings_count  48895 non-null  int64  \n",
      " 15  availability_365                48895 non-null  int64  \n",
      "dtypes: float64(3), int64(7), object(6)\n",
      "memory usage: 6.0+ MB\n"
     ]
    }
   ],
   "source": [
    "data.info()"
   ]
  },
  {
   "cell_type": "code",
   "execution_count": 122,
   "metadata": {},
   "outputs": [
    {
     "data": {
      "text/plain": [
       "id                                    0\n",
       "name                                 16\n",
       "host_id                               0\n",
       "host_name                            21\n",
       "neighbourhood_group                   0\n",
       "neighbourhood                         0\n",
       "latitude                              0\n",
       "longitude                             0\n",
       "room_type                             0\n",
       "price                                 0\n",
       "minimum_nights                        0\n",
       "number_of_reviews                     0\n",
       "last_review                       10052\n",
       "reviews_per_month                 10052\n",
       "calculated_host_listings_count        0\n",
       "availability_365                      0\n",
       "dtype: int64"
      ]
     },
     "execution_count": 122,
     "metadata": {},
     "output_type": "execute_result"
    }
   ],
   "source": [
    "data.isna().sum()"
   ]
  },
  {
   "cell_type": "markdown",
   "metadata": {},
   "source": [
    "Как видно, по 4 признакам у элементов датасета есть пропуски. Впоследствии мы обработаем их с помощью sklearn-метода Simple Imputer. Однако перед этим создадим необхимые в будущем маски: \n",
    "1) price_mask - столбец с ценой \\\n",
    "2) categorical_mask - категориальные признаки \\\n",
    "3) target_mask - целевые признаки \\\n",
    "4) categorical_index - индексы столбцов категориальных признаков"
   ]
  },
  {
   "cell_type": "code",
   "execution_count": 123,
   "metadata": {},
   "outputs": [],
   "source": [
    "price_mask = (data.columns == 'price')\n",
    "categorical_mask = (data.dtypes == object)[~price_mask]\n",
    "target_mask = ~categorical_mask\n",
    "categorical_index = [i for i, val in enumerate(categorical_mask) if val == True]\n",
    "n_cat_f = len(categorical_index)"
   ]
  },
  {
   "cell_type": "markdown",
   "metadata": {},
   "source": [
    "Обработка пропусков NaN"
   ]
  },
  {
   "cell_type": "code",
   "execution_count": 124,
   "metadata": {},
   "outputs": [],
   "source": [
    "si = SimpleImputer(missing_values = np.nan, strategy = 'most_frequent') \n",
    "data = si.fit_transform(data) "
   ]
  },
  {
   "cell_type": "markdown",
   "metadata": {},
   "source": [
    "Формирование выборки из X - признаков объектов и их labels - y"
   ]
  },
  {
   "cell_type": "code",
   "execution_count": 125,
   "metadata": {},
   "outputs": [],
   "source": [
    "X = data[:, ~price_mask]\n",
    "y = data[:, price_mask]\n",
    "y = y.reshape(y.shape[0])\n",
    "data_vol = X.shape[0]"
   ]
  },
  {
   "cell_type": "markdown",
   "metadata": {},
   "source": [
    "Впоследствии будут реализованы три собственные метрики для работы с категориальными признаками: overlap, flattened_overlap и log_overlap. Однако при попытке учить модель с помощью встроенного sklearn-метода fit, мы узрим ошибку конвертации строкового типа в численный. Было принято решение перекодировать входные категориальные данные. Поскольку массив из перекодированных признаков используется в дальнейшем как массив индексов, нормализацию проводить не будем. Гипотетически, можно было кодировать строки с помощью хэш-функции, однако тогда бы двум одинковым значениям признака в различных объектах выборки назначались бы разные хэши, во-первых, а во-вторых, пльзоваться массивом индексов из кодов признаков очень удобно."
   ]
  },
  {
   "cell_type": "code",
   "execution_count": 126,
   "metadata": {},
   "outputs": [],
   "source": [
    "le = preprocessing.LabelEncoder()\n",
    "for i in (categorical_index):\n",
    "    X[:,i] = le.fit_transform(X[:,i])"
   ]
  },
  {
   "cell_type": "markdown",
   "metadata": {},
   "source": [
    "Разделение выборки на тестовую и обучающую."
   ]
  },
  {
   "cell_type": "code",
   "execution_count": 127,
   "metadata": {},
   "outputs": [],
   "source": [
    "X_train, X_test, y_train, y_test = train_test_split(X, y, test_size=0.3, random_state=241)"
   ]
  },
  {
   "cell_type": "markdown",
   "metadata": {},
   "source": [
    "## Часть 1. Класс KNNRegressor\n",
    "### 1.1"
   ]
  },
  {
   "cell_type": "code",
   "execution_count": 128,
   "metadata": {},
   "outputs": [],
   "source": [
    "class KNNRegressor:\n",
    "    def __init__(self, n_neighbors: int, metric: Union[str, Callable], mode: str = 'uniform'):\n",
    "        self.__nn = NearestNeighbors(n_neighbors=n_neighbors, algorithm='ball_tree', metric=metric)\n",
    "        self.__mode = mode\n",
    "        self.__n_neighbors = n_neighbors\n",
    "\n",
    "    def fit(self, X: np.array, y: np.array) -> None:\n",
    "        self.__nn.fit(X)\n",
    "        self.__y_train = y\n",
    "        self.__labels = np.unique(y)\n",
    "        pass\n",
    "\n",
    "    def find_kneighbors(self, X: np.ndarray):\n",
    "        return self.__nn.kneighbors(X, return_distance=True)\n",
    "\n",
    "    def estimate(self, indices: np.ndarray, distances: np.ndarray = None):\n",
    "        if self.__mode == 'distance':\n",
    "            weights = 1.0 / (1e-5 + distances) \n",
    "        elif self.__mode == 'uniform':\n",
    "            weights = np.ones(indices.shape)\n",
    "        predictions = np.mean(weights*(self.__y_train[indices]), axis=1)\n",
    "        return predictions\n",
    "\n",
    "    def predict(self, X: np.ndarray):\n",
    "        distances, indices = self.find_kneighbors(X)\n",
    "        return self.estimate(indices, distances)\n"
   ]
  },
  {
   "cell_type": "markdown",
   "metadata": {},
   "source": [
    "Пример работы по 5 соседям для **целевых** признаков"
   ]
  },
  {
   "cell_type": "code",
   "execution_count": 129,
   "metadata": {},
   "outputs": [
    {
     "data": {
      "text/plain": [
       "(array([195.0, 269.2, 190.0, ..., 212.0, 169.6, 163.2], dtype=object),\n",
       " array([129, 316, 165, ..., 200, 85, 100], dtype=object))"
      ]
     },
     "execution_count": 129,
     "metadata": {},
     "output_type": "execute_result"
    }
   ],
   "source": [
    "param = {'n_neighbors': 5, 'metric': 'euclidean', 'mode': 'uniform'}\n",
    "model = KNNRegressor(**param)\n",
    "model.fit(X_train[:,target_mask], y_train)\n",
    "pred = model.predict(X_test[:,target_mask])\n",
    "pred, y_test"
   ]
  },
  {
   "cell_type": "markdown",
   "metadata": {},
   "source": [
    "## Часть 2. Категориальные признаки\n",
    "\n",
    "Для начала сформируем матрицы F, P_1, P_2, Log для каждого категориального признака:\n",
    "1) F[j][x] - количество объектов тестовой выборки, на которых j-признак принимает значение x \\\n",
    "2) P_1[j][x] - частота, с которой j признак принимает значение x $\\frac{F[j][x]}{l}$ l - число различных значений признака j \\\n",
    "3) P_2[j][x] = $\\frac{F[j][x] - 1}{l-1}$ \\\n",
    "4) Log[j][x] = $\\log{(F[j][x] + 1)}$ "
   ]
  },
  {
   "cell_type": "code",
   "execution_count": 130,
   "metadata": {},
   "outputs": [],
   "source": [
    "shape = (n_cat_f, data_vol)\n",
    "\n",
    "def F_P_Log(X_train, shape, categorical_index):\n",
    "    F = np.zeros((shape))\n",
    "    P_1 = np.zeros((shape))\n",
    "    P_2 = np.zeros((shape))\n",
    "    for j, i in enumerate(categorical_index):\n",
    "        val, count = np.unique(X_train[:, i], return_counts=True)\n",
    "        l = len(count)\n",
    "        F[j][val.astype(int)] = count\n",
    "        P_1[j][val.astype(int)] = count / l\n",
    "        P_2[j][val.astype(int)] = (count - 1) / (l - 1)\n",
    "    Log = np.log(F + 1)\n",
    "    return F, P_1, P_2, Log"
   ]
  },
  {
   "cell_type": "markdown",
   "metadata": {},
   "source": [
    "### 2.1 Три функции метрики для категориальных признаков. "
   ]
  },
  {
   "cell_type": "code",
   "execution_count": 131,
   "metadata": {},
   "outputs": [],
   "source": [
    "def overlap(x, z):\n",
    "    d = x!=z \n",
    "    return d.astype(int).sum()\n",
    "\n",
    "def flattened_overlap(x, z):\n",
    "    d = np.ones(len(z))\n",
    "    for i, n in enumerate(d):\n",
    "        if x[i]==z[i]:\n",
    "            id_d = P_1[i] <= P_1[i][int(x[i])]\n",
    "            d[i] = (P_1[i][id_d] * P_2[i][id_d]).sum()\n",
    "    return d.sum()\n",
    "\n",
    "def log_overlap(x, z):\n",
    "    d = np.zeros(len(z))\n",
    "    for i, n in enumerate(d):\n",
    "        if x[i]!=z[i]:\n",
    "            d[i] = Log[i][int(x[i])]*Log[i][int(z[i])]\n",
    "    return d.sum()"
   ]
  },
  {
   "cell_type": "markdown",
   "metadata": {},
   "source": [
    "### 2.2 Оценим качество каждой из метрик на тестовой выборке при числе соседей $k = 10$. \n",
    "(В связи с работоспосбодностью лаптопа провожу эксперименты на небольшой выборке с надеждой на легальность обобщения)"
   ]
  },
  {
   "cell_type": "code",
   "execution_count": 145,
   "metadata": {},
   "outputs": [
    {
     "name": "stdout",
     "output_type": "stream",
     "text": [
      "overlap : 104.0523906500951\n",
      "flattened_overlap : 159.27303601049363\n",
      "log_overlap : 101.1746015559241\n"
     ]
    }
   ],
   "source": [
    "cat_X_train = X_train[:100,categorical_mask]\n",
    "cat_X_test = X_test[:10,categorical_mask]\n",
    "\n",
    "for i, metric in enumerate((overlap, flattened_overlap, log_overlap)):\n",
    "    param = {'n_neighbors': 10, 'metric': metric, 'mode': 'uniform'}\n",
    "    model = KNNRegressor(**param)\n",
    "    model.fit(cat_X_train, y_train[:100])\n",
    "    pred = model.predict(cat_X_test).astype(int)\n",
    "    print (metric.__name__, mean_squared_error(pred, y_test[:10], squared=False), sep=' : ')"
   ]
  },
  {
   "cell_type": "markdown",
   "metadata": {},
   "source": [
    "Как видно из результатотв, самой точной метрикой оказывается log_overlap."
   ]
  },
  {
   "cell_type": "markdown",
   "metadata": {},
   "source": [
    "### 2.3 Определим наилучшее k"
   ]
  },
  {
   "cell_type": "code",
   "execution_count": 149,
   "metadata": {},
   "outputs": [
    {
     "name": "stdout",
     "output_type": "stream",
     "text": [
      "best k for overlap is  3\n",
      "best k for flattened_overlap is  7\n",
      "best k for log_overlap is  4\n",
      "work_time:  2.2847607135772705\n"
     ]
    },
    {
     "data": {
      "image/png": "[encoded data removed]",
      "text/plain": [
       "<Figure size 432x288 with 1 Axes>"
      ]
     },
     "metadata": {
      "needs_background": "light"
     },
     "output_type": "display_data"
    }
   ],
   "source": [
    "F, P_1, P_2, Log = F_P_Log(X_train, shape, categorical_index)\n",
    "\n",
    "plt.xlabel('K')\n",
    "plt.ylabel('RMSE')\n",
    "\n",
    "k_test = range(1, 8)\n",
    "start = time()\n",
    "for metric in (overlap, flattened_overlap, log_overlap):\n",
    "    res = []\n",
    "    for k in (k_test):\n",
    "        param = {'n_neighbors': k, 'metric': metric, 'mode': 'uniform'}\n",
    "        model = KNNRegressor(**param)\n",
    "        model.fit(cat_X_train, y_train[:100])\n",
    "        pred = model.predict(cat_X_test).astype(int)\n",
    "        res.append(mean_squared_error(pred, y_test[:10], squared=False))\n",
    "    plt.plot(k_test, res, label=metric.__name__)\n",
    "    print ('best k for '+metric.__name__+' is ', k_test[res.index(min(res))])\n",
    "plt.legend()\n",
    "print ('work_time: ', time() - start)"
   ]
  },
  {
   "cell_type": "markdown",
   "metadata": {},
   "source": [
    "В результате наблюдаем, что лучшим к для overlap, flattened_overlap, log_overlap являются соответственно 3, 7 и 4 среди небольших к. "
   ]
  },
  {
   "cell_type": "markdown",
   "metadata": {},
   "source": [
    "### 2.4 Реализуем счетчики, которые заменят категориальные признаки на вещественные."
   ]
  },
  {
   "cell_type": "code",
   "execution_count": 150,
   "metadata": {},
   "outputs": [],
   "source": [
    "mean = y.mean()\n",
    "\n",
    "target_mask = (y > mean) \n",
    "target = target_mask.astype(int)\n",
    "\n",
    "target_train_mask = (y_train > mean) \n",
    "target_train = target_train_mask.astype(int)\n",
    "\n",
    "target_test_mask = (y_test > mean) \n",
    "target_test = target_test_mask.astype(int)"
   ]
  },
  {
   "cell_type": "code",
   "execution_count": 151,
   "metadata": {},
   "outputs": [],
   "source": [
    "def counts_successes_p(X, target_mask, shape, categorical_index, a=1, b=2):\n",
    "    counts = np.zeros((shape))\n",
    "    successes = np.zeros((shape))\n",
    "    p = np.zeros((shape)) \n",
    "    for j, i in enumerate(categorical_index):\n",
    "        val, count = np.unique(X[target_mask][:, i], return_counts=True)\n",
    "        counts[j][val.astype(int)] = count\n",
    "        successes[j][val.astype(int)] = count\n",
    "        p[j] = (successes[j] + a)/(F[j] + b)\n",
    "    return counts, successes, p\n",
    "\n",
    "def csp_encoder(X, categorical_index, counts, successes, p):\n",
    "    split = np.split(X, categorical_index, axis=1)\n",
    "    for j, i in enumerate(categorical_index):\n",
    "        split[j+1] = np.pad(split[j+1], ((0, 0), (2, 0)), mode='constant')\n",
    "        for k, arr in enumerate((counts, successes, p)):\n",
    "            split[j+1][:,k] = np.take(arr[j], X[:, i].astype(int))\n",
    "    return np.concatenate(split, axis=1)\n",
    "\n",
    "\n",
    "#for test\n",
    "counts, successes, p = counts_successes_p(X, target_mask, shape, categorical_index, a=1, b=2)\n",
    "Xcsp_test = csp_encoder(X_test, categorical_index, counts, successes, p)\n",
    "\n",
    "#for train 1\n",
    "counts, successes, p = counts_successes_p(X_train, target_train_mask, shape, categorical_index, a=1, b=2)\n",
    "Xcsp_train_1 = csp_encoder(X_train, categorical_index, counts, successes, p)"
   ]
  },
  {
   "cell_type": "markdown",
   "metadata": {},
   "source": [
    "Проведем фолдинг, чтобы избежать переобучения:"
   ]
  },
  {
   "cell_type": "code",
   "execution_count": 152,
   "metadata": {},
   "outputs": [],
   "source": [
    "#for train 2\n",
    "\n",
    "kf = KFold(n_splits=3)\n",
    "Xcsp_arr = []\n",
    "for id_1, id_2 in kf.split(X_train):\n",
    "    X_other, X_one = X_train[id_1], X_train[id_2]\n",
    "    target_other, target_one = target_train_mask[id_1], target_train_mask[id_2]\n",
    "    counts, successes, p = counts_successes_p(X_other, target_other, shape, categorical_index, a=1, b=2)\n",
    "    Xcsp_arr.append(csp_encoder(X_one, categorical_index, counts, successes, p))\n",
    "Xcsp_train_2 = np.concatenate(Xcsp_arr, axis=0)"
   ]
  },
  {
   "cell_type": "code",
   "execution_count": 159,
   "metadata": {},
   "outputs": [
    {
     "data": {
      "text/plain": [
       "[<matplotlib.lines.Line2D at 0x7fecaf915ee0>]"
      ]
     },
     "execution_count": 159,
     "metadata": {},
     "output_type": "execute_result"
    },
    {
     "data": {
      "image/png": "[encoded data removed]",
      "text/plain": [
       "<Figure size 432x288 with 1 Axes>"
      ]
     },
     "metadata": {
      "needs_background": "light"
     },
     "output_type": "display_data"
    }
   ],
   "source": [
    "plt.xlabel('K')\n",
    "plt.ylabel('RMSE')\n",
    "\n",
    "k_test = np.arange(3, 8)\n",
    "res_1 = []\n",
    "res_2 = []\n",
    "\n",
    "for i, k in enumerate(k_test):\n",
    "    param = {'n_neighbors': k, 'metric': 'euclidean', 'mode': 'uniform'}\n",
    "    model = KNNRegressor(**param)\n",
    "    \n",
    "    model.fit(Xcsp_train_1, target_train)\n",
    "    pred_1 = model.predict(Xcsp_test).astype(int)\n",
    "    res_1.append(mean_squared_error(pred_1, target_test, squared=False))\n",
    "        \n",
    "    model.fit(Xcsp_train_2, target_train)\n",
    "    pred_2 = model.predict(Xcsp_test).astype(int)\n",
    "    res_2.append(mean_squared_error(pred_2, target_test, squared=False))\n",
    "    \n",
    "plt.plot(k_test, res_1)\n",
    "plt.plot(k_test, res_2)"
   ]
  },
  {
   "cell_type": "markdown",
   "metadata": {},
   "source": [
    "Таким образом, второй вариант с фолдингом оказывается лучше. "
   ]
  }
 ],
 "metadata": {
  "kernelspec": {
   "display_name": "Python 3",
   "language": "python",
   "name": "python3"
  },
  "language_info": {
   "codemirror_mode": {
    "name": "ipython",
    "version": 3
   },
   "file_extension": ".py",
   "mimetype": "text/x-python",
   "name": "python",
   "nbconvert_exporter": "python",
   "pygments_lexer": "ipython3",
   "version": "3.9.0"
  }
 },
 "nbformat": 4,
 "nbformat_minor": 1
}
