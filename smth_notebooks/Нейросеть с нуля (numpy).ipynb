{
  "nbformat": 4,
  "nbformat_minor": 0,
  "metadata": {
    "colab": {
      "name": "Batsheva_1.ipynb",
      "provenance": []
    },
    "kernelspec": {
      "display_name": "Python 3",
      "language": "python",
      "name": "python3"
    },
    "language_info": {
      "codemirror_mode": {
        "name": "ipython",
        "version": 3
      },
      "file_extension": ".py",
      "mimetype": "text/x-python",
      "name": "python",
      "nbconvert_exporter": "python",
      "pygments_lexer": "ipython3",
      "version": "3.8.5"
    }
  },
  "cells": [
    {
      "cell_type": "markdown",
      "metadata": {
        "id": "s2-sVD67D8P7"
      },
      "source": [
        "# 1 практическое задание. Полносвязная нейронная сеть на `numpy`.\n",
        "\n",
        "## Практикум на ЭВМ для 317 группы, весна 2021\n",
        "\n",
        "#### Фамилия, имя: \n",
        "\n",
        "Дата выдачи: <span style=\"color:red\">__4 марта 02:00__</span>.\n",
        "\n",
        "Мягкий дедлайн: <span style=\"color:red\">__17 марта 23:59__</span>.\n",
        "\n",
        "Стоимость: __10 баллов__ (основная часть заданий) + __3 балла__ (дополнительные задания).\n",
        "\n",
        "<span style=\"color:red\">__В ноутбуке все клетки должны выполняться без ошибок при последовательном их выполнении.__</span>"
      ]
    },
    {
      "cell_type": "code",
      "metadata": {
        "ExecuteTime": {
          "end_time": "2021-03-03T14:44:48.909044Z",
          "start_time": "2021-03-03T14:44:48.683650Z"
        },
        "id": "AAeAEdQBD8QA"
      },
      "source": [
        "import numpy as np\n",
        "import pandas as pd\n",
        "\n",
        "from collections import OrderedDict\n",
        "from typing import Optional, Union\n",
        "\n",
        "from sklearn.model_selection import train_test_split\n",
        "from sklearn.preprocessing import QuantileTransformer, normalize\n",
        "from sklearn.datasets import load_digits\n",
        "\n",
        "from termcolor import colored\n",
        "import matplotlib.pyplot as plt\n",
        "%matplotlib inline\n",
        "from IPython.display import clear_output"
      ],
      "execution_count": 2,
      "outputs": []
    },
    {
      "cell_type": "markdown",
      "metadata": {
        "id": "ZyaghoZbD8QC"
      },
      "source": [
        "## Теоретическая часть (3 балла)"
      ]
    },
    {
      "cell_type": "markdown",
      "metadata": {
        "id": "WM6VM0_SD8QC"
      },
      "source": [
        "В этом блоке вам нужно решить 3 задания."
      ]
    },
    {
      "cell_type": "markdown",
      "metadata": {
        "id": "NWrKNFA3D8QC"
      },
      "source": [
        "### Задание 1. Градиенты для слоя Batch normalization (1.5 балла)\n",
        "\n",
        "Рассмотрим слой Batch normalization. Пусть на вход этого слоя был подан батч из $n$ объектов, при этом у всех объектов по 1 признаку. Представим вход BN слоя в виде $X \\in \\mathbb{R}^{n \\times 1}$.\n",
        "\n",
        "Тогда в этом слое производятся следующие вычисления:\n",
        "\n",
        "$$ \\mu = \\frac1n \\sum_{i=1}^{n} X_i $$\n",
        "\n",
        "$$ \\sigma^2 = \\frac1n \\sum_{i=1}^{n} \\left( X_i - \\mu \\right) ^2 $$\n",
        "\n",
        "$$ \\tilde{y_i} = \\frac{X_i - \\mu}{\\sqrt{\\sigma^2 + \\varepsilon}} $$\n",
        "\n",
        "$$ y_i = \\gamma \\tilde{y_i} + \\delta $$\n",
        "\n",
        "Выходом BN слоя является $y_i$, а $\\gamma$ и $\\delta$ в нем — параметры, которые подбираются во время обучения вместе с другими параметрами нейронной сети (наряду, например, с весами линейного слоя).\n",
        "\n",
        "Рассмотрим нейронную сеть, в которой есть BN слой. Предположим, что вычисления в нейронной завершаются подсчетом функции потерь $\\mathcal{L}$. Пусть мы выполнили прямой проход по нейронной сети и сейчас делаем обратный проход с помощью метода обратного распространения ошибки. Пусть BN слою пришел градиент функции потерь по выходу BN слоя ($\\nabla_{y} \\mathcal{L}$).\n",
        "\n",
        "В этом задании вам нужно записать вычисление градиента функции потерь по параметрам слоя BN $\\gamma$ и $\\delta$ ($\\nabla_{\\gamma} \\mathcal{L}$, $\\nabla_{\\delta} \\mathcal{L}$) через $\\nabla_{y} \\mathcal{L}$, а также вам нужно записать вычисление градиента функции потерь по входу слоя BN $X$ ($\\nabla_{X} \\mathcal{L}$) через $\\nabla_{y} \\mathcal{L}$.\n",
        "\n",
        "Хочу заметить, в данном задании мы рассматриваем объекты всего с 1 признаком, чтобы упростить выкладки."
      ]
    },
    {
      "cell_type": "markdown",
      "metadata": {
        "id": "ETUQn9fTalTf"
      },
      "source": [
        "Ответ:\n",
        "\n",
        "$\\nabla_{X} \\mathcal{L} = (\\frac{\\delta L}{\\delta x_1}, ..., \\frac{\\delta L}{\\delta x_n})^T$\n",
        "\n",
        "Cогласно формулам полной частной производной: \n",
        "\n",
        "0. $\\frac{\\delta L}{\\delta x_i} = \\{ L = L(\\tilde{y_i}(x_i), \\sigma(x_i), \\mu(x_i))\\} = \\frac{\\delta L}{\\delta \\tilde{y_i}} \\frac{\\delta \\tilde{y_i}}{\\delta x_i}  + \\frac{\\delta L}{\\delta \\sigma^2} \\frac{\\delta \\sigma^2}{\\delta x_i}\n",
        "+ \\frac{\\delta L}{\\delta \\mu} \\frac{\\delta \\mu}{\\delta x_i}$\n",
        "\n",
        "1. $\\frac{\\delta L}{\\delta \\tilde{y_i}} = \\{L = L(y_i(\\tilde{y_i}))\\} = \\frac{\\delta L}{\\delta y_i} \n",
        "\\frac{\\delta y_i}{\\delta \\tilde{y_i}} = \\frac{\\delta L}{\\delta y_i} \\gamma$\n",
        "\n",
        "2. $\\frac{\\delta \\tilde{y_i}}{\\delta x_i} = \\frac{1}{\\sqrt{\\sigma^2 + \\varepsilon}}$\n",
        "\n",
        "3. $\\frac{\\delta L}{\\delta \\sigma^2} = \\{ L = L(\\tilde{y_1}(\\sigma^2), ..., \\tilde{y_n}(\\sigma^2)\\} = \\sum_{j=1}^{n} \\frac{\\delta L}{\\delta \\tilde{y_j}} \\frac{\\delta \\tilde{y_j}}{\\delta \\sigma^2} = \\sum_{j=1}^{n} \\frac{\\delta L}{\\delta \\tilde{y_j}} \\frac{x_i - \\mu}{\\sqrt{\\sigma^2 + \\varepsilon}^3} (-\\frac{1}{2}) = \n",
        "-\\frac{1}{2}\\sum_{j=1}^{n} \\frac{\\delta L}{\\delta \\tilde{y_j}} y_i \\frac{1}{\\sqrt{\\sigma^2 + \\varepsilon}}$\n",
        "\n",
        "4. $\\frac{\\delta \\sigma^2}{\\delta x_i} = \\sum_{j=1}^{n} \\frac{\\delta \\frac{(x_1 - \\mu)^2 + ... + (x_n - \\mu)^2}{n}}{\\delta x_i} = \\frac{2}{n}(x_1 - \\mu)(1 - \\frac{1}{n})  - \\frac{2}{n^2}\\sum_{j=1, j \\neq i}^{n} (x_j - \\mu) = \\frac{2}{n}(x_1 - \\mu) + 0 = \\frac{2}{n}(x_1 - \\mu)$\n",
        "\n",
        "5. $\\frac{\\delta L}{\\delta \\mu} \n",
        "= \\{ L = L(\\tilde{y_1}(\\mu), ..., \\tilde{y_n}(\\mu), \\sigma^2(\\mu)\\}\n",
        "= \\sum_{j=1}^{n} \\frac{\\delta L}{\\delta \\tilde{y_j}} \\frac{\\delta \\tilde{y_j}}{\\delta \\mu} + \\frac{\\delta L}{\\delta \\sigma^2}\\frac{\\delta \\sigma^2}{\\mu}\n",
        "= \\sum_{j=1}^{n} \\frac{\\delta L}{\\delta \\tilde{y_i}} \\frac{-1}{\\sqrt{\\sigma^2 + \\varepsilon}} + \n",
        "\\frac{\\delta L}{\\delta \\sigma^2}\\frac{\\delta \\frac{(x_1 - \\mu)^2 + ... + (x_n - \\mu)^2}{n}}{\\delta \\mu} = \n",
        "\\sum_{j=1}^{n} \\frac{\\delta L}{\\delta \\tilde{y_i}}\\frac{-1}{\\sqrt{\\sigma^2 + \\varepsilon}} + \\frac{\\delta L}{\\delta \\sigma^2}\\frac{\\delta (-\\mu^2)}{\\delta \\mu} = \n",
        "\\sum_{j=1}^{n} \\frac{\\delta L}{\\delta \\tilde{y_i}}\\frac{-1}{\\sqrt{\\sigma^2 + \\varepsilon}} - 2\\mu\\frac{\\delta L}{\\delta \\sigma^2}\n",
        "$\n",
        "\n",
        "6. $\\frac{\\delta \\mu}{\\delta x_i} = \\frac{1}{n}$\n",
        "\n",
        "7. $\\frac{\\delta L}{\\delta \\gamma} = \\{ L = L(y_1(\\gamma), ..., y_n(\\gamma)\\} \n",
        "= \\sum_{j=1}^{n} \\frac{\\delta L}{\\delta y_j} \\frac{\\delta y_j}{\\delta \\gamma}\n",
        "= \\sum_{j=1}^{n} \\frac{\\delta L}{\\delta y_j} \\tilde{y_j}$\n",
        "\n",
        "8. $\\frac{\\delta L}{\\delta \\delta} = \\{ L = L(y_1(\\delta), ..., y_n(\\delta)\\} \n",
        "= \\sum_{j=1}^{n} \\frac{\\delta L}{\\delta y_j} \\frac{\\delta y_j}{\\delta \\delta}\n",
        "= \\sum_{j=1}^{n} \\frac{\\delta L}{\\delta y_j} 1 \n",
        "= \\sum_{j=1}^{n} \\frac{\\delta L}{\\delta y_j}$\n",
        "\n",
        "Итого:\n",
        "\n",
        "$\\nabla_{X} \\mathcal{L} = (\\frac{\\delta L}{\\delta x_1}, ..., \\frac{\\delta L}{\\delta x_n})^T$ \n",
        "\n",
        "$\\frac{\\delta L}{\\delta x_i}\n",
        "= \\frac{\\delta L}{\\delta \\tilde{y_i}} \\frac{1}{\\sqrt{\\sigma^2 + \\varepsilon}}\n",
        "+ \\frac{\\delta L}{\\delta \\sigma^2} \\frac{2(x_1 - \\mu)}{n}\n",
        "+ \\frac{\\delta L}{\\delta \\mu} \\frac{1}{n}$\n",
        "\n",
        "$\\nabla_{\\gamma} \\mathcal{L} = \\sum_{j=1}^{n} \\frac{\\delta L}{\\delta y_j} \\tilde{y_j}$\n",
        "\n",
        "$\\nabla_{\\delta} \\mathcal{L} = \\sum_{j=1}^{n} \\frac{\\delta L}{\\delta y_j}$\n"
      ]
    },
    {
      "cell_type": "markdown",
      "metadata": {
        "id": "hD51ja9qD8QD"
      },
      "source": [
        "### Задание 2. Вывод инициализации весов линейного слоя при использовании ReLU в качестве функции активации (1 балл)\n",
        "\n",
        "Рассмотрим полносвязную нейронную сеть с функцией активации $g(y)$. Пусть сеть состоит из $L$ слоев и размер входа слоя $l$ равен $n_l\\ \\ (l = \\overline{1, L})$.\n",
        "\n",
        "Обозначим за $x^l \\in \\mathbb{R}^{n_{l}}$ вход слоя $l$, за $y^l \\in \\mathbb{R}^{n_{l+1}}$ — выход слоя $l$, за $W^l \\in \\mathbb{R}^{n_{l+1} \\times n_{l}}$ — веса слоя $l$, за $b^l \\in \\mathbb{R}^{n_{l+1}}$ — вектор сдвига слоя $l$.\n",
        "\n",
        "Тогда\n",
        "$$y^l = W^l x^l + b^l,$$\n",
        "$$x^{l+1} = g(y^l).$$\n",
        "\n",
        "На паре вы выводили хорошую инициализацию для линейного слоя в случае, когда в качестве функции активации $g(y)$ в нейронной сети используется гиперболический тангенс $g(y) = \\tanh(y)$. Сейчас вам нужно сделать подобный вывод для случая, когда в сети в качестве функций активации используется $g(y) = ReLU(y) = \\max(0, y)$.\n",
        "\n",
        "Сделаем следующие предположения насчет того, как распределены веса $W^l$, вектор сдвига $b^l$, входной вектор $x^l$, выходной вектор $y^l$ линейного слоя и градиенты функции потерь $\\frac{\\partial L}{\\partial y^{l}}$ $(l = \\overline{1, L}$):\n",
        "\n",
        "1. Все компоненты в $W^l$ распределены одинаково и независимо друг от друга;\n",
        "2. Все компоненты в $y^l$ распределены одинаково и независимо друг от друга;\n",
        "3. Все компоненты в $x^l$ распределены одинаково и независимо друг от друга;\n",
        "4. Все компоненты в $\\frac{\\partial L}{\\partial y^{l}}$ распределены одинаково и независимо друг от друга;\n",
        "5. Все компоненты в $W^l$ и все компоненты в $x^l$ независимы друг от друга;\n",
        "6. Все компоненты в $W^l$ имеют четную плотность распределения (то есть симметричную относительно нуля: $p_{W^l}(-x) = p_{W^l}(x)$);\n",
        "7. Все компоненты в $W^l$ имеют конечное матожидание;\n",
        "8. Вектор $b^l$ инициализирован нулями.\n",
        "\n",
        "\n",
        "Подсказки:\n",
        "1. Из пунктов 6 и 7 следует, что все компоненты в $W^l$ имеют нулевое среднее ($\\mathbb{E} W^l_{ij} = 0\\ \\ \\forall i = \\overline{1, n_{l+1}}, j = \\overline{1, n_{l}}$) (докажите);\n",
        "2. Из пунктов 6 и 7 следует, что все компоненты в $y^l$ имеют нулевое среднее и четную плотность распределения (докажите)."
      ]
    },
    {
      "cell_type": "markdown",
      "metadata": {
        "id": "2C03GkgYD8QE"
      },
      "source": [
        "__Ваше решение:__\n",
        "\n",
        "Рассмотрим дисперсию каждого элемента выхода линейного слоя $y^l = W^lx^l + b^l = [y^l_1, ..., y^l_{n_l}], \\quad y^l_i = (w^l_i, x^l) + b^l_i$\n",
        "\n",
        "Поскольку все компоненты $y^l$ независимы (2), мы имеем право изолированно рассматривать дисперсию каждой компоненты.\n",
        "\n",
        "$\\mathbb{D}(y^l_i) = \\mathbb{D}((w^l_i, x^l) + b^l_i) = $ \n",
        "Поскольку $b^l$ инициализирован 0 (8) \n",
        "$= \\mathbb{D}((w^l_i, x^l)) = \\mathbb{D}(\\sum^{n_l}_{j = 1}w^l_{ij}x^l_{j}) =$ Поскольку все компоненты $W^l$ и $x^l$ независимы друг от друга (5), то и $w^l_{ij}x^l_{j}$ тоже не зависят друг от друга \n",
        "$= \\sum^{n_l}_{j = 1}\\mathbb{D}(w^l_{ij}x^l_{j}) =$ \n",
        "Поскольку все компоненты $W^l$ и $x^l$ независимы друг от друга (5) \n",
        "$= \\sum^{n_l}_{j =1}\\ (\\mathbb{D}(w^l_{ij})\\mathbb{D}(x^l_{j}) + \\mathbb{E}(w^l_{ij})^2\\mathbb{D}(x^l_{j}) + \\mathbb{E}(x^l_{j})^2\\mathbb{D}(w^l_{ij})\\ )$\n",
        "\n",
        "* $\\mathbb{E}(w^l_{ij}) = \\int\\limits_{-\\infty}^{\\infty}p_{W^l}(x)xdx = \\int\\limits_{-\\infty}^{0}p_{W^l}(x)xdx + \\int\\limits_{0}^{\\infty}p_{W^l}(x)xdx =-\\int\\limits_{0}^{\\infty}p_{W^l}(-x)xdx + \\int\\limits_{0}^{\\infty}p_{W^l}(x)xdx = \\int\\limits_{0}^{\\infty}(p_{W^l}(x) - p_{W^l}(-x))xdx =$\n",
        "Поскольку все компоненты в $W^l$ имеют четную плотность распределения\n",
        "$ = 0$ - доказан 1 пункт.\n",
        "\n",
        "$\\Rightarrow \\mathbb{D}(y^l_i) = \\sum^{n_l}_{j =1}\\ (\\mathbb{D}(w^l_{ij})\\mathbb{D}(x^l_{j}) + \\mathbb{E}(x^l_{j})^2\\mathbb{D}(w^l_{ij})\\ ) = \\sum^{n_l}_{j =1}\\mathbb{D}(w^l_{ij})(\\mathbb{D}(x^l_{j}) + \\mathbb{E}(x^l_{j})^2) = $ \n",
        "Поскольку все компоненты в $W^l$ и $y^l$ распределены одинаково и независимо друг от друга (1 и 3) \n",
        "$= \\sum^{n_l}_{j =1}\\mathbb{D}(W^l)(\\mathbb{D}(x^l) + \\mathbb{E}(x^l)^2) = n_l\\mathbb{D}(W^l)(\\mathbb{D}(x^l) + \\mathbb{E}(x^l)^2)$\n",
        "\n",
        "Значит, чтобы сохранить характеристики и начальных данных после выхода из линейного слоя $\\mathbb{D}(W^l)$ должна равняться $\\frac{1}{n_l}$\n",
        "\n",
        "* $\\mathbb{E}(y^l_j) = \\mathbb{E}(\\sum^{n_l}_{j = 1}w^l_{ij}x^l_{j}) =$\n",
        "Поскольку все компоненты $W^l$ и $x^l$ независимы друг от друга (5), то и $w^l_{ij}x^l_{j}$ тоже не зависят друг от друга \n",
        "$= \\sum^{n_l}_{j = 1}\\mathbb{E}(w^l_{ij}x^l_{j}) =$ \n",
        "Поскольку все компоненты $W^l$ и $x^l$ независимы друг от друга (5) \n",
        "$= \\sum^{n_l}_{j =1} \\mathbb{E}(w^l_{ij})\\mathbb{E}(x^l_{j})=$ \n",
        "Поскольку все компоненты в $W^l$ и $y^l$ распределены одинаково и независимо друг от друга (1 и 3)\n",
        "$= \\sum^{n_l}_{j =1}\\mathbb{E}(W^l)\\mathbb{E}(x^l) = n_l\\mathbb{E}(W^l)\\mathbb{E}(x^l) = $\n",
        "Поскольку мы уже доказали, что матожидание весов - ноль\n",
        "$\\Rightarrow \\mathbb{E}(y^l_j) = 0$\n",
        "\n",
        "Отсюда следует, что функция активации уберет \"левую половину\" значений - отрицательных. Таким образом среднее значение сместится на середину между 0 и максимум, а дисперсия уменьшится в два раза. Матожидание и дисперсия будут одинаковыми.\n",
        "\n",
        "Поскольку правила приличия требуют подавать на вход нормализованные данные, чтобы избежать нестабильности засчет матожидания входных данных (ведь от нео зависит дисперсия выхода), то именно коэффициент 2 внесет лепту в итоговое значение: \n",
        "$\\mathbb{D}(W^l)$ должна равняться $\\frac{2}{n_l}$\n",
        "Значит, при нормальном распределении сигма $\\sigma = \\sqrt{\\frac{2}{n_l}}$, что в точности соответствует теоретическим данным по инициализации Kaiming."
      ]
    },
    {
      "cell_type": "markdown",
      "metadata": {
        "heading_collapsed": true,
        "id": "Na78eXOSD8QE"
      },
      "source": [
        "### Задание 3. Почему функция активации $ReLU(y) = \\max(0, y)$ предпочтительней сигмоиды $\\sigma(y) = \\frac{1}{1 + \\exp(-y)}$ в нейронных сетях? (0.5 балла)\n",
        "\n",
        "Дайте развернутый ответ на вопрос \"Почему функция активации $ReLU(y) = \\max(0, y)$ предпочтительней сигмоиды $\\sigma(y) = \\frac{1}{1 + \\exp(-y)}$ в нейронных сетях?\""
      ]
    },
    {
      "cell_type": "markdown",
      "metadata": {
        "hidden": true,
        "id": "PF6trNGZD8QE"
      },
      "source": [
        "__Ваш ответ:__\n",
        "\n",
        "1. ReLU - более дешевая с точки зрения вычислительных затрат операция, нежели Sigmoid (у первой нужно всего лишь сравнивать с нулем, в то время как во второй требуются операции экспоненты и деления) \n",
        "2. Последствия применения ReLU  виде выхода при прямом и градиента при обратном проходе имеют весьма разреженный вид, что облегчает их хранение и уменьшает вес\n",
        "3. Разумеется, главное достоинство - постоянный (не зависящий от входных данных) градиент, всегда > 0 (разумеется, может и равный нулю - тогда обучение останавливается = \"умирающий ReLU\"). В то время как градиент сигмовидной функции может обнулиться при входных данных в неподходящем интервале (больше 5 и меньше -5, где-то так) : чем больше вход, тем меньше градиент\n",
        "4. К тому же, производная сигмоиды всегда меньше нуля, стало быть при перемножении (в глубоких сетях) сигмоида сведет на нет обучаемость сети со скоростью, пропорциональной числу слоев.\n"
      ]
    },
    {
      "cell_type": "markdown",
      "metadata": {
        "hidden": true,
        "id": "yL71LL8TD8QE"
      },
      "source": [
        "---"
      ]
    },
    {
      "cell_type": "markdown",
      "metadata": {
        "id": "K_VR3wm7D8QF"
      },
      "source": [
        "## Практическая часть (7 баллов)"
      ]
    },
    {
      "cell_type": "markdown",
      "metadata": {
        "heading_collapsed": true,
        "id": "BCZEPcUKD8QF"
      },
      "source": [
        "### Реализация нейронной сети (3 балла)"
      ]
    },
    {
      "cell_type": "markdown",
      "metadata": {
        "hidden": true,
        "id": "xBkKNGYMD8QF"
      },
      "source": [
        "В этом задании вы обучите полносвязную нейронную сеть распознавать рукописные цифры (а что же еще, если не их :), [почти] самостоятельно реализовав все составляющие алгоритма обучения и предсказания.\n",
        "\n",
        "Для начала нам понадобится реализовать прямой и обратный проход через слои. Наши слои будут соответствовать следующему интерфейсу (на примере \"тождественного\" слоя):"
      ]
    },
    {
      "cell_type": "markdown",
      "metadata": {
        "id": "TMai7pkLD8QG"
      },
      "source": [
        "Базовые классы __Parameter__, __Module__, __Sequential__. (Чтобы красиво было, как в торче)"
      ]
    },
    {
      "cell_type": "code",
      "metadata": {
        "id": "kOiYfHh2D8QG"
      },
      "source": [
        "class Parameter:\n",
        "    \"\"\"\n",
        "    Собственный класс для обучаемых параметров. \n",
        "    Содержит значения параметра и его градиент.\n",
        "    \"\"\"\n",
        "    def __init__(self, value):\n",
        "        self.value = value\n",
        "        if self.value is not None:\n",
        "            self.grad = np.zeros_like(value)\n",
        "        else:\n",
        "            self.grad = None\n",
        "\n",
        "    def get_parameter(self):\n",
        "        \"\"\"\n",
        "        Возвращает удобную для печати строку с параметрами\n",
        "        \"\"\"\n",
        "        key_val  = colored('\\n->-> value:\\n', attrs=['bold'])\n",
        "        key_grad = colored('\\n->-> grad:\\n' , attrs=['bold'])\n",
        "        return key_val + f'{self.value}' + key_grad + f'{self.grad}'"
      ],
      "execution_count": 3,
      "outputs": []
    },
    {
      "cell_type": "code",
      "metadata": {
        "id": "dZ9tp9TuD8QH"
      },
      "source": [
        "class Module:\n",
        "    \"\"\"\n",
        "    Базовый класс для построения последующих слоёв. Содержит поля:\n",
        "    - имя: имя каждого слоя (например Linear, Dropout и т.д.)\n",
        "    - словарь подмодулей (для модуля объединения Sequential)\n",
        "    - словарь обучаемых параметров\n",
        "    \"\"\"\n",
        "    def __init__(self):\n",
        "        self.name = self.__class__.__name__\n",
        "        self.parameters = OrderedDict()\n",
        "        self.modules = OrderedDict()\n",
        "\n",
        "    def register_parameter(self, name: str, param: Optional[Parameter]):\n",
        "        \"\"\"\n",
        "        Регистрация параметров в словаре параметров\n",
        "        \"\"\"\n",
        "        self.parameters[name] = param\n",
        "\n",
        "    def add_module(self, name: str, module: Optional['Module']):\n",
        "        \"\"\"\n",
        "        Добавление подмодулей (для модуля объединения) в словарь подмодулей\n",
        "        и параметров для обучения в словарь параметров\n",
        "        \"\"\"\n",
        "        self.modules[name] = module\n",
        "        for param in module.parameters.values():\n",
        "            self.parameters.append(param)\n",
        "\n",
        "    def get_parameters(self):\n",
        "        \"\"\"\n",
        "        Возвращается удобная для печати строка с параметрами\n",
        "        \"\"\"\n",
        "        res_param = ''\n",
        "        for (key_param, param) in self.parameters.items():\n",
        "            res_param += colored(f'\\n-> {key_param}:', attrs=['bold']) + param.get_parameter()\n",
        "        return res_param"
      ],
      "execution_count": 4,
      "outputs": []
    },
    {
      "cell_type": "code",
      "metadata": {
        "id": "34ZapjyED8QH"
      },
      "source": [
        "class Sequential(Module):\n",
        "    \"\"\"\n",
        "    Класс для объединения слоёв на основе базового. \n",
        "    Дополнительных параметров нет.\n",
        "    Во время инициализации формирует список (для модуля это словарь \n",
        "    с именами параметров, для объединения это список для удобного последовательного прохода) \n",
        "    подмодулей и тренируемых параметров за счет add_module.\n",
        "    \"\"\"\n",
        "    def __init__(self, *args):\n",
        "        super().__init__()\n",
        "        self.parameters = []\n",
        "        \n",
        "        for i, module in enumerate(args):\n",
        "            self.add_module(module.name + f'_{i+1}', module)\n",
        "\n",
        "    def forward(self, input):\n",
        "        \"\"\"\n",
        "        Прямой ход по всем подмодулям с передачей предсказаний.\n",
        "        \"\"\"\n",
        "        for module in self:\n",
        "            input = module.forward(input)\n",
        "        return input\n",
        "\n",
        "    def backward(self, out):\n",
        "        \"\"\"\n",
        "        Обратный ход по всем подмодулям в обратном направлении с распространением ошибки.\n",
        "        \"\"\"\n",
        "        for module in reversed(self):\n",
        "            out = module.backward(out)\n",
        "        return out\n",
        "\n",
        "    def get_parameters(self):\n",
        "        \"\"\"\n",
        "        Удобный вывод строки с параметрами\n",
        "        \"\"\"\n",
        "        res_module = ''\n",
        "        for (key_module, module) in self.modules.items():\n",
        "            res_module += colored(f'\\n\\n {key_module}:', 'red', attrs=['bold']) + module.get_parameters() \n",
        "        return res_module\n",
        "\n",
        "    # Немного магии для итерации и доступа\n",
        "    def __len__(self):\n",
        "        return len(self.modules)\n",
        "    \n",
        "    def __getitem__(self, name: str):\n",
        "        return self.modules[name]\n",
        "\n",
        "    def __iter__(self):\n",
        "        return iter(self.modules.values())\n",
        "\n",
        "    def __reversed__(self):\n",
        "        return reversed(self.modules.values())"
      ],
      "execution_count": 5,
      "outputs": []
    },
    {
      "cell_type": "markdown",
      "metadata": {
        "id": "Jg77zZvkD8QH"
      },
      "source": [
        "Широкий спектр слоев:"
      ]
    },
    {
      "cell_type": "code",
      "metadata": {
        "ExecuteTime": {
          "end_time": "2021-03-03T14:44:48.924967Z",
          "start_time": "2021-03-03T14:44:48.912996Z"
        },
        "hidden": true,
        "id": "zI99RxMfD8QH"
      },
      "source": [
        "class Linear(Module):\n",
        "    \"\"\"\n",
        "    Класс для полносвязных слоёв на основе базового. \n",
        "    В необучаемые парамтеры входят:\n",
        "    - размерность слоя n_input, n_output\n",
        "    - l2 - коэф-т L2 регуляризации весов\n",
        "    - initialization - определяет коэффициент для дисперсии распределения весов при начальной инициализации\n",
        "        - int: постоянный для всех слоев коэффициент дисперсии (например, 0.001)\n",
        "        - str: {'Xavier', 'Kaiming'}\n",
        "    - alpha - коэф-т наклона прямой у ф.а. ReLU (0) у LeakyReLU (alpha)\n",
        "    В обучаемые параметры (отправляющиеся в словарь параметров объединения Sequential) входят:\n",
        "    - W, b - матрица весов и сдвигов\n",
        "    \"\"\"\n",
        "    def __init__(self, n_input, n_output, l2=1.0, initialization=1.0, alpha=0.0):\n",
        "        super().__init__()\n",
        "        self.n_input = n_input\n",
        "        self.n_output = n_output\n",
        "            \n",
        "        if initialization == 'Xavier':\n",
        "            self.W_init_reg = np.sqrt(2.0 / (self.n_input + self.n_output))\n",
        "            \n",
        "        if initialization == 'Kaiming':\n",
        "            self.W_init_reg = np.sqrt(2.0 / ((1.0 - alpha ** 2) * self.n_input))\n",
        "        \n",
        "        if(type(initialization) == float):\n",
        "            self.W_init_reg = initialization\n",
        "            \n",
        "        self.l2 = l2\n",
        "        self.W = Parameter(self.W_init_reg * np.random.randn(self.n_input, self.n_output))\n",
        "        self.b = Parameter(np.random.randn(1, self.n_output))\n",
        "        self.reset_parameter()\n",
        "\n",
        "    def forward(self, input):\n",
        "        \"\"\"\n",
        "        Прямой проход по слою: формируются предсказания\n",
        "        \"\"\"\n",
        "        self.input = Parameter(input)\n",
        "        return input.dot(self.W.value) + self.b.value\n",
        "\n",
        "    def backward(self, out):\n",
        "        \"\"\"\n",
        "        Обратный ход: ошибка передается на предыдущий слой с учетом влияния W, b, \n",
        "        вычисляется градиент по весам и сдвигам\n",
        "        \"\"\"\n",
        "        self.W.grad = self.input.value.T.dot(out) + self.l2 * self.W.value\n",
        "        self.b.grad = np.sum(out, axis=0, keepdims=True)\n",
        "        self.input.grad = out.dot(self.W.value.T)\n",
        "        return self.input.grad\n",
        "\n",
        "    def reset_parameter(self):\n",
        "        \"\"\"\n",
        "        Регистрация обучаемых параметров\n",
        "        \"\"\"\n",
        "        self.register_parameter('W', self.W)\n",
        "        self.register_parameter('b', self.b)"
      ],
      "execution_count": 6,
      "outputs": []
    },
    {
      "cell_type": "markdown",
      "metadata": {
        "id": "gcL_Buw0D8QH"
      },
      "source": [
        "### Слой нелинейности ReLU и несколько других\n",
        "\n",
        "Для начала реализуем слой нелинейности $ReLU(y) = \\max(0, y)$. Параметров у слоя нет. Метод `forward` должен вернуть результат поэлементного применения $ReLU$ к входному массиву, метод `backward` — градиент функции потерь по входу слоя. В нуле будем считать производную равной 0. Обратите внимание, что при обратном проходе могут понадобиться величины, посчитанные во время прямого прохода, поэтому их стоит сохранить как атрибут класса."
      ]
    },
    {
      "cell_type": "code",
      "metadata": {
        "id": "FfbrP8p-D8QH"
      },
      "source": [
        "def relu(input):\n",
        "    return np.maximum(input, 0.0)\n",
        "    \n",
        "def relu_grad(input):\n",
        "    return np.where(input < 0, 0.0, 1.0)\n",
        "\n",
        "def leaky_relu(input, alpha):\n",
        "    return np.maximum(input, alpha * input)\n",
        "\n",
        "def leaky_relu_grad(input, alpha):\n",
        "    return np.where(input < 0, alpha, 1.0)\n",
        "\n",
        "def tanh(input):\n",
        "    return np.tanh(input)\n",
        "\n",
        "def tanh_grad(input):\n",
        "    return 1.0 - np.square(input)\n",
        "\n",
        "def sigmoid(input):\n",
        "    return 1.0 / (1.0 + np.exp(-input))\n",
        "\n",
        "def sigmoid_grad(input):\n",
        "    return input * (1.0 - input)"
      ],
      "execution_count": 7,
      "outputs": []
    },
    {
      "cell_type": "code",
      "metadata": {
        "ExecuteTime": {
          "end_time": "2021-03-03T14:44:48.939926Z",
          "start_time": "2021-03-03T14:44:48.928957Z"
        },
        "id": "pUXbLq-rD8QI"
      },
      "source": [
        "class ReLU(Module):\n",
        "    \"\"\"\n",
        "    Функция активации ReLU на основе базового класса Module. \n",
        "    Обучаемых параметров не содержит.\n",
        "    \"\"\"\n",
        "    def __init__(self):\n",
        "        super().__init__()\n",
        "        self.relu = Parameter(None)\n",
        "        \n",
        "    def forward(self, input):\n",
        "        \"\"\"\n",
        "        Выход предыдущего нейронного слоя через функцию активации. \n",
        "        \"\"\"\n",
        "        self.relu.value = input\n",
        "        return relu(input)\n",
        "\n",
        "    def backward(self, out):\n",
        "        \"\"\"\n",
        "        Обратное распространение ошибки, подсчет градиента\n",
        "        \"\"\"\n",
        "        self.relu.grad = relu_grad(self.relu.value)\n",
        "        return self.relu.grad * out\n",
        "    \n",
        "    def __repr__(self):\n",
        "        return 'Relu()'"
      ],
      "execution_count": 8,
      "outputs": []
    },
    {
      "cell_type": "markdown",
      "metadata": {
        "id": "vlwj0WSiD8QI"
      },
      "source": [
        "Написание функций активации захватывает:"
      ]
    },
    {
      "cell_type": "code",
      "metadata": {
        "id": "_USMCo_iD8QI"
      },
      "source": [
        "class LeakyReLU(Module):\n",
        "    \"\"\"\n",
        "    Функция активации LeakyReLU на основе базового класса Module. \n",
        "    Обучаемых параметров не содержит.\n",
        "    \"\"\"\n",
        "    def __init__(self):\n",
        "        super().__init__(alpha=0.1)\n",
        "        self.leaky_relu = Parameter(None)\n",
        "        self.alpha = alpha\n",
        "        \n",
        "    def forward(self, input):\n",
        "        \"\"\"\n",
        "        Выход предыдущего нейронного слоя через функцию активации. \n",
        "        \"\"\"\n",
        "        self.leaky_relu.value = input\n",
        "        return leaky_relu(input, self.alpha)\n",
        "\n",
        "    def backward(self, out):\n",
        "        \"\"\"\n",
        "        Обратное распространение ошибки, подсчет градиента\n",
        "        \"\"\"\n",
        "        self.leaky_relu.grad = leaky_relu_grad(self.leaky_relu.value)\n",
        "        return self.leaky_relu.grad * out"
      ],
      "execution_count": 9,
      "outputs": []
    },
    {
      "cell_type": "code",
      "metadata": {
        "id": "kWn4XhVwD8QI"
      },
      "source": [
        "class Tanh(Module):\n",
        "    \"\"\"\n",
        "    Функция активации Tanh на основе базового класса Module. \n",
        "    Обучаемых параметров не содержит.\n",
        "    \"\"\"\n",
        "    def __init__(self):\n",
        "        super().__init__()\n",
        "        self.tanh = Parameter(None)\n",
        "\n",
        "    def forward(self, input):\n",
        "        \"\"\"\n",
        "        Выход предыдущего нейронного слоя через функцию активации. \n",
        "        \"\"\"\n",
        "        self.tanh.value = tanh(input)\n",
        "        return self.tanh.value\n",
        "\n",
        "    def backward(self, out):\n",
        "        \"\"\"\n",
        "        Обратное распространение ошибки, подсчет градиента\n",
        "        \"\"\"\n",
        "        self.tanh.grad = tanh_grad(self.tanh.value)\n",
        "        return self.tanh.grad * out"
      ],
      "execution_count": 10,
      "outputs": []
    },
    {
      "cell_type": "code",
      "metadata": {
        "id": "R8A45kzHD8QI"
      },
      "source": [
        "class Sigmoid(Module):\n",
        "    \"\"\"\n",
        "    Функция активации Sigmoid на основе базового класса Module. \n",
        "    Обучаемых параметров не содержит.\n",
        "    \"\"\"\n",
        "    def __init__(self):\n",
        "        super().__init__()\n",
        "        self.sigm = Parameter(None)\n",
        "\n",
        "    def forward(self, input):\n",
        "        \"\"\"\n",
        "        Выход предыдущего нейронного слоя через функцию активации. \n",
        "        \"\"\"\n",
        "        self.sigm.value = sigmoid(input)\n",
        "        return self.sigm.value\n",
        "\n",
        "    def backward(self, out):\n",
        "        \"\"\"\n",
        "        Обратное распространение ошибки, подсчет градиента\n",
        "        \"\"\"\n",
        "        self.sigm.grad = sigmoid_grad(self.sigm.value)\n",
        "        return self.sigm.grad * out"
      ],
      "execution_count": 11,
      "outputs": []
    },
    {
      "cell_type": "markdown",
      "metadata": {
        "id": "o0dGP8W-D8QJ"
      },
      "source": [
        "### Проверка градиента\n",
        "\n",
        "Проверим правильность реализации с помощью функции численной проверки градиента. Функция `eval_numerical_gradient` принимает на вход callable объект `f` (функцию от одного аргумента-матрицы) и аргумент `x` и вычисляет приближенный градиент функции `f` в точке `x`."
      ]
    },
    {
      "cell_type": "code",
      "metadata": {
        "ExecuteTime": {
          "end_time": "2021-03-03T14:44:49.003751Z",
          "start_time": "2021-03-03T14:44:48.990787Z"
        },
        "id": "wO8Vz6TID8QJ"
      },
      "source": [
        "def eval_numerical_gradient(f, x, verbose=False, h=0.00001, dot=False):\n",
        "    \"\"\"\n",
        "    Evaluates gradient df/dx via finite differences:\n",
        "    df/dx ~ (f(x+h) - f(x-h)) / 2h\n",
        "    Adopted from https://github.com/ddtm/dl-course/\n",
        "    \"\"\"\n",
        "    fx = f(x) # evaluate function value at original point\n",
        "    grad = np.zeros_like(x)\n",
        "    # iterate over all indexes in x\n",
        "    it = np.nditer(x, flags=['multi_index'], op_flags=['readwrite'])\n",
        "    while not it.finished:\n",
        "\n",
        "        # evaluate function at x+h\n",
        "        ix = it.multi_index\n",
        "        oldval = x[ix]\n",
        "        x[ix] = oldval + h # increment by h\n",
        "        fxph = f(x) # evalute f(x + h)\n",
        "        x[ix] = oldval - h\n",
        "        fxmh = f(x) # evaluate f(x - h)\n",
        "        x[ix] = oldval # restore\n",
        "        # compute the partial derivative with centered formula\n",
        "        if dot:\n",
        "            grad[ix] = np.sum((((fxph - fxmh) / (2 * h)) * fx [ix[0]]))\n",
        "        else: \n",
        "            grad[ix] = ((fxph - fxmh) / (2 * h))[ix]\n",
        "            \n",
        "        if verbose:\n",
        "            print (ix, grad[ix])\n",
        "        it.iternext() # step to next dimension\n",
        "\n",
        "    return grad"
      ],
      "execution_count": 12,
      "outputs": []
    },
    {
      "cell_type": "markdown",
      "metadata": {
        "id": "STAytFWGT-jJ"
      },
      "source": [
        "Позволила себе некоторые косметические изменнения для большей наглядности."
      ]
    },
    {
      "cell_type": "markdown",
      "metadata": {
        "id": "HXdtt862D8QJ"
      },
      "source": [
        "Вычислите аналитический и численный градиенты по входу слоя ReLU от функции $ f(X) = ReLU(x) $\n",
        "\n",
        "Выпишите аналитический градиент в этой ячейке: (На примере одной строки из входных данных, остальные аналогично)\n",
        "\n",
        "Допустим, $x = [x_{11}, x_{12}, x_{13}, ... , x_{1n}] \\Rightarrow f(x) =  [0, 0, x_{13}, ... , x_{1n}] \\quad$ если $x_{11}, x_{13}, ... < 0$ \\\n",
        "$\\Rightarrow \\triangledown f(x) = \n",
        "[\\frac{d0}{x_{11}}, \\frac{d0}{x_{12}}, \\frac{dx_{13}}{x_{13}}, ... , \\frac{dx_{1n}}{x_{1n}}] =\n",
        "[0, 0, 1, ..., 1]$"
      ]
    },
    {
      "cell_type": "markdown",
      "metadata": {
        "id": "HpXow4laD8QJ"
      },
      "source": [
        "Следующая ячейка после заполнения должна не выдавать ошибку :)"
      ]
    },
    {
      "cell_type": "code",
      "metadata": {
        "ExecuteTime": {
          "end_time": "2021-03-03T14:44:49.034673Z",
          "start_time": "2021-03-03T14:44:49.006744Z"
        },
        "colab": {
          "base_uri": "https://localhost:8080/"
        },
        "id": "Cf6tv_gLD8QJ",
        "outputId": "0bc3f9d3-38b4-43b4-9755-f8d34fd43f92"
      },
      "source": [
        "points = np.linspace(-1, 1, 10*12).reshape([10, 12])\n",
        "\n",
        "grads = relu_grad(points)\n",
        "print('my_own: \\n', grads, '\\n')\n",
        "\n",
        "numeric_grads = eval_numerical_gradient(relu, points)\n",
        "print('eval_num_grad: \\n', numeric_grads, '\\n')\n",
        "\n",
        "assert np.allclose(grads, numeric_grads, rtol=1e-3, atol=0) "
      ],
      "execution_count": 13,
      "outputs": [
        {
          "output_type": "stream",
          "text": [
            "my_own: \n",
            " [[0. 0. 0. 0. 0. 0. 0. 0. 0. 0. 0. 0.]\n",
            " [0. 0. 0. 0. 0. 0. 0. 0. 0. 0. 0. 0.]\n",
            " [0. 0. 0. 0. 0. 0. 0. 0. 0. 0. 0. 0.]\n",
            " [0. 0. 0. 0. 0. 0. 0. 0. 0. 0. 0. 0.]\n",
            " [0. 0. 0. 0. 0. 0. 0. 0. 0. 0. 0. 0.]\n",
            " [1. 1. 1. 1. 1. 1. 1. 1. 1. 1. 1. 1.]\n",
            " [1. 1. 1. 1. 1. 1. 1. 1. 1. 1. 1. 1.]\n",
            " [1. 1. 1. 1. 1. 1. 1. 1. 1. 1. 1. 1.]\n",
            " [1. 1. 1. 1. 1. 1. 1. 1. 1. 1. 1. 1.]\n",
            " [1. 1. 1. 1. 1. 1. 1. 1. 1. 1. 1. 1.]] \n",
            "\n",
            "eval_num_grad: \n",
            " [[0. 0. 0. 0. 0. 0. 0. 0. 0. 0. 0. 0.]\n",
            " [0. 0. 0. 0. 0. 0. 0. 0. 0. 0. 0. 0.]\n",
            " [0. 0. 0. 0. 0. 0. 0. 0. 0. 0. 0. 0.]\n",
            " [0. 0. 0. 0. 0. 0. 0. 0. 0. 0. 0. 0.]\n",
            " [0. 0. 0. 0. 0. 0. 0. 0. 0. 0. 0. 0.]\n",
            " [1. 1. 1. 1. 1. 1. 1. 1. 1. 1. 1. 1.]\n",
            " [1. 1. 1. 1. 1. 1. 1. 1. 1. 1. 1. 1.]\n",
            " [1. 1. 1. 1. 1. 1. 1. 1. 1. 1. 1. 1.]\n",
            " [1. 1. 1. 1. 1. 1. 1. 1. 1. 1. 1. 1.]\n",
            " [1. 1. 1. 1. 1. 1. 1. 1. 1. 1. 1. 1.]] \n",
            "\n"
          ],
          "name": "stdout"
        }
      ]
    },
    {
      "cell_type": "markdown",
      "metadata": {
        "id": "pWvS8jplD8QL"
      },
      "source": [
        "Как видно, ошибки нет."
      ]
    },
    {
      "cell_type": "markdown",
      "metadata": {
        "id": "o3arIyeND8QL"
      },
      "source": [
        "Вычислите аналитический и численный градиенты по входу полносвязного слоя от функции\n",
        "$$ f(x) = Wx + b $$\n",
        "\n",
        "Выпишите аналитический градиент в этой ячейке (советуем выписать градиент через дифференциал функции $f$):\n",
        "\n",
        "(На примере одного вектора данных)\n",
        "\n",
        "Согласно формулам матрично-векторного дифференциирования: $df(x) = d((W, x) + b) = d(W, x) + db = (W, dx) + 0 \n",
        "= (W, dx) = (\\triangledown f(x), dx) \\Rightarrow \\triangledown f(x) = W$\n",
        "\n",
        "В реализации сети Linear(x) = xW + b, так что $\\triangledown f(x) = W^T$"
      ]
    },
    {
      "cell_type": "markdown",
      "metadata": {
        "id": "yJUnsL7QD8QL"
      },
      "source": [
        "Следующая ячейка после заполнения должна не выдавать ошибку :)"
      ]
    },
    {
      "cell_type": "code",
      "metadata": {
        "id": "pKl8dZMLD8QL"
      },
      "source": [
        "np.set_printoptions(precision=5, suppress=True)"
      ],
      "execution_count": 14,
      "outputs": []
    },
    {
      "cell_type": "code",
      "metadata": {
        "ExecuteTime": {
          "end_time": "2021-03-03T14:44:49.066624Z",
          "start_time": "2021-03-03T14:44:49.041651Z"
        },
        "colab": {
          "base_uri": "https://localhost:8080/"
        },
        "id": "cVMMpmAqD8QL",
        "outputId": "c9001ba9-963a-4e6a-97c7-087a8ff8078a"
      },
      "source": [
        "linear = Linear(5, 10)\n",
        "\n",
        "points = np.linspace(-1, 1, 15*5).reshape([15, 5])\n",
        "points_out = linear.forward(points)\n",
        "grads = linear.backward(points_out)\n",
        "print('my_own: \\n', grads, '\\n')\n",
        "\n",
        "numeric_grads = eval_numerical_gradient(linear.forward, points, dot=True)\n",
        "print('eval_num_grad: \\n', numeric_grads, '\\n')\n",
        "\n",
        "assert np.allclose(grads, numeric_grads, rtol=1e-3, atol=0)"
      ],
      "execution_count": 15,
      "outputs": [
        {
          "output_type": "stream",
          "text": [
            "my_own: \n",
            " [[ -1.58215  -9.45241 -12.82249  -9.75524  -5.87358]\n",
            " [ -1.83993  -6.8949  -10.82     -7.49695  -4.42124]\n",
            " [ -2.09771  -4.33738  -8.8175   -5.23865  -2.96889]\n",
            " [ -2.35549  -1.77987  -6.815    -2.98036  -1.51655]\n",
            " [ -2.61328   0.77765  -4.81251  -0.72207  -0.0642 ]\n",
            " [ -2.87106   3.33517  -2.81001   1.53623   1.38814]\n",
            " [ -3.12884   5.89268  -0.80751   3.79452   2.84048]\n",
            " [ -3.38662   8.4502    1.19498   6.05282   4.29283]\n",
            " [ -3.6444   11.00771   3.19748   8.31111   5.74517]\n",
            " [ -3.90218  13.56523   5.19998  10.56941   7.19752]\n",
            " [ -4.15996  16.12274   7.20247  12.8277    8.64986]\n",
            " [ -4.41774  18.68026   9.20497  15.086    10.1022 ]\n",
            " [ -4.67552  21.23777  11.20747  17.34429  11.55455]\n",
            " [ -4.9333   23.79529  13.20996  19.60258  13.00689]\n",
            " [ -5.19108  26.3528   15.21246  21.86088  14.45924]] \n",
            "\n",
            "eval_num_grad: \n",
            " [[ -1.58215  -9.45241 -12.82249  -9.75524  -5.87358]\n",
            " [ -1.83993  -6.8949  -10.82     -7.49695  -4.42124]\n",
            " [ -2.09771  -4.33738  -8.8175   -5.23865  -2.96889]\n",
            " [ -2.35549  -1.77987  -6.815    -2.98036  -1.51655]\n",
            " [ -2.61328   0.77765  -4.81251  -0.72207  -0.0642 ]\n",
            " [ -2.87106   3.33517  -2.81001   1.53623   1.38814]\n",
            " [ -3.12884   5.89268  -0.80751   3.79452   2.84048]\n",
            " [ -3.38662   8.4502    1.19498   6.05282   4.29283]\n",
            " [ -3.6444   11.00771   3.19748   8.31111   5.74517]\n",
            " [ -3.90218  13.56523   5.19998  10.56941   7.19752]\n",
            " [ -4.15996  16.12274   7.20247  12.8277    8.64986]\n",
            " [ -4.41774  18.68026   9.20497  15.086    10.1022 ]\n",
            " [ -4.67552  21.23777  11.20747  17.34429  11.55455]\n",
            " [ -4.9333   23.79529  13.20996  19.60258  13.00689]\n",
            " [ -5.19108  26.3528   15.21246  21.86088  14.45924]] \n",
            "\n"
          ],
          "name": "stdout"
        }
      ]
    },
    {
      "cell_type": "markdown",
      "metadata": {
        "id": "Kaek9QsaT-jO"
      },
      "source": [
        "Как видно, градиенты совпадают"
      ]
    },
    {
      "cell_type": "markdown",
      "metadata": {
        "id": "ekiMdaklD8QL"
      },
      "source": [
        "### Реализация softmax-слоя и функции потерь"
      ]
    },
    {
      "cell_type": "markdown",
      "metadata": {
        "id": "dugXvdmvD8QL"
      },
      "source": [
        "Для решения задачи многоклассовой классификации обычно используют $softmax$ в качестве нелинейности на последнем слое, чтобы получить вероятности классов для каждого объекта:\n",
        "$$\\hat y = softmax(x)  = \\left \\{\\frac {\\exp(x^i)}{\\sum_{j=1}^K \\exp(x^j)} \\right \\}_{i=1}^K, \\quad K - \\text{число классов.}$$\n",
        "\n",
        "Здесь за $x^i$ мы обозначаем $i$-ый признак объекта $x$.\n",
        "\n",
        "В качестве функции потерь выберем отрицательный логарифм правдоподобия (по английски: negative log likelihood или NLL)\n",
        "$$L(y, \\hat y) = -\\sum_{i=1}^K y^i \\log \\hat y^i,$$\n",
        "где $y^i = 1$, если объект принадлежит $i$-му классу, и $y^i = 0$ иначе.\n",
        "\n",
        "NLL совпадает с выражением для [кросс-энтропии](https://ru.wikipedia.org/wiki/Перекрёстная_энтропия) (в качестве первого распределения берем вырожденное распределение $y$, в качестве второго — предсказанное распределение $\\hat y$). Очевидно, что эту функцию потерь также можно переписать через индексацию, если через $y$ обозначить класс данного объекта:\n",
        "$$L(y, \\hat y) = - \\log \\hat y_{y}$$\n",
        "\n",
        "В таком виде ее удобно реализовывать."
      ]
    },
    {
      "cell_type": "markdown",
      "metadata": {
        "ExecuteTime": {
          "end_time": "2021-03-03T13:13:02.970075Z",
          "start_time": "2021-03-03T13:13:02.961134Z"
        },
        "id": "Ykx5kj4pD8QM"
      },
      "source": [
        "Для обучения нейронной сети будем оптимизировать эту функцию потерь по параметрам нейронной сети:\n",
        "\n",
        "$$ \\frac1N \\sum_{i=1}^N L(y_i, \\hat y_i) = \\frac1N \\sum_{i=1}^N L(y_i, \\text{NN}(x_i)) \\rightarrow \\min_{w}\\,,$$\n",
        "где за $x_i$ и $y_i$ мы обозначили признаки и таргет $i$-ого объекта обучающей выборки, за $\\text{NN}$ мы обозначили нейронную сеть, которая по признакам объекта $x_i$ выдает распределение вероятностей $\\hat y_i$, за $w$ мы обозначили все веса нейронной сети, а $N$ — это число объектов в обучающей выборке."
      ]
    },
    {
      "cell_type": "markdown",
      "metadata": {
        "id": "d70w7cAfD8QM"
      },
      "source": [
        "Реализуйте слой `Softmax` (у этого слоя нет параметров). Метод `forward` должен вычислять логарифм от $softmax$, а метод `backward` — пропускать градиенты. В общем случае в промежуточных вычислениях `backward` получится трехмерный тензор, однако для нашей конкретной функции потерь все вычисления можно реализовать в матричном виде.  Поэтому мы будем предполагать, что аргумент `grad_output` — это матрица, у которой в каждой строке только одно ненулевое значение (не обязательно единица)."
      ]
    },
    {
      "cell_type": "code",
      "metadata": {
        "id": "ETmx0C-CD8QM"
      },
      "source": [
        "def softmax(input):\n",
        "    z = input - np.max(input, axis=1, keepdims=True)\n",
        "    z = np.exp(z)\n",
        "    return z / np.sum(z, axis=1, keepdims=True)"
      ],
      "execution_count": 16,
      "outputs": []
    },
    {
      "cell_type": "code",
      "metadata": {
        "id": "sZDvnM_XD8QM"
      },
      "source": [
        "class Softmax(Module):\n",
        "    \"\"\"\n",
        "    Функция активации Softmax на основе базового класса Module. \n",
        "    Обучаемых параметров не содержит.\n",
        "    \"\"\"\n",
        "    def __init__(self):\n",
        "        super().__init__()\n",
        "        self.softmax = Parameter(None)\n",
        "\n",
        "    def forward(self, input):\n",
        "        \"\"\"\n",
        "        Выход предыдущего нейронного слоя через функцию активации. \n",
        "        \"\"\"\n",
        "        input = softmax(input)\n",
        "        self.softmax.value = input\n",
        "        return -np.log(input + 1e-9)\n",
        "    \n",
        "    def backward(self, out):\n",
        "        \"\"\"\n",
        "        Обратное распространение ошибки, подсчет градиента\n",
        "        \"\"\"\n",
        "        self.softmax.grad = self.softmax.value + out \n",
        "        return self.softmax.grad\n",
        "    \n",
        "    def __repr__(self):\n",
        "        return 'Softmax()'"
      ],
      "execution_count": 17,
      "outputs": []
    },
    {
      "cell_type": "markdown",
      "metadata": {
        "id": "gdndpgW0D8QN"
      },
      "source": [
        "Реализуйте функцию потерь и градиенты функции потерь. Во время вычисления NLL усредняйте (а не суммируйте) значения функции потерь по батчу. Обычно так делают для того, чтобы при двух запусках обучения нейронной сети с разными размерами батча получаемые значения функции потерь у этих сетей были сравнимы."
      ]
    },
    {
      "cell_type": "code",
      "metadata": {
        "ExecuteTime": {
          "end_time": "2021-03-03T14:44:49.302990Z",
          "start_time": "2021-03-03T14:44:49.290985Z"
        },
        "id": "tPz-saSND8QN"
      },
      "source": [
        "def NLL(preds, targets):\n",
        "    \"\"\"\n",
        "    Подсчет  для 10 классов.\n",
        "    \"\"\"\n",
        "    logs = preds[range(len(preds)), targets.flatten()]\n",
        "    loss = np.mean(logs)\n",
        "    return loss\n",
        "\n",
        "def grad_NLL(preds, targets):\n",
        "    \"\"\"\n",
        "    Подсчет ошибки по кросс-энтропии и градиента \n",
        "    для передачи в обратное распространение.\n",
        "    \"\"\"\n",
        "    grad = np.zeros_like(preds)\n",
        "    grad[range(len(grad)), targets.flatten()] -= 1\n",
        "    return grad"
      ],
      "execution_count": 18,
      "outputs": []
    },
    {
      "cell_type": "markdown",
      "metadata": {
        "id": "uH3SyCUkD8QN"
      },
      "source": [
        "Наконец, выполните проверку `Softmax`-слоя, используя функцию потерь и ее градиент:"
      ]
    },
    {
      "cell_type": "code",
      "metadata": {
        "id": "gJvInpN1D8QN"
      },
      "source": [
        "np.set_printoptions(precision=2, suppress=True)"
      ],
      "execution_count": 19,
      "outputs": []
    },
    {
      "cell_type": "code",
      "metadata": {
        "ExecuteTime": {
          "end_time": "2021-03-03T14:44:49.350863Z",
          "start_time": "2021-03-03T14:44:49.305945Z"
        },
        "colab": {
          "base_uri": "https://localhost:8080/"
        },
        "id": "CKwflaS6D8QN",
        "outputId": "416104bc-0838-49fd-cd75-0eb6f697ea7b"
      },
      "source": [
        "sm = Softmax()\n",
        "target = np.arange(10)\n",
        "points = np.linspace(-1, 1, 10 * 12).reshape([10, 12])\n",
        "\n",
        "points_out = sm.forward(points)\n",
        "grads = grad_NLL(points_out, target)\n",
        "print('my_own: \\n', grads, '\\n')\n",
        "\n",
        "numeric_grads = -eval_numerical_gradient(sm.forward, points) * grads\n",
        "print('eval_num_grad: \\n', numeric_grads, '\\n')\n",
        "\n",
        "assert np.allclose(grads, numeric_grads, rtol=1e-1, atol=0)"
      ],
      "execution_count": 20,
      "outputs": [
        {
          "output_type": "stream",
          "text": [
            "my_own: \n",
            " [[-1.  0.  0.  0.  0.  0.  0.  0.  0.  0.  0.  0.]\n",
            " [ 0. -1.  0.  0.  0.  0.  0.  0.  0.  0.  0.  0.]\n",
            " [ 0.  0. -1.  0.  0.  0.  0.  0.  0.  0.  0.  0.]\n",
            " [ 0.  0.  0. -1.  0.  0.  0.  0.  0.  0.  0.  0.]\n",
            " [ 0.  0.  0.  0. -1.  0.  0.  0.  0.  0.  0.  0.]\n",
            " [ 0.  0.  0.  0.  0. -1.  0.  0.  0.  0.  0.  0.]\n",
            " [ 0.  0.  0.  0.  0.  0. -1.  0.  0.  0.  0.  0.]\n",
            " [ 0.  0.  0.  0.  0.  0.  0. -1.  0.  0.  0.  0.]\n",
            " [ 0.  0.  0.  0.  0.  0.  0.  0. -1.  0.  0.  0.]\n",
            " [ 0.  0.  0.  0.  0.  0.  0.  0.  0. -1.  0.  0.]] \n",
            "\n",
            "eval_num_grad: \n",
            " [[-0.92  0.    0.    0.    0.    0.    0.    0.    0.    0.    0.    0.  ]\n",
            " [ 0.   -0.92  0.    0.    0.    0.    0.    0.    0.    0.    0.    0.  ]\n",
            " [ 0.    0.   -0.92  0.    0.    0.    0.    0.    0.    0.    0.    0.  ]\n",
            " [ 0.    0.    0.   -0.92  0.    0.    0.    0.    0.    0.    0.    0.  ]\n",
            " [ 0.    0.    0.    0.   -0.92  0.    0.    0.    0.    0.    0.    0.  ]\n",
            " [ 0.    0.    0.    0.    0.   -0.92  0.    0.    0.    0.    0.    0.  ]\n",
            " [ 0.    0.    0.    0.    0.    0.   -0.92  0.    0.    0.    0.    0.  ]\n",
            " [ 0.    0.    0.    0.    0.    0.    0.   -0.91  0.    0.    0.    0.  ]\n",
            " [ 0.    0.    0.    0.    0.    0.    0.    0.   -0.91  0.    0.    0.  ]\n",
            " [ 0.    0.    0.    0.    0.    0.    0.    0.    0.   -0.91  0.    0.  ]] \n",
            "\n"
          ],
          "name": "stdout"
        }
      ]
    },
    {
      "cell_type": "markdown",
      "metadata": {
        "id": "m0fD4rsbT-jU"
      },
      "source": [
        "Все считается верно."
      ]
    },
    {
      "cell_type": "markdown",
      "metadata": {
        "id": "x6StuzLOD8QO"
      },
      "source": [
        "## Загрузка данных\n",
        "\n",
        "Мы реализаовали все архитектурные составляющие нашей нейронной сети. Осталось загрузить данные и обучить модель. Мы будем работать с датасетом `digits`, каждый объект в котором — это 8x8 изображение рукописной цифры."
      ]
    },
    {
      "cell_type": "code",
      "metadata": {
        "ExecuteTime": {
          "end_time": "2021-03-03T14:44:51.873771Z",
          "start_time": "2021-03-03T14:44:51.703667Z"
        },
        "colab": {
          "base_uri": "https://localhost:8080/"
        },
        "id": "L0IwlvzuD8QO",
        "outputId": "1a67fedd-e4fa-43e1-d0d7-dbe5029fa04b"
      },
      "source": [
        "X, y = load_digits(return_X_y=True)\n",
        "X.shape, y.shape"
      ],
      "execution_count": 21,
      "outputs": [
        {
          "output_type": "execute_result",
          "data": {
            "text/plain": [
              "((1797, 64), (1797,))"
            ]
          },
          "metadata": {
            "tags": []
          },
          "execution_count": 21
        }
      ]
    },
    {
      "cell_type": "markdown",
      "metadata": {
        "id": "U12dbpvvD8QO"
      },
      "source": [
        "Разделим данные на обучение и контроль:"
      ]
    },
    {
      "cell_type": "code",
      "metadata": {
        "ExecuteTime": {
          "end_time": "2021-03-03T14:44:51.968609Z",
          "start_time": "2021-03-03T14:44:51.955642Z"
        },
        "colab": {
          "base_uri": "https://localhost:8080/"
        },
        "id": "d4ZUs27nD8QO",
        "outputId": "b88a0e07-8850-49fe-c5a9-69be010c304a"
      },
      "source": [
        "X_train, X_test, y_train, y_test = train_test_split(X, y.reshape(-1, 1), test_size = 0.3, \n",
        "                                                    random_state=0, shuffle=True)\n",
        "X_train.shape, X_test.shape                                                    "
      ],
      "execution_count": 22,
      "outputs": [
        {
          "output_type": "execute_result",
          "data": {
            "text/plain": [
              "((1257, 64), (540, 64))"
            ]
          },
          "metadata": {
            "tags": []
          },
          "execution_count": 22
        }
      ]
    },
    {
      "cell_type": "markdown",
      "metadata": {
        "id": "PXqjF9M7T-ji"
      },
      "source": [
        "Взглянем на данные:"
      ]
    },
    {
      "cell_type": "code",
      "metadata": {
        "id": "qoXjQqM7D8QP"
      },
      "source": [
        "def dataloader(X, y, norm=False, batch_size=32):\n",
        "    \"\"\"\n",
        "    Разделение тренировочного сета на батчи с возможной нормализацией.\n",
        "    \"\"\"\n",
        "    if norm:\n",
        "        X = normalize(X, axis=0, norm='max')\n",
        "\n",
        "    new_index = np.random.permutation(X.shape[0])\n",
        "    X_new = X[new_index]\n",
        "    y_new = y[new_index]\n",
        "\n",
        "    dataset = []\n",
        "    for batch in range(X.shape[0] // batch_size + 1):\n",
        "        a = batch * batch_size\n",
        "        b = (batch + 1) * batch_size\n",
        "        dataset.append([X_new[a : b], y_new[a : b]])\n",
        "\n",
        "    return dataset"
      ],
      "execution_count": 23,
      "outputs": []
    },
    {
      "cell_type": "markdown",
      "metadata": {
        "id": "VicZrz7hD8QQ"
      },
      "source": [
        "## Сборка и обучение нейронной сети (1 балл)"
      ]
    },
    {
      "cell_type": "markdown",
      "metadata": {
        "id": "NHCglB7tD8QQ"
      },
      "source": [
        "В моей реализации нейронная сеть собирается так же, как в pytorch: с использованием Sequential. Во имя красоты и удобства."
      ]
    },
    {
      "cell_type": "code",
      "metadata": {
        "id": "xqmEXilOD8QQ"
      },
      "source": [
        "def clamp (parameters):\n",
        "    \"\"\"\n",
        "    Искусственное ограничение весов параметров для сохранения липшицовости.\n",
        "    \"\"\"\n",
        "    for p in parameters:\n",
        "        np.place(p, p > 0.1, 0.1)\n",
        "        np.place(p, p < -0.1, -0.1)"
      ],
      "execution_count": 24,
      "outputs": []
    },
    {
      "cell_type": "code",
      "metadata": {
        "id": "Kb6IJR9HT-jk"
      },
      "source": [
        "def make_net(size):\n",
        "    \"\"\"\n",
        "    Для удобства экспериментов с числом слоев.\n",
        "    Параметр:\n",
        "    - size - количество полносвязных слоев в сети\n",
        "    Возращается:\n",
        "    - список из размеров полносвязных слоев\n",
        "    \"\"\"\n",
        "    hidden = np.arange(64, 64 + 20 * size , 20)\n",
        "    return np.concatenate([hidden, [10]])"
      ],
      "execution_count": 25,
      "outputs": []
    },
    {
      "cell_type": "code",
      "metadata": {
        "ExecuteTime": {
          "end_time": "2021-03-03T14:44:52.016442Z",
          "start_time": "2021-03-03T14:44:52.003513Z"
        },
        "id": "OOnqWNhdD8QQ"
      },
      "source": [
        "class Net():\n",
        "    \"\"\"\n",
        "    Класс для создания своей сети.\n",
        "    Параметр:\n",
        "    - Список аргументов:\n",
        "        - список модулей непосредственно\n",
        "        - [size, mode, func] - число полносвязных слоев, \n",
        "        тип инициализации весов этих слоев,\n",
        "        следующая за полносвязным слоем ф-я активации\n",
        "    \"\"\"\n",
        "    def __init__(self, *args):\n",
        "        if type(args[0]) == int:\n",
        "            if len(args) == 1:\n",
        "                initialization = 1.0\n",
        "            else:\n",
        "                initialization = args[1]\n",
        "            sizes = make_net(args[0])\n",
        "            layers = []\n",
        "            for i, _ in enumerate(sizes[:-1]):\n",
        "                layers.append(Linear(sizes[i], sizes[i+1], initialization=initialization))\n",
        "                if len(args) > 2:\n",
        "                    if args[2] == 'Tanh':\n",
        "                        layers.append(Tanh())\n",
        "                    if args[2] == 'Sigmoid':\n",
        "                        # сигмоида хорошо показывает себя на входных данных из [-5, 5]\n",
        "                        #(а на [-10, -8] - плохо), поэтому позволим себе нормализовать их \n",
        "                        layers.append(Sigmoid())                       \n",
        "                else:\n",
        "                    layers.append(ReLU())\n",
        "                        \n",
        "                \n",
        "            layers[-1] = (Softmax())\n",
        "            self.net = Sequential(*layers)\n",
        "            \n",
        "        else:\n",
        "            self.net = Sequential(*args)\n",
        "        \n",
        "    def forward(self, X):\n",
        "        \"\"\"\n",
        "        Еще раз определим пряхой ход.\n",
        "        \"\"\"\n",
        "        # поддерживается сохранение липшицовости, если функционал ошибки не гладкий\n",
        "        # clamp(self.parameters)\n",
        "        y = self.net.forward(X)\n",
        "        return y\n",
        "\n",
        "    def __getattr__(self, attrname):\n",
        "        \"\"\"\n",
        "        Перехват несуществующих атрибутов. Позволяет Net как обертке Sequential \n",
        "        вести себя как Sequential\n",
        "        \"\"\"\n",
        "        return getattr(self.net, attrname) "
      ],
      "execution_count": 54,
      "outputs": []
    },
    {
      "cell_type": "markdown",
      "metadata": {
        "id": "UNUn8latD8QQ"
      },
      "source": [
        "Посмотрим на инициализированные параметры сети:"
      ]
    },
    {
      "cell_type": "code",
      "metadata": {
        "colab": {
          "base_uri": "https://localhost:8080/"
        },
        "id": "cMuxtvkAT-jl",
        "outputId": "34fad776-00f3-4c91-b005-5c31115ef07d"
      },
      "source": [
        "net = Net(Linear(2, 3), ReLU(), Linear(3, 4), Softmax())\n",
        "print(net.get_parameters())"
      ],
      "execution_count": 27,
      "outputs": [
        {
          "output_type": "stream",
          "text": [
            "\u001b[1m\u001b[31m\n",
            "\n",
            " Linear_1:\u001b[0m\u001b[1m\n",
            "-> W:\u001b[0m\u001b[1m\n",
            "->-> value:\n",
            "\u001b[0m[[-0.18  0.43 -0.76]\n",
            " [ 1.71 -0.55  0.08]]\u001b[1m\n",
            "->-> grad:\n",
            "\u001b[0m[[0. 0. 0.]\n",
            " [0. 0. 0.]]\u001b[1m\n",
            "-> b:\u001b[0m\u001b[1m\n",
            "->-> value:\n",
            "\u001b[0m[[-0.27 -2.05  0.38]]\u001b[1m\n",
            "->-> grad:\n",
            "\u001b[0m[[0. 0. 0.]]\u001b[1m\u001b[31m\n",
            "\n",
            " ReLU_2:\u001b[0m\u001b[1m\u001b[31m\n",
            "\n",
            " Linear_3:\u001b[0m\u001b[1m\n",
            "-> W:\u001b[0m\u001b[1m\n",
            "->-> value:\n",
            "\u001b[0m[[ 1.54 -1.71  1.08  0.77]\n",
            " [ 0.62  1.77  0.77 -1.32]\n",
            " [-0.23 -0.45  0.7   0.76]]\u001b[1m\n",
            "->-> grad:\n",
            "\u001b[0m[[0. 0. 0. 0.]\n",
            " [0. 0. 0. 0.]\n",
            " [0. 0. 0. 0.]]\u001b[1m\n",
            "-> b:\u001b[0m\u001b[1m\n",
            "->-> value:\n",
            "\u001b[0m[[ 1.08 -1.58  0.31  2.06]]\u001b[1m\n",
            "->-> grad:\n",
            "\u001b[0m[[0. 0. 0. 0.]]\u001b[1m\u001b[31m\n",
            "\n",
            " Softmax_4:\u001b[0m\n"
          ],
          "name": "stdout"
        }
      ]
    },
    {
      "cell_type": "markdown",
      "metadata": {
        "id": "qkCcFf3ED8QQ"
      },
      "source": [
        "Вердикт: качественно."
      ]
    },
    {
      "cell_type": "markdown",
      "metadata": {
        "id": "fy1YvcNgD8QQ"
      },
      "source": [
        "Для проверки, хорошо ли сеть обучилась, нам понадобится вычислять долю правильных ответов (accuracy) на данной выборке. Для этого реализуйте функцию, которая делает предсказания на каждом объекте (логично в качестве предсказания на очередном объекте выдавать тот класс, для которого предсказанный отрицательный логарифм вероятности минимален):"
      ]
    },
    {
      "cell_type": "code",
      "metadata": {
        "id": "sMwEb5LTNak1"
      },
      "source": [
        "def format(pred):\n",
        "    return np.argmin(pred, axis=1)"
      ],
      "execution_count": 28,
      "outputs": []
    },
    {
      "cell_type": "code",
      "metadata": {
        "ExecuteTime": {
          "end_time": "2021-03-03T14:44:52.063319Z",
          "start_time": "2021-03-03T14:44:52.051386Z"
        },
        "id": "LzL8EqfcD8QR"
      },
      "source": [
        "def predict(network, X):\n",
        "    return format(net.forward(X))"
      ],
      "execution_count": 29,
      "outputs": []
    },
    {
      "cell_type": "code",
      "metadata": {
        "id": "FiDES-LZNTND"
      },
      "source": [
        "def accuracy(pred, y):\n",
        "    y_new = y.ravel()\n",
        "    return (y_new == pred).astype(int).mean()"
      ],
      "execution_count": 30,
      "outputs": []
    },
    {
      "cell_type": "markdown",
      "metadata": {
        "id": "vUQisfWHD8QR"
      },
      "source": [
        "Изобразите на графике кривую качества на обучени и контроле по итерациям:"
      ]
    },
    {
      "cell_type": "code",
      "metadata": {
        "id": "YeU08NoED8QR"
      },
      "source": [
        "class SGD():\n",
        "    def __init__(self, parameters, lr=1.0, momentum=0):\n",
        "        self.parameters = parameters\n",
        "        self.lr = lr\n",
        "        self.momentum = momentum\n",
        "        self.v = []\n",
        "        self.set_v()\n",
        "\n",
        "    def set_v(self):\n",
        "        self.v = [np.zeros_like(param.grad) for param in self.parameters]\n",
        "\n",
        "    def zero_grad(self):\n",
        "        for param in self.parameters:\n",
        "            param.grad = np.zeros_like(param.value)\n",
        "\n",
        "    def step(self):\n",
        "        for i, param in enumerate(self.parameters):\n",
        "            self.v[i] = self.v[i] * self.momentum - self.lr * param.grad\n",
        "            param.value += self.v[i]"
      ],
      "execution_count": 31,
      "outputs": []
    },
    {
      "cell_type": "code",
      "metadata": {
        "id": "xcxnrnDPD8QR"
      },
      "source": [
        "def train(tr_dataloader, X_test, y_test, net, opt, num_epochs, verbose_num_iters=100, show=True):\n",
        "    \"\"\"\n",
        "    Тренировка сети с записью ошибки и качества.\n",
        "    \"\"\"\n",
        "    loss_trace = []\n",
        "    train_accuracy_trace = []\n",
        "    test_accuracy_trace = []\n",
        "    iter_count = 0\n",
        "    iter_i = 0\n",
        "    for epoch_i in range(num_epochs):        \n",
        "        if show:\n",
        "            print(f'Epoch {epoch_i + 1}')\n",
        "        for batch in tr_dataloader:\n",
        "            # батч реальных объектов\n",
        "            X, y = batch\n",
        "            output = net.forward(X)\n",
        "            opt.zero_grad()\n",
        "            loss = NLL(output, y)\n",
        "            dp = grad_NLL(output, y)\n",
        "            net.backward(dp)\n",
        "            opt.step()\n",
        "            loss_trace.append((iter_i+1, loss))\n",
        "            train_accuracy_trace.append((iter_i+1, accuracy(format(output), y)))\n",
        "            test_accuracy_trace.append((iter_i+1, accuracy(predict(net, X_test), y_test)))\n",
        "            if(train_accuracy_trace[-1][1] > 0.95):\n",
        "                iter_count = iter_i\n",
        "\n",
        "            iter_i += 1\n",
        "\n",
        "            if show and iter_i % verbose_num_iters == 0:\n",
        "                clear_output(wait=True)\n",
        "                plt.figure(figsize=(20, 5))\n",
        "                \n",
        "                plt.subplot(1, 4, 1)\n",
        "                plt.xlabel('Iteration')\n",
        "                plt.ylabel('loss')\n",
        "                plt.plot([p[0] for p in loss_trace], [p[1] for p in loss_trace])\n",
        "\n",
        "                plt.subplot(1, 4, 2)\n",
        "                plt.xlabel('Iteration')\n",
        "                plt.ylabel('Train accuracy')\n",
        "                plt.plot([p[0] for p in train_accuracy_trace], [p[1] for p in train_accuracy_trace], color='orange')\n",
        "                \n",
        "                plt.subplot(1, 4, 3)\n",
        "                plt.xlabel('Iteration')\n",
        "                plt.ylabel('Test accuracy')\n",
        "                plt.plot([p[0] for p in test_accuracy_trace], [p[1] for p in test_accuracy_trace], color='red')\n",
        "\n",
        "                plt.subplot(1, 4, 4)\n",
        "                plt.axis('off')\n",
        "                plt.title(f'{np.argmin(output, axis=1)[0]}')\n",
        "                plt.imshow(X[0].reshape(8, 8), cmap=\"gray_r\")\n",
        "\n",
        "                plt.show()\n",
        "\n",
        "    if iter_count :\n",
        "        return iter_count\n",
        "    return iter_i"
      ],
      "execution_count": 32,
      "outputs": []
    },
    {
      "cell_type": "markdown",
      "metadata": {
        "id": "jlz1d0bOT-jp"
      },
      "source": [
        "Пришло время обучиться"
      ]
    },
    {
      "cell_type": "code",
      "metadata": {
        "colab": {
          "base_uri": "https://localhost:8080/",
          "height": 335
        },
        "id": "Sgm1RKmcD8QR",
        "outputId": "872d1675-194d-4407-a6d5-548fa7352284"
      },
      "source": [
        "train_dataloader = dataloader(X_train, y_train, norm=False)\n",
        "net = Net(Linear(64, 128, initialization=0.1), ReLU(), Linear(128, 10), Softmax())\n",
        "opt = SGD(net.parameters, 0.0001, 0.8)\n",
        "iter_count = train(train_dataloader, X_test, y_test, net, \n",
        "          opt, num_epochs=5, verbose_num_iters=10)"
      ],
      "execution_count": 33,
      "outputs": [
        {
          "output_type": "display_data",
          "data": {
            "image/png": "[encoded data removed]",
            "text/plain": [
              "<Figure size 1440x360 with 4 Axes>"
            ]
          },
          "metadata": {
            "tags": [],
            "needs_background": "light"
          }
        }
      ]
    },
    {
      "cell_type": "code",
      "metadata": {
        "id": "ROnc_8S3D8QR"
      },
      "source": [
        "def result(net, iter_count):\n",
        "    train_acc = accuracy(predict(net, X_train), y_train)\n",
        "    test_acc = accuracy(predict(net, X_test), y_test)\n",
        "    print(f'Train accuracy: {train_acc:.3f}\\nTest accuracy: {test_acc:.3f} \\n95% accuracy iteration: {iter_count}')"
      ],
      "execution_count": 34,
      "outputs": []
    },
    {
      "cell_type": "code",
      "metadata": {
        "colab": {
          "base_uri": "https://localhost:8080/"
        },
        "id": "JWcDu84IT-jp",
        "outputId": "694140be-7846-4bb6-e3b5-6876e3763a07"
      },
      "source": [
        "result(net, iter_count)"
      ],
      "execution_count": 35,
      "outputs": [
        {
          "output_type": "stream",
          "text": [
            "Train accuracy: 0.961\n",
            "Test accuracy: 0.922 \n",
            "95% accuracy iteration: 197\n"
          ],
          "name": "stdout"
        }
      ]
    },
    {
      "cell_type": "markdown",
      "metadata": {
        "id": "CmK6NPZ4D8QR"
      },
      "source": [
        "## Эксперименты с числом слоев (1 балл)"
      ]
    },
    {
      "cell_type": "markdown",
      "metadata": {
        "id": "wgblrpUcD8QR"
      },
      "source": [
        "Ясно, что из-за случайного начального приближения с каждым запуском обучения мы будем получать различное качество. Попробуем обучить нашу нейросеть с разным числом слоев несколько раз.\n",
        "\n",
        "Заполните матрицы `accs_train` и `accs_test`. В позиции `[i, j]` должна стоять величина доли правильных ответов сети с $i+1$ полносвязными слоями при $j$-м запуске (все запуски идентичны)."
      ]
    },
    {
      "cell_type": "code",
      "metadata": {
        "ExecuteTime": {
          "end_time": "2021-03-03T14:44:54.832074Z",
          "start_time": "2021-03-03T14:44:54.819071Z"
        },
        "id": "gKw4PasgD8QS"
      },
      "source": [
        "accs_train = np.zeros((5, 5))\n",
        "accs_test = np.zeros((5, 5))"
      ],
      "execution_count": 36,
      "outputs": []
    },
    {
      "cell_type": "code",
      "metadata": {
        "id": "zTWk1BkIVQjH"
      },
      "source": [
        "def call_train(net, show=False):\n",
        "    opt = SGD(net.parameters, 0.0001, 0.8)\n",
        "    loss = train(train_dataloader, X_test, y_test, net, \n",
        "            opt, num_epochs=5, verbose_num_iters=10, show=show)\n",
        "    a_train = accuracy(predict(net, X_train), y_train)\n",
        "    a_test = accuracy(predict(net, X_test), y_test)\n",
        "    return a_train, a_test"
      ],
      "execution_count": 37,
      "outputs": []
    },
    {
      "cell_type": "code",
      "metadata": {
        "ExecuteTime": {
          "end_time": "2021-03-03T14:45:56.444624Z",
          "start_time": "2021-03-03T14:44:54.836024Z"
        },
        "id": "TyqtwkbmD8QS"
      },
      "source": [
        "train_dataloader = dataloader(X_train, y_train, norm=False)\n",
        "\n",
        "for i in range(5):\n",
        "    for j in range(5):\n",
        "        net = Net(i + 1, 0.1)\n",
        "        accs_train[i][j], accs_test[i][j] = call_train(net)"
      ],
      "execution_count": 38,
      "outputs": []
    },
    {
      "cell_type": "markdown",
      "metadata": {
        "id": "2ZmozBP7D8QT"
      },
      "source": [
        "Построим боксплоты полученного качества (горизонтальная линия в каждом столбце — среднее, прямоугольник показывает разброс)."
      ]
    },
    {
      "cell_type": "code",
      "metadata": {
        "ExecuteTime": {
          "end_time": "2021-03-03T14:45:57.060827Z",
          "start_time": "2021-03-03T14:45:56.447467Z"
        },
        "colab": {
          "base_uri": "https://localhost:8080/",
          "height": 585
        },
        "id": "U0-wA17uD8QT",
        "outputId": "e4de36a8-f1d8-4606-c6a3-3918a8e434b4"
      },
      "source": [
        "fig, axes = plt.subplots(2, 1, figsize=(10, 8))\n",
        "\n",
        "axes[0].boxplot(accs_train.T, showfliers=False)\n",
        "axes[1].boxplot(accs_test.T, showfliers=False)\n",
        "\n",
        "axes[0].set_xlabel(\"Number of layers\")\n",
        "axes[1].set_xlabel(\"Number of layers\")\n",
        "\n",
        "axes[0].set_ylabel(\"Train accuracy\")\n",
        "axes[1].set_ylabel(\"Test accuracy\")\n",
        "\n",
        "axes[0].set_title(\"Train quality in 5 runs\")\n",
        "axes[1].set_title(\"Test quality in 5 runs\")\n",
        "\n",
        "axes[0].grid(True)\n",
        "axes[1].grid(True)\n",
        "\n",
        "fig.tight_layout()\n",
        "plt.show()"
      ],
      "execution_count": 39,
      "outputs": [
        {
          "output_type": "display_data",
          "data": {
            "image/png": "[encoded data removed]",
            "text/plain": [
              "<Figure size 720x576 with 2 Axes>"
            ]
          },
          "metadata": {
            "tags": [],
            "needs_background": "light"
          }
        }
      ]
    },
    {
      "cell_type": "markdown",
      "metadata": {
        "id": "D3KAi-GGD8QT"
      },
      "source": [
        "Дайте развёрнутый ответ на вопросы (в этой же ячейке):\n",
        "* Как изменяются качество на обучении и контроле и устойчивость процесса обучения при увеличении числа слоев?\n",
        "\n",
        "__Ответы:__\n",
        "\n",
        "Сначала качество и на тесте и на обучении, понятное дело, растет. Однако в какой-то момент число обучаемых параметров превысит размерность входных данных и сеть переобучится, так что на тесте качество снизится. Это можно наблюдать с 4 слоя.\n"
      ]
    },
    {
      "cell_type": "markdown",
      "metadata": {
        "id": "KhX8o2gYD8QT"
      },
      "source": [
        "## Эксперименты c различными инициализациями весов (1 балл)"
      ]
    },
    {
      "cell_type": "markdown",
      "metadata": {
        "id": "FjqbEwG6D8QT"
      },
      "source": [
        "Как уже было сказано, начальная инициализация весов нейронной сети может сильно влиять на процесс ее обучения и, как следствие, на ее качество.\n",
        "\n",
        "В этом пункте вам предлагается попробовать обучить несколько нейронных сетей с различными инициализациями слоев.\n",
        "\n",
        "Для этого необходимо реализовать функцию, инициализирующую веса линейных слоёв нашей нейронной сети. Добавьте в функционал данного метода возможность инициализировать его веса с помощью инициализации Kaiming (используется, если в нейронной сети в качестве функций активации используется ReLU) и инициализации Xavier (используется, если в нейронной сети в качестве функций активации используется Tanh или Sigmoid):"
      ]
    },
    {
      "cell_type": "markdown",
      "metadata": {
        "id": "LEVNMHxAD8QT"
      },
      "source": [
        "Теперь попробуйте для каждой из 3 инициализаций обучить нейронную сеть несколько раз. Попробуйте проделать данную операцию при зафиксированном числе слоев равным 3, 4 и 5."
      ]
    },
    {
      "cell_type": "markdown",
      "metadata": {
        "id": "9e2yIt-WD8QT"
      },
      "source": [
        "### 3 слоя"
      ]
    },
    {
      "cell_type": "markdown",
      "metadata": {
        "id": "acgQ6xijD8QT"
      },
      "source": [
        "Заполните матрицы `accs_train` и `accs_test`. В позиции `[i, j]` должна стоять величина доли правильных ответов сети при $j$-м запуске (все запуски идентичны) с инициализацией Kaiming при $i = 3$, с инициализацией Xavier при $i = 4$ и с инициализацией из нормального распределения с фиксированными параметрами при $0 \\leqslant i \\leqslant 2$ (попробуйте здесь 3 разных параметра для стандартного отклонения для нормального распределения, например: `1e-3`, `1e-2`, `1e-1`). Заметьте, что при большом числе слоев слишком низкое стандартное отклонение может не давать нейронной сети нормально обучиться."
      ]
    },
    {
      "cell_type": "code",
      "metadata": {
        "id": "cINb54CfT-ju"
      },
      "source": [
        "accs_train = np.zeros((5, 5))\n",
        "accs_test = np.zeros((5, 5))"
      ],
      "execution_count": 40,
      "outputs": []
    },
    {
      "cell_type": "code",
      "metadata": {
        "ExecuteTime": {
          "end_time": "2021-03-03T14:45:57.091744Z",
          "start_time": "2021-03-03T14:45:57.079777Z"
        },
        "id": "ChAb9boiD8QT"
      },
      "source": [
        "init_vars = [1e-3, 1e-2, 1e-1, 'Kaiming', 'Xavier']"
      ],
      "execution_count": 41,
      "outputs": []
    },
    {
      "cell_type": "code",
      "metadata": {
        "ExecuteTime": {
          "end_time": "2021-03-03T14:46:27.904407Z",
          "start_time": "2021-03-03T14:45:57.111690Z"
        },
        "id": "cfmRZtV8D8QU"
      },
      "source": [
        "for i, init in enumerate(init_vars):\n",
        "    for j in range(5):\n",
        "        net = Net(3, init)\n",
        "        accs_train[i][j], accs_test[i][j] = call_train(net)"
      ],
      "execution_count": 42,
      "outputs": []
    },
    {
      "cell_type": "markdown",
      "metadata": {
        "id": "G9FB-f1BD8QU"
      },
      "source": [
        "Построим боксплоты полученного качества (горизонтальная линия в каждом столбце — среднее, прямоугольник показывает разброс)."
      ]
    },
    {
      "cell_type": "code",
      "metadata": {
        "ExecuteTime": {
          "end_time": "2021-03-03T14:46:28.632502Z",
          "start_time": "2021-03-03T14:46:27.907401Z"
        },
        "id": "sLQ9q5BMD8QU",
        "scrolled": false,
        "colab": {
          "base_uri": "https://localhost:8080/",
          "height": 585
        },
        "outputId": "e27fab44-2671-4c89-e96e-ec470f181b68"
      },
      "source": [
        "init_vars_for_plot = [(x if isinstance(x, str) else fr\"$\\sigma = {x}$\") for x in init_vars]\n",
        "\n",
        "fig, axes = plt.subplots(2, 1, figsize=(10, 8))\n",
        "\n",
        "axes[0].boxplot(accs_train.T, labels=init_vars_for_plot, showfliers=False)\n",
        "axes[1].boxplot(accs_test.T, labels=init_vars_for_plot, showfliers=False)\n",
        "\n",
        "axes[0].set_ylabel(\"Train accuracy\")\n",
        "axes[1].set_ylabel(\"Test accuracy\")\n",
        "\n",
        "axes[0].set_title(\"Initialization\")\n",
        "axes[1].set_title(\"Initialization\")\n",
        "\n",
        "axes[0].grid(True)\n",
        "axes[1].grid(True)\n",
        "\n",
        "fig.tight_layout()\n",
        "plt.show()"
      ],
      "execution_count": 43,
      "outputs": [
        {
          "output_type": "display_data",
          "data": {
            "image/png": "[encoded data removed]",
            "text/plain": [
              "<Figure size 720x576 with 2 Axes>"
            ]
          },
          "metadata": {
            "tags": [],
            "needs_background": "light"
          }
        }
      ]
    },
    {
      "cell_type": "markdown",
      "metadata": {
        "id": "6BLgn1fSD8QV"
      },
      "source": [
        "### 4 слоя\n",
        "\n",
        "Выполните тут тот же код, что и в предыдущем пункте, но только уже с 4 слоями в сети."
      ]
    },
    {
      "cell_type": "code",
      "metadata": {
        "ExecuteTime": {
          "end_time": "2021-03-03T14:45:57.091744Z",
          "start_time": "2021-03-03T14:45:57.079777Z"
        },
        "id": "8cl1naAZD8QV"
      },
      "source": [
        "init_vars = [5e-3, 1e-2, 1e-1, 'Kaiming', 'Xavier']"
      ],
      "execution_count": 44,
      "outputs": []
    },
    {
      "cell_type": "code",
      "metadata": {
        "ExecuteTime": {
          "end_time": "2021-03-03T14:45:57.107701Z",
          "start_time": "2021-03-03T14:45:57.094737Z"
        },
        "id": "DtnSJBhpD8QV"
      },
      "source": [
        "accs_train = np.zeros((5, 5))\n",
        "accs_test = np.zeros((5, 5))"
      ],
      "execution_count": 45,
      "outputs": []
    },
    {
      "cell_type": "code",
      "metadata": {
        "ExecuteTime": {
          "end_time": "2021-03-03T14:46:27.904407Z",
          "start_time": "2021-03-03T14:45:57.111690Z"
        },
        "id": "l6BctaE-D8QV"
      },
      "source": [
        "for i, init in enumerate(init_vars):\n",
        "    for j in range(5):\n",
        "        net = Net(4, init)\n",
        "        accs_train[i][j], accs_test[i][j] = call_train(net)"
      ],
      "execution_count": 46,
      "outputs": []
    },
    {
      "cell_type": "markdown",
      "metadata": {
        "id": "lD7cZy0UD8QV"
      },
      "source": [
        "Построим боксплоты полученного качества (горизонтальная линия в каждом столбце — среднее, прямоугольник показывает разброс)."
      ]
    },
    {
      "cell_type": "code",
      "metadata": {
        "ExecuteTime": {
          "end_time": "2021-03-03T14:46:28.632502Z",
          "start_time": "2021-03-03T14:46:27.907401Z"
        },
        "id": "7INji9BPD8QW",
        "scrolled": false,
        "colab": {
          "base_uri": "https://localhost:8080/",
          "height": 585
        },
        "outputId": "46ca0f19-ad57-4e2c-9f54-bd4361d6417e"
      },
      "source": [
        "init_vars_for_plot = [(x if isinstance(x, str) else fr\"$\\sigma = {x}$\") for x in init_vars]\n",
        "\n",
        "fig, axes = plt.subplots(2, 1, figsize=(10, 8))\n",
        "\n",
        "axes[0].boxplot(accs_train.T, labels=init_vars_for_plot, showfliers=False)\n",
        "axes[1].boxplot(accs_test.T, labels=init_vars_for_plot, showfliers=False)\n",
        "\n",
        "axes[0].set_ylabel(\"Train accuracy\")\n",
        "axes[1].set_ylabel(\"Test accuracy\")\n",
        "\n",
        "axes[0].set_title(\"Initialization\")\n",
        "axes[1].set_title(\"Initialization\")\n",
        "\n",
        "axes[0].grid(True)\n",
        "axes[1].grid(True)\n",
        "\n",
        "fig.tight_layout()\n",
        "plt.show()"
      ],
      "execution_count": 47,
      "outputs": [
        {
          "output_type": "display_data",
          "data": {
            "image/png": "[encoded data removed]",
            "text/plain": [
              "<Figure size 720x576 with 2 Axes>"
            ]
          },
          "metadata": {
            "tags": [],
            "needs_background": "light"
          }
        }
      ]
    },
    {
      "cell_type": "markdown",
      "metadata": {
        "id": "sSzoqE5ND8QW"
      },
      "source": [
        "### 5 слоев\n",
        "\n",
        "Выполните тут тот же код, что и в предыдущем пункте, но только уже с 5 слоями в сети."
      ]
    },
    {
      "cell_type": "code",
      "metadata": {
        "ExecuteTime": {
          "end_time": "2021-03-03T14:45:57.091744Z",
          "start_time": "2021-03-03T14:45:57.079777Z"
        },
        "id": "3KpxKpi1D8QW"
      },
      "source": [
        "init_vars = [1e-2, 1e-1, 1e0, 'Kaiming', 'Xavier']"
      ],
      "execution_count": 48,
      "outputs": []
    },
    {
      "cell_type": "code",
      "metadata": {
        "ExecuteTime": {
          "end_time": "2021-03-03T14:45:57.107701Z",
          "start_time": "2021-03-03T14:45:57.094737Z"
        },
        "id": "1m8EYtPRD8QW"
      },
      "source": [
        "accs_train = np.zeros((5, 5))\n",
        "accs_test = np.zeros((5, 5))"
      ],
      "execution_count": 49,
      "outputs": []
    },
    {
      "cell_type": "code",
      "metadata": {
        "ExecuteTime": {
          "end_time": "2021-03-03T14:46:27.904407Z",
          "start_time": "2021-03-03T14:45:57.111690Z"
        },
        "id": "YEWUlXjZD8QW",
        "colab": {
          "base_uri": "https://localhost:8080/"
        },
        "outputId": "b90a69eb-072c-44ed-c3e8-43d508252d05"
      },
      "source": [
        "for i, init in enumerate(init_vars):\n",
        "    for j in range(5):\n",
        "        net = Net(5, init)\n",
        "        accs_train[i][j], accs_test[i][j] = call_train(net)"
      ],
      "execution_count": 50,
      "outputs": [
        {
          "output_type": "stream",
          "text": [
            "/usr/local/lib/python3.7/dist-packages/ipykernel_launcher.py:22: RuntimeWarning: invalid value encountered in multiply\n",
            "/usr/local/lib/python3.7/dist-packages/ipykernel_launcher.py:2: RuntimeWarning: invalid value encountered in subtract\n",
            "  \n"
          ],
          "name": "stderr"
        }
      ]
    },
    {
      "cell_type": "markdown",
      "metadata": {
        "id": "7-JUuSJhD8QW"
      },
      "source": [
        "Построим боксплоты полученного качества (горизонтальная линия в каждом столбце — среднее, прямоугольник показывает разброс)."
      ]
    },
    {
      "cell_type": "code",
      "metadata": {
        "ExecuteTime": {
          "end_time": "2021-03-03T14:46:28.632502Z",
          "start_time": "2021-03-03T14:46:27.907401Z"
        },
        "id": "quakrMOJD8QW",
        "scrolled": false,
        "colab": {
          "base_uri": "https://localhost:8080/",
          "height": 585
        },
        "outputId": "cc346755-3627-4b69-c51a-a132cc195d8c"
      },
      "source": [
        "init_vars_for_plot = [(x if isinstance(x, str) else fr\"$\\sigma = {x}$\") for x in init_vars]\n",
        "\n",
        "fig, axes = plt.subplots(2, 1, figsize=(10, 8))\n",
        "\n",
        "axes[0].boxplot(accs_train.T, labels=init_vars_for_plot, showfliers=False)\n",
        "axes[1].boxplot(accs_test.T, labels=init_vars_for_plot, showfliers=False)\n",
        "\n",
        "axes[0].set_ylabel(\"Train accuracy\")\n",
        "axes[1].set_ylabel(\"Test accuracy\")\n",
        "\n",
        "axes[0].set_title(\"Initialization\")\n",
        "axes[1].set_title(\"Initialization\")\n",
        "\n",
        "axes[0].grid(True)\n",
        "axes[1].grid(True)\n",
        "\n",
        "fig.tight_layout()\n",
        "plt.show()"
      ],
      "execution_count": 51,
      "outputs": [
        {
          "output_type": "display_data",
          "data": {
            "image/png": "[encoded data removed]",
            "text/plain": [
              "<Figure size 720x576 with 2 Axes>"
            ]
          },
          "metadata": {
            "tags": [],
            "needs_background": "light"
          }
        }
      ]
    },
    {
      "cell_type": "markdown",
      "metadata": {
        "id": "PpgxtdTmD8QX"
      },
      "source": [
        "Дайте развёрнутый ответ на вопросы (в этой же ячейке):\n",
        "* Как отличаются качество на обучении и контроле и устойчивость процесса обучения при различных инициализациях?\n",
        "* Какие инициализации помогают обучать более глубокие сети?\n",
        "\n",
        "__Ответы:__\n",
        "\n",
        "Почему почти одинково хорошее качество в трех испытаниях (2, 4, 5)? Потому что 0.1 - это практически параметр Ксавье (корень из 1 / 100 = 0.1), а Ксавье и Каиминг показывают себя отлично. До этого веса слишком близки к нулю и сеть умирает без обучения, 1 - слишком много, сеть при неудачных весах взрывается и улетает за пределы видимой Вселенной. \n",
        "Очевидно, глубокие сети нужно обучать со специальными параметрами."
      ]
    },
    {
      "cell_type": "markdown",
      "metadata": {
        "id": "sUAcYQ9sD8QY"
      },
      "source": [
        "## Эксперименты c различными функциями активации (1 балл)"
      ]
    },
    {
      "cell_type": "markdown",
      "metadata": {
        "id": "zWckfp0jD8QY"
      },
      "source": [
        "Проверим теперь, с какой функцией активации нейронная сеть будет обучаться лучше.\n",
        "\n",
        "В этом пункте вам предлагается попробовать обучить несколько нейронных сетей с различными функциями активации.\n",
        "\n",
        "Для этого нам нужно реализовать еще 2 слоя: для функций активации `Tanh` и `Sigmoid`."
      ]
    },
    {
      "cell_type": "markdown",
      "metadata": {
        "id": "z-zFvdqKD8QZ"
      },
      "source": [
        "Теперь попробуйте для каждой из 3 функций активации обучить нейронную сеть несколько раз. Число слоев зафиксируйте равным 3. В случае `Tanh` и `Sigmoid` используйте инициализацию `Xavier`, а в случае `ReLU` используйте инициализацию `Kaiming`."
      ]
    },
    {
      "cell_type": "markdown",
      "metadata": {
        "id": "JG8w6YB8D8QZ"
      },
      "source": [
        "Заполните матрицы `accs_train` и `accs_test`. В позиции `[i, j]` должна стоять величина доли правильных ответов сети при $j$-м запуске (все запуски идентичны) с функцией активации $ReLU$ при $i = 0$, с функцией активации $Tanh$ при $i = 1$ и с функцией активации $Sigmoid$ при $i = 2$."
      ]
    },
    {
      "cell_type": "code",
      "metadata": {
        "ExecuteTime": {
          "end_time": "2021-03-03T14:46:34.922732Z",
          "start_time": "2021-03-03T14:46:34.910271Z"
        },
        "id": "I8bodLZGD8QZ"
      },
      "source": [
        "init_for_act_funcs = ['Kaiming', 'Xavier', 'Xavier']\n",
        "act_func_vars = ['ReLU', 'Tanh', 'Sigmoid']"
      ],
      "execution_count": 52,
      "outputs": []
    },
    {
      "cell_type": "code",
      "metadata": {
        "ExecuteTime": {
          "end_time": "2021-03-03T14:46:34.938935Z",
          "start_time": "2021-03-03T14:46:34.925724Z"
        },
        "id": "5aErsi_cD8QZ"
      },
      "source": [
        "accs_train = np.zeros((3, 5))\n",
        "accs_test = np.zeros((3, 5))"
      ],
      "execution_count": 53,
      "outputs": []
    },
    {
      "cell_type": "code",
      "metadata": {
        "ExecuteTime": {
          "end_time": "2021-03-03T14:47:04.514986Z",
          "start_time": "2021-03-03T14:46:34.941104Z"
        },
        "id": "gNTrVQspD8QZ"
      },
      "source": [
        "for i in range(3):\n",
        "    for j in range(5):\n",
        "        net = Net(3, init_for_act_funcs[i], act_func_vars[i])\n",
        "        accs_train[i][j], accs_test[i][j] = call_train(net)"
      ],
      "execution_count": 55,
      "outputs": []
    },
    {
      "cell_type": "markdown",
      "metadata": {
        "id": "N6z_1expD8QZ"
      },
      "source": [
        "Построим боксплоты полученного качества (горизонтальная линия в каждом столбце — среднее, прямоугольник показывает разброс)."
      ]
    },
    {
      "cell_type": "code",
      "metadata": {
        "ExecuteTime": {
          "end_time": "2021-03-03T14:47:04.783320Z",
          "start_time": "2021-03-03T14:47:04.517701Z"
        },
        "id": "OcCLQEDLD8Qa",
        "colab": {
          "base_uri": "https://localhost:8080/",
          "height": 585
        },
        "outputId": "b6370364-07b3-4a20-90a2-7abb480ef31d"
      },
      "source": [
        "fig, axes = plt.subplots(2, 1, figsize=(10, 8))\n",
        "\n",
        "axes[0].boxplot(accs_train.T, labels=act_func_vars, showfliers=False)\n",
        "axes[1].boxplot(accs_test.T, labels=act_func_vars, showfliers=False)\n",
        "\n",
        "axes[0].set_ylabel(\"Train accuracy\")\n",
        "axes[1].set_ylabel(\"Test accuracy\")\n",
        "\n",
        "axes[0].set_xlabel(\"Activation function\")\n",
        "axes[1].set_xlabel(\"Activation function\")\n",
        "\n",
        "axes[0].grid(True)\n",
        "axes[1].grid(True)\n",
        "\n",
        "fig.tight_layout()\n",
        "plt.show()"
      ],
      "execution_count": 56,
      "outputs": [
        {
          "output_type": "display_data",
          "data": {
            "image/png": "[encoded data removed]",
            "text/plain": [
              "<Figure size 720x576 with 2 Axes>"
            ]
          },
          "metadata": {
            "tags": [],
            "needs_background": "light"
          }
        }
      ]
    },
    {
      "cell_type": "markdown",
      "metadata": {
        "id": "OAXWsgjLD8Qa"
      },
      "source": [
        "Дайте развёрнутый ответ на вопросы (в этой же ячейке):\n",
        "* Как отличаются качество на обучении и контроле и устойчивость процесса обучения при различных функциях активации?\n",
        "\n",
        "__Ответы:__\n",
        "\n",
        "ReLU c инициализацией Kaiming показывает себя превосходно. Тангенс так же дал отличные результаты с инициализацией Xavier. А вот сигмоида оказалась весьма нестабильной. Градиент этой функции, очевидно, умер из-за почти нулевых изменений (ибо сигмоида очень зависит от интервалов входящих данных, например вблизи -10 или 10, там сигмоида - практически прямая линия, градиент которой 0. Это исправляется нормализацией данных, эксперимент на эту тему будет в бонусной части."
      ]
    },
    {
      "cell_type": "markdown",
      "metadata": {
        "id": "1EyGnkmQD8Qa"
      },
      "source": [
        "\\* Несколько фрагментов кода в задании написаны на основе материалов [курса по глубинному обучению на ФКН НИУ ВШЭ](https://www.hse.ru/ba/ami/courses/205504078.html)"
      ]
    },
    {
      "cell_type": "markdown",
      "metadata": {
        "id": "yUGZauXmD8Qa"
      },
      "source": [
        "## Бонусная часть"
      ]
    },
    {
      "cell_type": "markdown",
      "metadata": {
        "id": "YQep_epZD8Qa"
      },
      "source": [
        "## Реализация метода оптимизации (1 балл)\n",
        "\n",
        "Реализуйте сами метод оптимизации (аналог функции `minimize`) для рассмотренной выше архитектуры. В качестве метода оптимизации используйте SGD + momentum. Продемонстрируйте правильную работу метода оптимизации, сравните его работу с LBFGS-B. Сделайте выводы."
      ]
    },
    {
      "cell_type": "code",
      "metadata": {
        "id": "pojj4VRaD8Qa"
      },
      "source": [
        "class SGD():\n",
        "    \"\"\"\n",
        "    Оптимизатор SGD + momentum\n",
        "    Необучаемые параметры:\n",
        "    - lr - learning rate - скорость обучения\n",
        "    - momentum - коэф-т превалирования движения по скорости v\n",
        "    - v - накопление импульса\n",
        "    \"\"\"\n",
        "    def __init__(self, parameters, lr=1.0, momentum=0):\n",
        "        self.parameters = parameters\n",
        "        self.lr = lr\n",
        "        self.momentum = momentum\n",
        "        self.v = []\n",
        "        self.set_v()\n",
        "\n",
        "    def set_v(self):\n",
        "        \"\"\"\n",
        "        Устанавливает параметр нужного формата (по нулевым\n",
        "        массивам нужного размера на каждый параметр)\n",
        "        \"\"\"\n",
        "        self.v = [np.zeros_like(param.grad) for param in self.parameters]\n",
        "\n",
        "    def zero_grad(self):\n",
        "        \"\"\"\n",
        "        Обнуление градиентов всех параметров.\n",
        "        \"\"\"\n",
        "        for param in self.parameters:\n",
        "            param.grad = np.zeros_like(param.value)\n",
        "\n",
        "    def step(self):\n",
        "        \"\"\"\n",
        "        Корректировка значений параметров в соответствии с градиентом\n",
        "        \"\"\"\n",
        "        for i, param in enumerate(self.parameters):\n",
        "            self.v[i] = self.v[i] * self.momentum - self.lr * param.grad\n",
        "            param.value += self.v[i]"
      ],
      "execution_count": 57,
      "outputs": []
    },
    {
      "cell_type": "markdown",
      "metadata": {
        "id": "rvA1lxoOD8Qa"
      },
      "source": [
        "Дополнителььно был реализован оптимизатор __Adam__."
      ]
    },
    {
      "cell_type": "code",
      "metadata": {
        "id": "82oNamm8D8Qa"
      },
      "source": [
        "class Adam():\n",
        "    \"\"\"\n",
        "    Оптимизатор Adam. Используются сгруппированные средние как градиентов, \n",
        "    так и вторых моментов градиентов.\n",
        "    Необучаемые параметры:\n",
        "    - lr - learning rate - скорость обучения\n",
        "    - beta_1, beta_2 - коэ-ты забывания для градиентов и вторых моментов градиентов\n",
        "    - eps - поправка для предотвращения деления на 0\n",
        "    - v - накопление импульса\n",
        "    - m - накопление средней нецентрированной дисперсии (второй момент)\n",
        "    - step_count - число шагов оптимизатора\n",
        "    \"\"\"\n",
        "    def __init__(self, parameters, lr=1.0, beta_1=0.9, beta_2=0.999, eps=1e-8):\n",
        "        self.parameters = parameters\n",
        "        self.lr = lr\n",
        "        self.beta_1 = beta_1\n",
        "        self.beta_2 = beta_2\n",
        "        self.eps = eps\n",
        "        self.m = []\n",
        "        self.v = []\n",
        "        self.set_v()\n",
        "        self.step_count = 0\n",
        "\n",
        "    def set_v(self):\n",
        "        \"\"\"\n",
        "        Устанавливает параметр нужного формата (по нулевым\n",
        "        массивам нужного размера на каждый параметр)\n",
        "        \"\"\"\n",
        "        for param in self.parameters:\n",
        "            self.v.append(np.zeros_like(param.grad))\n",
        "            self.m.append(np.zeros_like(param.grad))\n",
        "\n",
        "    def zero_grad(self):\n",
        "        \"\"\"\n",
        "        Обнуление градиентов всех параметров.\n",
        "        \"\"\"\n",
        "        for param in self.parameters:\n",
        "            param.grad = np.zeros_like(param.value)\n",
        "\n",
        "    def step(self):\n",
        "        \"\"\"\n",
        "        Корректировка значений параметров в соответствии с градиентом\n",
        "        \"\"\"\n",
        "        self.step_count += 1\n",
        "        for i, param in enumerate(self.parameters):\n",
        "            self.v[i] = self.v[i] * self.beta_1 + (1. - self.beta_1) * param.grad\n",
        "            self.m[i] = self.m[i] * self.beta_2 + (1. - self.beta_2) * (param.grad * param.grad)\n",
        "            v_temp = self.v[i] / (1.0 - (self.beta_1 ** self.step_count))\n",
        "            m_temp = self.m[i] / (1.0 - (self.beta_2 ** self.step_count))\n",
        "\n",
        "            param.value += (-self.lr) * v_temp / (np.sqrt(m_temp) + self.eps)"
      ],
      "execution_count": 58,
      "outputs": []
    },
    {
      "cell_type": "markdown",
      "metadata": {
        "id": "OMeGz0wWT-j8"
      },
      "source": [
        "Пример работы:"
      ]
    },
    {
      "cell_type": "code",
      "metadata": {
        "colab": {
          "base_uri": "https://localhost:8080/",
          "height": 335
        },
        "id": "xtaYkasCT-j9",
        "outputId": "e4684272-50fd-499b-a7d3-d5b0f7f45a84"
      },
      "source": [
        "net = Net(Linear(64, 128, initialization='Kaiming'), ReLU(), \n",
        "          Linear(128, 10, initialization='Xavier'), Softmax())\n",
        "opt = SGD(net.parameters, 0.0001, 0.8)\n",
        "iter_count = train(train_dataloader, X_test, y_test, net, \n",
        "          opt, num_epochs=10, verbose_num_iters=10)"
      ],
      "execution_count": 59,
      "outputs": [
        {
          "output_type": "display_data",
          "data": {
            "image/png": "[encoded data removed]",
            "text/plain": [
              "<Figure size 1440x360 with 4 Axes>"
            ]
          },
          "metadata": {
            "tags": [],
            "needs_background": "light"
          }
        }
      ]
    },
    {
      "cell_type": "code",
      "metadata": {
        "colab": {
          "base_uri": "https://localhost:8080/"
        },
        "id": "rW-cvhiFT-j9",
        "outputId": "049ff659-9232-4394-90f9-b0edd394ea0b"
      },
      "source": [
        "result(net, iter_count)"
      ],
      "execution_count": 60,
      "outputs": [
        {
          "output_type": "stream",
          "text": [
            "Train accuracy: 0.994\n",
            "Test accuracy: 0.963 \n",
            "95% accuracy iteration: 399\n"
          ],
          "name": "stdout"
        }
      ]
    },
    {
      "cell_type": "code",
      "metadata": {
        "colab": {
          "base_uri": "https://localhost:8080/",
          "height": 337
        },
        "id": "T-brNxGOT-j-",
        "outputId": "2a4bab9d-3e02-4da9-b895-a9b163f0fded"
      },
      "source": [
        "net = Net(Linear(64, 128, initialization='Kaiming'), ReLU(), \n",
        "          Linear(128, 10, initialization='Xavier'), Softmax())\n",
        "opt = Adam(net.parameters, lr=0.001)\n",
        "iter_count = train(train_dataloader, X_test, y_test, net, \n",
        "          opt, num_epochs=10, verbose_num_iters=10)"
      ],
      "execution_count": 61,
      "outputs": [
        {
          "output_type": "display_data",
          "data": {
            "image/png": "[encoded data removed]",
            "text/plain": [
              "<Figure size 1440x360 with 4 Axes>"
            ]
          },
          "metadata": {
            "tags": [],
            "needs_background": "light"
          }
        }
      ]
    },
    {
      "cell_type": "code",
      "metadata": {
        "colab": {
          "base_uri": "https://localhost:8080/"
        },
        "id": "ktQPnmJLT-j-",
        "outputId": "70e37d58-a235-407e-b932-53da5723e983"
      },
      "source": [
        "result(net, iter_count)"
      ],
      "execution_count": 62,
      "outputs": [
        {
          "output_type": "stream",
          "text": [
            "Train accuracy: 0.986\n",
            "Test accuracy: 0.948 \n",
            "95% accuracy iteration: 398\n"
          ],
          "name": "stdout"
        }
      ]
    },
    {
      "cell_type": "markdown",
      "metadata": {
        "id": "t5wAknl3T-j-"
      },
      "source": [
        "Как видно, оптимизаторы справляются со своей работой. А Adam всё-таки чуть быстрее достиг качества в 95%"
      ]
    },
    {
      "cell_type": "markdown",
      "metadata": {
        "id": "vHZmUecKD8Qb"
      },
      "source": [
        "## Dropout (1 балл) \n",
        "\n",
        "Реализуйте слой Dropout. Сравните обучение сети из большого числа слоёв при использовании Dropout и без его использования (предварительно подберите адекватный параметр $p$). Сделайте выводы."
      ]
    },
    {
      "cell_type": "code",
      "metadata": {
        "id": "wUNTUtqQD8Qb"
      },
      "source": [
        "class Dropout(Module):\n",
        "    \"\"\"\n",
        "    Слой регуляризации и предотвращения коадаптации нейронов на основе базового.\n",
        "    Во время обучения случайным образом обнуляет некоторые элементы входного \n",
        "    тензора с вероятностью, pиспользуя выборки из распределения Бернулли.\n",
        "    p - вероятность обнуления каждого нейрона.\n",
        "    Необучаемые параметры:\n",
        "    - retain_rate - коэф-т масштабирования выхода\n",
        "    - mask - маска, накладывающаяся на выход с предыдущего слоя\n",
        "    \"\"\"\n",
        "    def __init__(self, p=0.5):\n",
        "        super().__init__()\n",
        "        self.retain_rate = 1.0 - p\n",
        "        self.mask = None\n",
        "\n",
        "    def forward(self, input):\n",
        "        \"\"\"\n",
        "        Прямой ход через слой\n",
        "        \"\"\"\n",
        "        self.mask = np.random.binomial(1, self.retain_rate, input.shape).astype(float)\n",
        "        self.mask /= self.retain_rate\n",
        "        return self.mask * input\n",
        "\n",
        "    def backward(self, out):\n",
        "        \"\"\"\n",
        "        Обратное распространение ошибки\n",
        "        \"\"\"\n",
        "        return out * self.mask / self.retain_rate"
      ],
      "execution_count": 61,
      "outputs": []
    },
    {
      "cell_type": "code",
      "metadata": {
        "colab": {
          "base_uri": "https://localhost:8080/",
          "height": 335
        },
        "id": "0OYCPDAnT-j_",
        "outputId": "f17c150d-3bd9-4663-897d-0d7dfd678504"
      },
      "source": [
        "net = Net(Linear(64, 128, initialization='Kaiming'), ReLU(),\n",
        "          Linear(128, 10, initialization='Xavier'), Softmax())\n",
        "opt = SGD(net.parameters, 0.0001, 0.8)\n",
        "iter_count = train(train_dataloader, X_test, y_test, net, \n",
        "          opt, num_epochs=10, verbose_num_iters=10)"
      ],
      "execution_count": 65,
      "outputs": [
        {
          "output_type": "display_data",
          "data": {
            "image/png": "[encoded data removed]",
            "text/plain": [
              "<Figure size 1440x360 with 4 Axes>"
            ]
          },
          "metadata": {
            "tags": [],
            "needs_background": "light"
          }
        }
      ]
    },
    {
      "cell_type": "code",
      "metadata": {
        "colab": {
          "base_uri": "https://localhost:8080/"
        },
        "id": "UtqsBIuiT-kA",
        "outputId": "f0809599-627c-4f93-a8c1-3ac862a2de33"
      },
      "source": [
        "result(net, iter_count)"
      ],
      "execution_count": 66,
      "outputs": [
        {
          "output_type": "stream",
          "text": [
            "Train accuracy: 0.994\n",
            "Test accuracy: 0.959 \n",
            "95% accuracy iteration: 399\n"
          ],
          "name": "stdout"
        }
      ]
    },
    {
      "cell_type": "code",
      "metadata": {
        "colab": {
          "base_uri": "https://localhost:8080/",
          "height": 335
        },
        "id": "9RerB8kVT-kA",
        "outputId": "5560ac89-7109-4276-adc8-256d14510bc1"
      },
      "source": [
        "net = Net(Linear(64, 128, initialization='Kaiming'), Dropout(), ReLU(),\n",
        "          Linear(128, 10, initialization='Xavier'), Softmax())\n",
        "opt = SGD(net.parameters, 0.0001, 0.8)\n",
        "iter_count = train(train_dataloader, X_test, y_test, net, \n",
        "          opt, num_epochs=10, verbose_num_iters=10)"
      ],
      "execution_count": 67,
      "outputs": [
        {
          "output_type": "display_data",
          "data": {
            "image/png": "[encoded data removed]",
            "text/plain": [
              "<Figure size 1440x360 with 4 Axes>"
            ]
          },
          "metadata": {
            "tags": [],
            "needs_background": "light"
          }
        }
      ]
    },
    {
      "cell_type": "code",
      "metadata": {
        "colab": {
          "base_uri": "https://localhost:8080/"
        },
        "id": "wdEqAUBrT-kB",
        "outputId": "86820845-5c8f-46a2-b58c-5bc97d5b3304"
      },
      "source": [
        "result(net, iter_count)"
      ],
      "execution_count": 68,
      "outputs": [
        {
          "output_type": "stream",
          "text": [
            "Train accuracy: 0.928\n",
            "Test accuracy: 0.906 \n",
            "95% accuracy iteration: 398\n"
          ],
          "name": "stdout"
        }
      ]
    },
    {
      "cell_type": "markdown",
      "metadata": {
        "id": "v1HoPvJVD8Qb"
      },
      "source": [
        "## BatchNormalization (1 балл)\n",
        "\n",
        "Реализуйте слой `BatchNormalization`. Сравните обучение сети из большого числа слоёв при использовании `BatchNormalization` и без его использования. Сделайте выводы."
      ]
    },
    {
      "cell_type": "code",
      "metadata": {
        "id": "KHn8sGCmD8Qb"
      },
      "source": [
        "class BatchNorm(Module):\n",
        "    \"\"\"\n",
        "    Слой батч-нормализации на основе базового Module.\n",
        "    К обучаемым параметрам относятся:\n",
        "    - gamma - масштабирование выходных данных\n",
        "    - beta - сдвиг выходных данных\n",
        "    К необучаемым параметрам относятся:\n",
        "    -eps - поправка от деления на 0\n",
        "    - n_input - число нейронов на слое нормализации \n",
        "    \"\"\"\n",
        "    def __init__(self, n_input, eps=1e-05, momentum=0.1):\n",
        "        super().__init__()\n",
        "        self.n_input = n_input\n",
        "        self.gamma = Parameter(np.ones((1, self.n_input)))\n",
        "        self.beta = Parameter(np.zeros((1, self.n_input)))\n",
        "        self.eps = eps\n",
        "        self.reset_parameter()\n",
        "\n",
        "    def forward(self, input):\n",
        "        \"\"\"\n",
        "        Прямое распространение данных. \n",
        "        Выход из этого слоя - нормализованные входные данные этого слоя.\n",
        "        - E - матожидание по каждому признаку (по всем вышедшим \n",
        "        из одного нейрона предыдущего слоя значений) (среднее)\n",
        "        - V - дисперсия по каждому признаку\n",
        "        \"\"\"\n",
        "        self.input_1 = Parameter(input)\n",
        "        self.E = Parameter(np.mean(input, axis=0, keepdims=True))\n",
        "        self.V = Parameter(1 / np.sqrt(np.var(input, axis=0, keepdims=True) + self.eps))\n",
        "        self.input_2 = Parameter((input - self.E.value) * self.V.value)\n",
        "        return self.input_2.value * self.gamma.value + self.beta.value \n",
        "\n",
        "    def backward(self, out):\n",
        "        \"\"\"\n",
        "        Обратное распространение ошибки в 6 шагов с \n",
        "        вычислением градиентов весов gamma и сдвигов beta.\n",
        "        \"\"\"\n",
        "        N = out.shape[0]\n",
        "        # step 1\n",
        "        self.input_2.grad = out * self.gamma.value\n",
        "\n",
        "        # step 2\n",
        "        temp1 = self.input_2.grad * self.input_2.value * self.V.value**2\n",
        "        self.V.grad = -0.5 * np.sum(temp1, axis=0, keepdims=True)\n",
        "        \n",
        "        # step 3\n",
        "        temp1 = np.sum(self.input_2.grad * self.V.value, axis=0, keepdims=True)\n",
        "        temp2 = np.mean(self.input_1.value - self.E.value, axis=0, keepdims=True)\n",
        "        temp3 = self.V.grad * temp2\n",
        "        self.E.grad = -(temp1 + 2 * temp3)\n",
        "\n",
        "        # step 4\n",
        "        temp1 = self.input_2.grad * self.V.value\n",
        "        temp2 = self.V.grad * (self.input_1.value - self.E.value) / N\n",
        "        temp3 = self.E.grad / N\n",
        "        self.input_1.grad = temp1 + 2 * temp2 + temp3\n",
        "                            \n",
        "        # step 5\n",
        "        self.gamma.grad = np.sum(out * self.input_2.value, axis=0, keepdims=True)\n",
        "\n",
        "        # step 6\n",
        "        self.beta.grad = np.sum(out, axis=0, keepdims=True)\n",
        "\n",
        "        return self.input_1.grad\n",
        "\n",
        "    def reset_parameter(self):\n",
        "        \"\"\"\n",
        "        Регистрация обучаемых параметров.\n",
        "        \"\"\"\n",
        "        self.register_parameter('gamma', self.gamma)\n",
        "        self.register_parameter('beta', self.beta)"
      ],
      "execution_count": 69,
      "outputs": []
    },
    {
      "cell_type": "code",
      "metadata": {
        "id": "nTRwLurJD8Qb",
        "colab": {
          "base_uri": "https://localhost:8080/",
          "height": 335
        },
        "outputId": "4b9347a6-68b1-40d0-9172-6d8fc9c9b0d5"
      },
      "source": [
        "net = Net(Linear(64, 128, initialization=1.0), Sigmoid(),\n",
        "          Linear(128, 10, initialization=1.0), Softmax())\n",
        "opt = SGD(net.parameters, 0.001, 0.8)\n",
        "iter_count = train(train_dataloader, X_test, y_test, net, \n",
        "          opt, num_epochs=5, verbose_num_iters=10)"
      ],
      "execution_count": 70,
      "outputs": [
        {
          "output_type": "display_data",
          "data": {
            "image/png": "[encoded data removed]",
            "text/plain": [
              "<Figure size 1440x360 with 4 Axes>"
            ]
          },
          "metadata": {
            "tags": [],
            "needs_background": "light"
          }
        }
      ]
    },
    {
      "cell_type": "code",
      "metadata": {
        "colab": {
          "base_uri": "https://localhost:8080/"
        },
        "id": "kpCafuz-T-kC",
        "outputId": "752184ae-f4ee-4ce9-b125-2bab381de5e0"
      },
      "source": [
        "result(net, iter_count)"
      ],
      "execution_count": 71,
      "outputs": [
        {
          "output_type": "stream",
          "text": [
            "Train accuracy: 0.932\n",
            "Test accuracy: 0.870 \n",
            "95% accuracy iteration: 199\n"
          ],
          "name": "stdout"
        }
      ]
    },
    {
      "cell_type": "code",
      "metadata": {
        "colab": {
          "base_uri": "https://localhost:8080/",
          "height": 335
        },
        "id": "HAdd4MhCT-kC",
        "outputId": "16cc5bdb-dbce-4dca-cbe8-52aca5904939"
      },
      "source": [
        "net = Net(Linear(64, 128, initialization=1.0), BatchNorm(128), Sigmoid(),\n",
        "          Linear(128, 10, initialization=1.0), Softmax())\n",
        "opt = SGD(net.parameters, 0.001, 0.8)\n",
        "iter_count = train(train_dataloader, X_test, y_test, net, \n",
        "          opt, num_epochs=10, verbose_num_iters=10)"
      ],
      "execution_count": 72,
      "outputs": [
        {
          "output_type": "display_data",
          "data": {
            "image/png": "[encoded data removed]",
            "text/plain": [
              "<Figure size 1440x360 with 4 Axes>"
            ]
          },
          "metadata": {
            "tags": [],
            "needs_background": "light"
          }
        }
      ]
    },
    {
      "cell_type": "code",
      "metadata": {
        "colab": {
          "base_uri": "https://localhost:8080/"
        },
        "id": "y5iL6kw1T-kD",
        "outputId": "493ea7c4-9487-4bed-b8bb-5bfce6f3427a"
      },
      "source": [
        "result(net, iter_count)"
      ],
      "execution_count": 73,
      "outputs": [
        {
          "output_type": "stream",
          "text": [
            "Train accuracy: 0.986\n",
            "Test accuracy: 0.970 \n",
            "95% accuracy iteration: 399\n"
          ],
          "name": "stdout"
        }
      ]
    },
    {
      "cell_type": "markdown",
      "metadata": {
        "id": "rCzdJMxuZzmQ"
      },
      "source": [
        "Сеть с нормализацией, даже если учесть, что без нее сеть в принципе обучилась, все равно выигрывает по качеству и сходится быстрее. "
      ]
    },
    {
      "cell_type": "code",
      "metadata": {
        "id": "BG-Ifzdn7W8X"
      },
      "source": [
        ""
      ],
      "execution_count": null,
      "outputs": []
    }
  ]
}