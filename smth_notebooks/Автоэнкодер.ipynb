{
 "cells": [
  {
   "cell_type": "markdown",
   "metadata": {
    "id": "IaQTM1lZF9nQ"
   },
   "source": [
    "## Автоэнкодеры"
   ]
  },
  {
   "cell_type": "markdown",
   "metadata": {
    "id": "hwppK7SCF9nf"
   },
   "source": [
    "Автоэнкодеры - unsupervised модели, которые находят применение как базовые строительные блоки в огромном кол-ве сложных моделей. Он состоит из двух нейронных сетей, называемых _энкодером_ и _декодером_, которые работают в тандеме. Задача энкодера - сжать исходный объект до вектора малой размерности, называемого _латентным кодом_. Задача декодера - восстановить из этого латентного кода исходный объект. \n",
    "\n",
    "Обучение происходит путем уменьшения ошибки между исходным объектом и восстановленным:\n",
    "\n",
    "$$ Loss = \\sum MSE(x_i, dec(enc(x_i)) $$"
   ]
  },
  {
   "cell_type": "markdown",
   "metadata": {
    "id": "YjB2E_stF9ni"
   },
   "source": [
    "### Автоэнкодер для MNIST\n",
    "\n",
    "Давайте реализуем и поиграемся с простым автоэнкодером, который берет изображения из датасета **MNIST** и кодирует их в латентный код длины **k**. В этом задании надо реализовать:\n",
    "\n",
    "* Encoder\n",
    "    * Четырехслойная полносвязная сеть с каналами (784-128-64-32-k)\n",
    "* Decoder\n",
    "    * Симметричная полносвязная сеть с каналами (k-32-64-128-784)\n",
    "* Loss функцию для обучения\n",
    "    * L2 между входом и выходом автоэнкодера"
   ]
  },
  {
   "cell_type": "code",
   "execution_count": 2,
   "metadata": {
    "id": "fluWb1NgF9nl"
   },
   "outputs": [],
   "source": [
    "import numpy as np\n",
    "\n",
    "import torch\n",
    "from torch import nn\n",
    "from torch import optim\n",
    "import torchvision\n",
    "import torchvision.transforms as transforms\n",
    "\n",
    "import matplotlib.pyplot as plt\n",
    "%matplotlib inline\n",
    "\n",
    "from IPython.display import clear_output\n",
    "\n",
    "device = torch.device(\"cuda\" if torch.cuda.is_available() else \"cpu\")"
   ]
  },
  {
   "cell_type": "code",
   "execution_count": 3,
   "metadata": {
    "id": "FD75U94WF9no"
   },
   "outputs": [],
   "source": [
    "class MNISTEncoder(nn.Module):\n",
    "    def __init__(self, lat_size):\n",
    "        super(MNISTEncoder, self).__init__()\n",
    "        self.lat_size = lat_size\n",
    "        \n",
    "        self.enc_net = nn.Sequential(\n",
    "            nn.Flatten(), \n",
    "            nn.Linear(784, 128), nn.ReLU(),\n",
    "            nn.Linear(128, self.lat_size))\n",
    "        \n",
    "    def forward(self, x):\n",
    "        assert x.shape[2] == x.shape[3] == 28\n",
    "        \n",
    "        z = self.enc_net(x)\n",
    "        \n",
    "        assert z.shape[0] == x.shape[0]\n",
    "        assert z.shape[1] == self.lat_size\n",
    "        \n",
    "        return z\n",
    "    \n",
    "class MNISTDecoder(nn.Module):\n",
    "    def __init__(self, lat_size):\n",
    "        super(MNISTDecoder, self).__init__()\n",
    "        self.lat_size = lat_size\n",
    "        \n",
    "        self.dec_net = nn.Sequential(\n",
    "            nn.Linear(self.lat_size, 128), nn.ReLU(),\n",
    "            nn.Linear(128, 784), nn.Sigmoid())\n",
    "        \n",
    "    def forward(self, z):\n",
    "        assert z.shape[1] == self.lat_size\n",
    "        \n",
    "        x_rec = self.dec_net(z)\n",
    "        x_rec = x_rec.view(-1, 1, 28, 28)\n",
    "        \n",
    "        assert x_rec.shape[0] == z.shape[0]\n",
    "        \n",
    "        return x_rec"
   ]
  },
  {
   "cell_type": "code",
   "execution_count": 4,
   "metadata": {
    "id": "_DjOFwIUF9np"
   },
   "outputs": [],
   "source": [
    "class AutoEncoder(nn.Module):\n",
    "    def __init__(self, lat_size, \n",
    "                 encoder_class=MNISTEncoder, \n",
    "                 decoder_class=MNISTDecoder,\n",
    "                 criterion_class=nn.MSELoss):\n",
    "        super(AutoEncoder, self).__init__()\n",
    "        \n",
    "        self.lat_size = lat_size\n",
    "        self.enc = encoder_class(lat_size)\n",
    "        self.dec = decoder_class(lat_size)\n",
    "        \n",
    "        self.criterion = criterion_class()\n",
    "        \n",
    "    def encode(self, x):\n",
    "        return self.enc(x)\n",
    "    \n",
    "    def decode(self, z):\n",
    "        return self.dec(z)\n",
    "    \n",
    "    def compute_loss(self, x, return_rec=False):\n",
    "        z = self.encode(x)\n",
    "        rec_x = self.decode(z)\n",
    "        \n",
    "        loss = self.criterion(x, rec_x)\n",
    "        \n",
    "        if return_rec:\n",
    "            return loss, rec_x, z\n",
    "        else:\n",
    "            return loss"
   ]
  },
  {
   "cell_type": "markdown",
   "metadata": {
    "id": "4a624z9QF9nr"
   },
   "source": [
    "Теперь давайте обучим автоэнкодер"
   ]
  },
  {
   "cell_type": "code",
   "execution_count": 5,
   "metadata": {
    "id": "9LwtH2uEF9nr"
   },
   "outputs": [],
   "source": [
    "def train_model(model, tr_dataloader, optimizer, num_epochs=5, verbose_num_iters=32):\n",
    "    model.train()\n",
    "    loss_trace = []\n",
    "    lat_codes = []\n",
    "    labels = []\n",
    "\n",
    "    for epoch_i in range(num_epochs):        \n",
    "        print(f'Epoch {epoch_i + 1}')\n",
    "        lat_codes_i = torch.empty((0, model.lat_size)).to(device)\n",
    "        labels_i = torch.empty((0)).to(device)\n",
    "\n",
    "        for iter_i, batch in enumerate(tr_dataloader):\n",
    "            x, y = batch\n",
    "            x, y = x.to(device), y.to(device)\n",
    "            optimizer.zero_grad() # Зануляем градиенты\n",
    "            \n",
    "            loss, rec_x, cur_lat_codes= model.compute_loss(x, return_rec=True)\n",
    "            lat_codes_i = torch.cat((lat_codes_i, cur_lat_codes), dim=0)\n",
    "            labels_i = torch.cat((labels_i, y), dim=0)\n",
    "\n",
    "            loss.backward() # Считаем градиенты\n",
    "            optimizer.step() # Обновляем параметры модели\n",
    "            \n",
    "            loss_trace.append(loss.item())\n",
    "        \n",
    "            if (iter_i + 1) % verbose_num_iters == 0:\n",
    "                clear_output(wait=True)\n",
    "                plt.figure(figsize=(10, 5))\n",
    "                \n",
    "                plt.subplot(1, 2, 1)\n",
    "                plt.xlabel('Iteration')\n",
    "                plt.ylabel('L2 loss (x, x_rec)')\n",
    "                plt.plot(loss_trace)\n",
    "                \n",
    "                for i in range(3):\n",
    "                    plt.subplot(2, 6, 4 + i)\n",
    "                    plt.axis('off')\n",
    "                    plt.imshow(x[i, 0].cpu().detach().numpy(), cmap='gray')\n",
    "                    \n",
    "                    plt.subplot(2, 6, 10 + i)\n",
    "                    plt.axis('off')\n",
    "                    plt.imshow(rec_x[i, 0].cpu().detach().numpy(), cmap='gray')\n",
    "                    \n",
    "                plt.show()\n",
    "        lat_codes_i = lat_codes_i[:1000].detach().cpu().numpy()\n",
    "        labels_i = labels_i[:1000].detach().cpu().numpy()\n",
    "        lat_codes.append(lat_codes_i)\n",
    "        labels.append(labels_i)\n",
    "    model.eval()\n",
    "    return lat_codes, labels"
   ]
  },
  {
   "cell_type": "code",
   "execution_count": 6,
   "metadata": {
    "id": "0tNETaQGF9nt",
    "scrolled": true
   },
   "outputs": [
    {
     "name": "stdout",
     "output_type": "stream",
     "text": [
      "Downloading http://yann.lecun.com/exdb/mnist/train-images-idx3-ubyte.gz to ./mnist/MNIST/raw/train-images-idx3-ubyte.gz\n"
     ]
    },
    {
     "data": {
      "application/vnd.jupyter.widget-view+json": {
       "model_id": "67da8af57a6c4dd38c9d7d6e3d7a6162",
       "version_major": 2,
       "version_minor": 0
      },
      "text/plain": [
       "0it [00:00, ?it/s]"
      ]
     },
     "metadata": {},
     "output_type": "display_data"
    },
    {
     "ename": "KeyboardInterrupt",
     "evalue": "",
     "output_type": "error",
     "traceback": [
      "\u001b[0;31m---------------------------------------------------------------------------\u001b[0m",
      "\u001b[0;31mKeyboardInterrupt\u001b[0m                         Traceback (most recent call last)",
      "\u001b[0;32m<ipython-input-6-ca9388da29d2>\u001b[0m in \u001b[0;36m<module>\u001b[0;34m\u001b[0m\n\u001b[1;32m      1\u001b[0m \u001b[0mtransform\u001b[0m \u001b[0;34m=\u001b[0m \u001b[0mtransforms\u001b[0m\u001b[0;34m.\u001b[0m\u001b[0mCompose\u001b[0m\u001b[0;34m(\u001b[0m\u001b[0;34m[\u001b[0m\u001b[0mtransforms\u001b[0m\u001b[0;34m.\u001b[0m\u001b[0mToTensor\u001b[0m\u001b[0;34m(\u001b[0m\u001b[0;34m)\u001b[0m\u001b[0;34m]\u001b[0m\u001b[0;34m)\u001b[0m\u001b[0;34m\u001b[0m\u001b[0;34m\u001b[0m\u001b[0m\n\u001b[1;32m      2\u001b[0m \u001b[0;34m\u001b[0m\u001b[0m\n\u001b[0;32m----> 3\u001b[0;31m trainset = torchvision.datasets.MNIST(root='./mnist', train=True,\n\u001b[0m\u001b[1;32m      4\u001b[0m                                         download=True, transform=transform)\n\u001b[1;32m      5\u001b[0m train_dataloader = torch.utils.data.DataLoader(trainset, batch_size=64,\n",
      "\u001b[0;32m~/miniconda3/lib/python3.9/site-packages/torchvision/datasets/mnist.py\u001b[0m in \u001b[0;36m__init__\u001b[0;34m(self, root, train, transform, target_transform, download)\u001b[0m\n\u001b[1;32m     66\u001b[0m \u001b[0;34m\u001b[0m\u001b[0m\n\u001b[1;32m     67\u001b[0m         \u001b[0;32mif\u001b[0m \u001b[0mdownload\u001b[0m\u001b[0;34m:\u001b[0m\u001b[0;34m\u001b[0m\u001b[0;34m\u001b[0m\u001b[0m\n\u001b[0;32m---> 68\u001b[0;31m             \u001b[0mself\u001b[0m\u001b[0;34m.\u001b[0m\u001b[0mdownload\u001b[0m\u001b[0;34m(\u001b[0m\u001b[0;34m)\u001b[0m\u001b[0;34m\u001b[0m\u001b[0;34m\u001b[0m\u001b[0m\n\u001b[0m\u001b[1;32m     69\u001b[0m \u001b[0;34m\u001b[0m\u001b[0m\n\u001b[1;32m     70\u001b[0m         \u001b[0;32mif\u001b[0m \u001b[0;32mnot\u001b[0m \u001b[0mself\u001b[0m\u001b[0;34m.\u001b[0m\u001b[0m_check_exists\u001b[0m\u001b[0;34m(\u001b[0m\u001b[0;34m)\u001b[0m\u001b[0;34m:\u001b[0m\u001b[0;34m\u001b[0m\u001b[0;34m\u001b[0m\u001b[0m\n",
      "\u001b[0;32m~/miniconda3/lib/python3.9/site-packages/torchvision/datasets/mnist.py\u001b[0m in \u001b[0;36mdownload\u001b[0;34m(self)\u001b[0m\n\u001b[1;32m    141\u001b[0m             \u001b[0mfilename\u001b[0m \u001b[0;34m=\u001b[0m \u001b[0murl\u001b[0m\u001b[0;34m.\u001b[0m\u001b[0mrpartition\u001b[0m\u001b[0;34m(\u001b[0m\u001b[0;34m'/'\u001b[0m\u001b[0;34m)\u001b[0m\u001b[0;34m[\u001b[0m\u001b[0;36m2\u001b[0m\u001b[0;34m]\u001b[0m\u001b[0;34m\u001b[0m\u001b[0;34m\u001b[0m\u001b[0m\n\u001b[1;32m    142\u001b[0m             \u001b[0mfile_path\u001b[0m \u001b[0;34m=\u001b[0m \u001b[0mos\u001b[0m\u001b[0;34m.\u001b[0m\u001b[0mpath\u001b[0m\u001b[0;34m.\u001b[0m\u001b[0mjoin\u001b[0m\u001b[0;34m(\u001b[0m\u001b[0mself\u001b[0m\u001b[0;34m.\u001b[0m\u001b[0mraw_folder\u001b[0m\u001b[0;34m,\u001b[0m \u001b[0mfilename\u001b[0m\u001b[0;34m)\u001b[0m\u001b[0;34m\u001b[0m\u001b[0;34m\u001b[0m\u001b[0m\n\u001b[0;32m--> 143\u001b[0;31m             \u001b[0mdownload_url\u001b[0m\u001b[0;34m(\u001b[0m\u001b[0murl\u001b[0m\u001b[0;34m,\u001b[0m \u001b[0mroot\u001b[0m\u001b[0;34m=\u001b[0m\u001b[0mself\u001b[0m\u001b[0;34m.\u001b[0m\u001b[0mraw_folder\u001b[0m\u001b[0;34m,\u001b[0m \u001b[0mfilename\u001b[0m\u001b[0;34m=\u001b[0m\u001b[0mfilename\u001b[0m\u001b[0;34m,\u001b[0m \u001b[0mmd5\u001b[0m\u001b[0;34m=\u001b[0m\u001b[0;32mNone\u001b[0m\u001b[0;34m)\u001b[0m\u001b[0;34m\u001b[0m\u001b[0;34m\u001b[0m\u001b[0m\n\u001b[0m\u001b[1;32m    144\u001b[0m             \u001b[0mself\u001b[0m\u001b[0;34m.\u001b[0m\u001b[0mextract_gzip\u001b[0m\u001b[0;34m(\u001b[0m\u001b[0mgzip_path\u001b[0m\u001b[0;34m=\u001b[0m\u001b[0mfile_path\u001b[0m\u001b[0;34m,\u001b[0m \u001b[0mremove_finished\u001b[0m\u001b[0;34m=\u001b[0m\u001b[0;32mTrue\u001b[0m\u001b[0;34m)\u001b[0m\u001b[0;34m\u001b[0m\u001b[0;34m\u001b[0m\u001b[0m\n\u001b[1;32m    145\u001b[0m \u001b[0;34m\u001b[0m\u001b[0m\n",
      "\u001b[0;32m~/miniconda3/lib/python3.9/site-packages/torchvision/datasets/utils.py\u001b[0m in \u001b[0;36mdownload_url\u001b[0;34m(url, root, filename, md5)\u001b[0m\n\u001b[1;32m     71\u001b[0m         \u001b[0;32mtry\u001b[0m\u001b[0;34m:\u001b[0m\u001b[0;34m\u001b[0m\u001b[0;34m\u001b[0m\u001b[0m\n\u001b[1;32m     72\u001b[0m             \u001b[0mprint\u001b[0m\u001b[0;34m(\u001b[0m\u001b[0;34m'Downloading '\u001b[0m \u001b[0;34m+\u001b[0m \u001b[0murl\u001b[0m \u001b[0;34m+\u001b[0m \u001b[0;34m' to '\u001b[0m \u001b[0;34m+\u001b[0m \u001b[0mfpath\u001b[0m\u001b[0;34m)\u001b[0m\u001b[0;34m\u001b[0m\u001b[0;34m\u001b[0m\u001b[0m\n\u001b[0;32m---> 73\u001b[0;31m             urllib.request.urlretrieve(\n\u001b[0m\u001b[1;32m     74\u001b[0m                 \u001b[0murl\u001b[0m\u001b[0;34m,\u001b[0m \u001b[0mfpath\u001b[0m\u001b[0;34m,\u001b[0m\u001b[0;34m\u001b[0m\u001b[0;34m\u001b[0m\u001b[0m\n\u001b[1;32m     75\u001b[0m                 \u001b[0mreporthook\u001b[0m\u001b[0;34m=\u001b[0m\u001b[0mgen_bar_updater\u001b[0m\u001b[0;34m(\u001b[0m\u001b[0;34m)\u001b[0m\u001b[0;34m\u001b[0m\u001b[0;34m\u001b[0m\u001b[0m\n",
      "\u001b[0;32m~/miniconda3/lib/python3.9/urllib/request.py\u001b[0m in \u001b[0;36murlretrieve\u001b[0;34m(url, filename, reporthook, data)\u001b[0m\n\u001b[1;32m    266\u001b[0m \u001b[0;34m\u001b[0m\u001b[0m\n\u001b[1;32m    267\u001b[0m             \u001b[0;32mwhile\u001b[0m \u001b[0;32mTrue\u001b[0m\u001b[0;34m:\u001b[0m\u001b[0;34m\u001b[0m\u001b[0;34m\u001b[0m\u001b[0m\n\u001b[0;32m--> 268\u001b[0;31m                 \u001b[0mblock\u001b[0m \u001b[0;34m=\u001b[0m \u001b[0mfp\u001b[0m\u001b[0;34m.\u001b[0m\u001b[0mread\u001b[0m\u001b[0;34m(\u001b[0m\u001b[0mbs\u001b[0m\u001b[0;34m)\u001b[0m\u001b[0;34m\u001b[0m\u001b[0;34m\u001b[0m\u001b[0m\n\u001b[0m\u001b[1;32m    269\u001b[0m                 \u001b[0;32mif\u001b[0m \u001b[0;32mnot\u001b[0m \u001b[0mblock\u001b[0m\u001b[0;34m:\u001b[0m\u001b[0;34m\u001b[0m\u001b[0;34m\u001b[0m\u001b[0m\n\u001b[1;32m    270\u001b[0m                     \u001b[0;32mbreak\u001b[0m\u001b[0;34m\u001b[0m\u001b[0;34m\u001b[0m\u001b[0m\n",
      "\u001b[0;32m~/miniconda3/lib/python3.9/http/client.py\u001b[0m in \u001b[0;36mread\u001b[0;34m(self, amt)\u001b[0m\n\u001b[1;32m    456\u001b[0m             \u001b[0;31m# Amount is given, implement using readinto\u001b[0m\u001b[0;34m\u001b[0m\u001b[0;34m\u001b[0m\u001b[0;34m\u001b[0m\u001b[0m\n\u001b[1;32m    457\u001b[0m             \u001b[0mb\u001b[0m \u001b[0;34m=\u001b[0m \u001b[0mbytearray\u001b[0m\u001b[0;34m(\u001b[0m\u001b[0mamt\u001b[0m\u001b[0;34m)\u001b[0m\u001b[0;34m\u001b[0m\u001b[0;34m\u001b[0m\u001b[0m\n\u001b[0;32m--> 458\u001b[0;31m             \u001b[0mn\u001b[0m \u001b[0;34m=\u001b[0m \u001b[0mself\u001b[0m\u001b[0;34m.\u001b[0m\u001b[0mreadinto\u001b[0m\u001b[0;34m(\u001b[0m\u001b[0mb\u001b[0m\u001b[0;34m)\u001b[0m\u001b[0;34m\u001b[0m\u001b[0;34m\u001b[0m\u001b[0m\n\u001b[0m\u001b[1;32m    459\u001b[0m             \u001b[0;32mreturn\u001b[0m \u001b[0mmemoryview\u001b[0m\u001b[0;34m(\u001b[0m\u001b[0mb\u001b[0m\u001b[0;34m)\u001b[0m\u001b[0;34m[\u001b[0m\u001b[0;34m:\u001b[0m\u001b[0mn\u001b[0m\u001b[0;34m]\u001b[0m\u001b[0;34m.\u001b[0m\u001b[0mtobytes\u001b[0m\u001b[0;34m(\u001b[0m\u001b[0;34m)\u001b[0m\u001b[0;34m\u001b[0m\u001b[0;34m\u001b[0m\u001b[0m\n\u001b[1;32m    460\u001b[0m         \u001b[0;32melse\u001b[0m\u001b[0;34m:\u001b[0m\u001b[0;34m\u001b[0m\u001b[0;34m\u001b[0m\u001b[0m\n",
      "\u001b[0;32m~/miniconda3/lib/python3.9/http/client.py\u001b[0m in \u001b[0;36mreadinto\u001b[0;34m(self, b)\u001b[0m\n\u001b[1;32m    500\u001b[0m         \u001b[0;31m# connection, and the user is reading more bytes than will be provided\u001b[0m\u001b[0;34m\u001b[0m\u001b[0;34m\u001b[0m\u001b[0;34m\u001b[0m\u001b[0m\n\u001b[1;32m    501\u001b[0m         \u001b[0;31m# (for example, reading in 1k chunks)\u001b[0m\u001b[0;34m\u001b[0m\u001b[0;34m\u001b[0m\u001b[0;34m\u001b[0m\u001b[0m\n\u001b[0;32m--> 502\u001b[0;31m         \u001b[0mn\u001b[0m \u001b[0;34m=\u001b[0m \u001b[0mself\u001b[0m\u001b[0;34m.\u001b[0m\u001b[0mfp\u001b[0m\u001b[0;34m.\u001b[0m\u001b[0mreadinto\u001b[0m\u001b[0;34m(\u001b[0m\u001b[0mb\u001b[0m\u001b[0;34m)\u001b[0m\u001b[0;34m\u001b[0m\u001b[0;34m\u001b[0m\u001b[0m\n\u001b[0m\u001b[1;32m    503\u001b[0m         \u001b[0;32mif\u001b[0m \u001b[0;32mnot\u001b[0m \u001b[0mn\u001b[0m \u001b[0;32mand\u001b[0m \u001b[0mb\u001b[0m\u001b[0;34m:\u001b[0m\u001b[0;34m\u001b[0m\u001b[0;34m\u001b[0m\u001b[0m\n\u001b[1;32m    504\u001b[0m             \u001b[0;31m# Ideally, we would raise IncompleteRead if the content-length\u001b[0m\u001b[0;34m\u001b[0m\u001b[0;34m\u001b[0m\u001b[0;34m\u001b[0m\u001b[0m\n",
      "\u001b[0;32m~/miniconda3/lib/python3.9/socket.py\u001b[0m in \u001b[0;36mreadinto\u001b[0;34m(self, b)\u001b[0m\n\u001b[1;32m    702\u001b[0m         \u001b[0;32mwhile\u001b[0m \u001b[0;32mTrue\u001b[0m\u001b[0;34m:\u001b[0m\u001b[0;34m\u001b[0m\u001b[0;34m\u001b[0m\u001b[0m\n\u001b[1;32m    703\u001b[0m             \u001b[0;32mtry\u001b[0m\u001b[0;34m:\u001b[0m\u001b[0;34m\u001b[0m\u001b[0;34m\u001b[0m\u001b[0m\n\u001b[0;32m--> 704\u001b[0;31m                 \u001b[0;32mreturn\u001b[0m \u001b[0mself\u001b[0m\u001b[0;34m.\u001b[0m\u001b[0m_sock\u001b[0m\u001b[0;34m.\u001b[0m\u001b[0mrecv_into\u001b[0m\u001b[0;34m(\u001b[0m\u001b[0mb\u001b[0m\u001b[0;34m)\u001b[0m\u001b[0;34m\u001b[0m\u001b[0;34m\u001b[0m\u001b[0m\n\u001b[0m\u001b[1;32m    705\u001b[0m             \u001b[0;32mexcept\u001b[0m \u001b[0mtimeout\u001b[0m\u001b[0;34m:\u001b[0m\u001b[0;34m\u001b[0m\u001b[0;34m\u001b[0m\u001b[0m\n\u001b[1;32m    706\u001b[0m                 \u001b[0mself\u001b[0m\u001b[0;34m.\u001b[0m\u001b[0m_timeout_occurred\u001b[0m \u001b[0;34m=\u001b[0m \u001b[0;32mTrue\u001b[0m\u001b[0;34m\u001b[0m\u001b[0;34m\u001b[0m\u001b[0m\n",
      "\u001b[0;31mKeyboardInterrupt\u001b[0m: "
     ]
    }
   ],
   "source": [
    "transform = transforms.Compose([transforms.ToTensor()])\n",
    "\n",
    "trainset = torchvision.datasets.MNIST(root='./mnist', train=True,\n",
    "                                        download=True, transform=transform)\n",
    "train_dataloader = torch.utils.data.DataLoader(trainset, batch_size=64,\n",
    "                                          shuffle=True, num_workers=1)\n",
    "\n",
    "testset = torchvision.datasets.MNIST(root='./mnist', train=False,\n",
    "                                       download=True, transform=transform)\n",
    "test_dataloader = torch.utils.data.DataLoader(testset, batch_size=64,\n",
    "                                         shuffle=False, num_workers=1)"
   ]
  },
  {
   "cell_type": "code",
   "execution_count": null,
   "metadata": {
    "colab": {
     "base_uri": "https://localhost:8080/",
     "height": 334
    },
    "id": "o5j3stfyF9nt",
    "outputId": "f4077c9a-e7bb-44be-c1a2-de1c58dc3b59"
   },
   "outputs": [
    {
     "data": {
      "image/png": "[encoded data removed]",
      "text/plain": [
       "<Figure size 720x360 with 7 Axes>"
      ]
     },
     "metadata": {
      "tags": []
     },
     "output_type": "display_data"
    }
   ],
   "source": [
    "# обучим модель с латентным кодом длины 8\n",
    "model = AutoEncoder(8)\n",
    "model.to(device)\n",
    "optimizer = optim.Adam(model.parameters(), lr=1e-3)\n",
    "\n",
    "lat_codes, labels = train_model(model, train_dataloader, optimizer)"
   ]
  },
  {
   "cell_type": "markdown",
   "metadata": {
    "id": "X65HjDRsF9nw"
   },
   "source": [
    "Для довольно хорошего сжатия картинок из MNIST'a хватает всего 8 латентных переменных!"
   ]
  },
  {
   "cell_type": "markdown",
   "metadata": {
    "id": "Q5IOZxQEF9n0"
   },
   "source": [
    "### Структура и интерпретация латентного пространства.\n",
    "\n",
    "Главная ценность автоэнкодера как модели - его латентный код. Он крайне насыщенный, т.к. он должен сохранять как можно больше важной информации об объекте. Кроме того, само латентное пространство (множество латентных кодов всех объектов) - довольно плотное и отлично сохраняет структуру исходного пространства - например, похожие объекты в исходном пространстве будут находиться недалеко друг от друга в латентном пространстве. "
   ]
  },
  {
   "cell_type": "markdown",
   "metadata": {
    "id": "C5HF7T-PF9n1"
   },
   "source": [
    "#### Интерполяция латентных кодов\n",
    "\n",
    "Интерполяция латентного кода - это визуализация процесса движения от одной точки латентного пространства к другой. Обычно интерполируют по прямой - соединяют две точки, соответсвующие реальным объектам, отрезком и смотрят латентные коды через равные части этого отрезка. Для каждой промежуточной точки строят выход декодера. \n",
    "\n",
    "Давайте возьмем два случайных объекта из выборки и построим интерполяцию между ними."
   ]
  },
  {
   "cell_type": "code",
   "execution_count": null,
   "metadata": {
    "id": "7WpLDyb6F9n1"
   },
   "outputs": [],
   "source": [
    "for x, _ in train_dataloader:\n",
    "    break\n",
    "    \n",
    "x1 = x[0].to(device)\n",
    "x2 = x[1].to(device)"
   ]
  },
  {
   "cell_type": "code",
   "execution_count": null,
   "metadata": {
    "colab": {
     "base_uri": "https://localhost:8080/",
     "height": 165
    },
    "id": "thuMynPoF9n3",
    "outputId": "56de45f2-37c5-4b27-cc65-c7fc9c2141f1"
   },
   "outputs": [
    {
     "data": {
      "text/plain": [
       "<matplotlib.image.AxesImage at 0x7f593bc1c150>"
      ]
     },
     "execution_count": 9,
     "metadata": {
      "tags": []
     },
     "output_type": "execute_result"
    },
    {
     "data": {
      "image/png": "[encoded data removed]",
      "text/plain": [
       "<Figure size 288x144 with 2 Axes>"
      ]
     },
     "metadata": {
      "tags": []
     },
     "output_type": "display_data"
    }
   ],
   "source": [
    "plt.figure(figsize=(4, 2))\n",
    "\n",
    "plt.subplot(1, 2, 1)\n",
    "plt.axis('off')\n",
    "plt.title('x1')\n",
    "plt.imshow(x1[0].cpu().detach().numpy(), cmap='gray')\n",
    "\n",
    "plt.subplot(1, 2, 2)\n",
    "plt.axis('off')\n",
    "plt.title('x2')\n",
    "plt.imshow(x2[0].cpu().detach().numpy(), cmap='gray')"
   ]
  },
  {
   "cell_type": "code",
   "execution_count": null,
   "metadata": {
    "id": "cdS26EdAF9n4"
   },
   "outputs": [],
   "source": [
    "# получите латентные коды объектов\n",
    "z_1 = model.encode(x1[None, :, :, :])\n",
    "z_2 = model.encode(x2[None, :, :, :])\n",
    "assert z_1.shape == z_2.shape == torch.Size([1, 8])\n",
    "\n",
    "# постройте батч с интерполяцией этих латентных кодов по прямой в 11 точках (используйте функцию torch.linspace)\n",
    "linspace = torch.linspace(0, 1, 11)[:, None].to(device)\n",
    "z_linspace = z_2 * linspace + z_1 * (1 - linspace)\n",
    "assert z_linspace.shape == torch.Size([11, 8])\n",
    "\n",
    "# восстановите для всех латентных кодов изображения\n",
    "x_linspace = model.decode(z_linspace)\n",
    "assert x_linspace.shape == torch.Size([11, 1, 28, 28])"
   ]
  },
  {
   "cell_type": "code",
   "execution_count": null,
   "metadata": {
    "colab": {
     "base_uri": "https://localhost:8080/",
     "height": 94
    },
    "id": "nXD0Db_GF9n5",
    "outputId": "9a35abc1-95a4-4be0-93b0-9218dfd1c3b9"
   },
   "outputs": [
    {
     "data": {
      "image/png": "[encoded data removed]",
      "text/plain": [
       "<Figure size 792x72 with 11 Axes>"
      ]
     },
     "metadata": {
      "tags": []
     },
     "output_type": "display_data"
    }
   ],
   "source": [
    "#нарисуем проинтерполированные объекты\n",
    "plt.figure(figsize=(11, 1))\n",
    "\n",
    "for i, d in enumerate(np.linspace(0, 1, 11)):\n",
    "    plt.subplot(1, 11, i + 1)\n",
    "    plt.axis('off')\n",
    "    plt.title(f'{d:.2}')\n",
    "    plt.imshow(x_linspace[i, 0].cpu().detach().numpy(), cmap='gray')\n"
   ]
  },
  {
   "cell_type": "markdown",
   "metadata": {
    "id": "KQ-ydSMvF9n6"
   },
   "source": [
    "На интерполяция видно, как один объект плавно превращается в другой. Стоит заметить, что почти все промежуточные объекты тоже выглядят довольно правдопободно. Иногда такие интерполяции используют для того, чтобы расширить какой-то маленький датасет."
   ]
  },
  {
   "cell_type": "markdown",
   "metadata": {
    "id": "dadQIDV5F9n6"
   },
   "source": [
    "#### Структура латентного пространства\n",
    "\n",
    "Теперь давайте обучим автоэнкодер с **2** латентными кодами, соберем эти латентные коды и нарисуем 2d plot, где латентные коды подсвечены цветами классов исходных объектов."
   ]
  },
  {
   "cell_type": "code",
   "execution_count": null,
   "metadata": {
    "colab": {
     "base_uri": "https://localhost:8080/",
     "height": 334
    },
    "id": "mdnrmio_F9n7",
    "outputId": "01cf358c-f713-4c4b-e1f5-36fdd49618bd"
   },
   "outputs": [
    {
     "data": {
      "image/png": "[encoded data removed]",
      "text/plain": [
       "<Figure size 720x360 with 7 Axes>"
      ]
     },
     "metadata": {
      "tags": []
     },
     "output_type": "display_data"
    }
   ],
   "source": [
    "# обучим автоэнкодер с 2 латентными кодами\n",
    "\n",
    "model_2d = AutoEncoder(2)\n",
    "model_2d.to(device)\n",
    "\n",
    "optimizer = optim.Adam(model_2d.parameters(), lr=1e-3)\n",
    "\n",
    "lat_codes, labels = train_model(model_2d, train_dataloader, optimizer)"
   ]
  },
  {
   "cell_type": "code",
   "execution_count": null,
   "metadata": {
    "colab": {
     "base_uri": "https://localhost:8080/",
     "height": 540
    },
    "id": "PvoSOOiejCly",
    "outputId": "cd7c270e-65b1-439a-e652-677f89ec3714"
   },
   "outputs": [
    {
     "ename": "TypeError",
     "evalue": "ignored",
     "output_type": "error",
     "traceback": [
      "\u001b[0;31m---------------------------------------------------------------------------\u001b[0m",
      "\u001b[0;31mTypeError\u001b[0m                                 Traceback (most recent call last)",
      "\u001b[0;32m<ipython-input-67-e5ab882a908a>\u001b[0m in \u001b[0;36m<module>\u001b[0;34m()\u001b[0m\n\u001b[1;32m      6\u001b[0m         \u001b[0mplt\u001b[0m\u001b[0;34m.\u001b[0m\u001b[0mylim\u001b[0m\u001b[0;34m(\u001b[0m\u001b[0;34m(\u001b[0m\u001b[0;34m-\u001b[0m\u001b[0;36m20\u001b[0m\u001b[0;34m,\u001b[0m \u001b[0;36m7\u001b[0m\u001b[0;34m)\u001b[0m\u001b[0;34m)\u001b[0m\u001b[0;34m\u001b[0m\u001b[0;34m\u001b[0m\u001b[0m\n\u001b[1;32m      7\u001b[0m         \u001b[0mlat_codes_class\u001b[0m \u001b[0;34m=\u001b[0m \u001b[0mlat_codes\u001b[0m\u001b[0;34m[\u001b[0m\u001b[0mi\u001b[0m\u001b[0;34m]\u001b[0m\u001b[0;34m[\u001b[0m\u001b[0mlabels\u001b[0m\u001b[0;34m[\u001b[0m\u001b[0mi\u001b[0m\u001b[0;34m]\u001b[0m \u001b[0;34m==\u001b[0m \u001b[0mcl\u001b[0m\u001b[0;34m]\u001b[0m\u001b[0;34m\u001b[0m\u001b[0;34m\u001b[0m\u001b[0m\n\u001b[0;32m----> 8\u001b[0;31m         \u001b[0mplt\u001b[0m\u001b[0;34m.\u001b[0m\u001b[0mscatter\u001b[0m\u001b[0;34m(\u001b[0m\u001b[0mlat_codes_class\u001b[0m\u001b[0;34m,\u001b[0m \u001b[0mlabel\u001b[0m\u001b[0;34m=\u001b[0m\u001b[0;34mf'{cl}'\u001b[0m\u001b[0;34m)\u001b[0m\u001b[0;34m\u001b[0m\u001b[0;34m\u001b[0m\u001b[0m\n\u001b[0m\u001b[1;32m      9\u001b[0m     \u001b[0mplt\u001b[0m\u001b[0;34m.\u001b[0m\u001b[0mlegend\u001b[0m\u001b[0;34m(\u001b[0m\u001b[0;34m)\u001b[0m\u001b[0;34m\u001b[0m\u001b[0;34m\u001b[0m\u001b[0m\n\u001b[1;32m     10\u001b[0m     \u001b[0mplt\u001b[0m\u001b[0;34m.\u001b[0m\u001b[0mshow\u001b[0m\u001b[0;34m(\u001b[0m\u001b[0;34m)\u001b[0m\u001b[0;34m\u001b[0m\u001b[0;34m\u001b[0m\u001b[0m\n",
      "\u001b[0;31mTypeError\u001b[0m: scatter() missing 1 required positional argument: 'y'"
     ]
    },
    {
     "data": {
      "image/png": "[encoded data removed]",
      "text/plain": [
       "<Figure size 360x360 with 1 Axes>"
      ]
     },
     "metadata": {
      "tags": []
     },
     "output_type": "display_data"
    }
   ],
   "source": [
    "for i in range(5):\n",
    "    clear_output(wait=True)\n",
    "    plt.figure(figsize=(5, 5))\n",
    "    for cl in range(10):\n",
    "        plt.xlim((-20, 5))\n",
    "        plt.ylim((-20, 7))\n",
    "        lat_codes_class = lat_codes[i][labels[i] == cl]\n",
    "        plt.scatter(lat_codes_class[:, 0], lat_codes_class[:, 1], label=f'{cl}')\n",
    "    plt.legend()\n",
    "    plt.show()"
   ]
  },
  {
   "cell_type": "code",
   "execution_count": null,
   "metadata": {
    "colab": {
     "background_save": true
    },
    "id": "-1zSw996-LIy",
    "outputId": "22207ed3-eb45-484b-ad47-774555daf46d"
   },
   "outputs": [
    {
     "data": {
      "image/png": "[encoded data removed]",
      "text/plain": [
       "<Figure size 720x720 with 2 Axes>"
      ]
     },
     "metadata": {
      "tags": []
     },
     "output_type": "display_data"
    }
   ],
   "source": [
    "def make_2d_scatter_gif(lat_codes, labels, fig):\n",
    "    im = plt.scatter(lat_codes[i][:, 0], lat_codes[i][:, 1], c=labels[i], cmap=cm.coolwarm)\n",
    "    plt.colorbar()\n",
    "    plt.title(\"Epoch: \" + str(0))\n",
    "\n",
    "    def update(i):\n",
    "        fig.clear()\n",
    "        im = plt.scatter(lat_codes[i][:, 0], lat_codes[i][:, 1], c=labels[i], cmap=cm.coolwarm)\n",
    "        im.axes.set_title(\"Epoch: \", i)\n",
    "        im.axes.set_xlim(-5, 5)\n",
    "        im.axes.set_ylim(-5, 5)\n",
    "        return im\n",
    "\n",
    "    anim = FuncAnimation(fig, update, frames=range(len(lat_codes)), interval=150)\n",
    "    \n",
    "make_2d_scatter_gif(lat_codes, labels, plt.figure(figsize=(10,10)))"
   ]
  },
  {
   "cell_type": "code",
   "execution_count": null,
   "metadata": {
    "id": "XMdY5YdJF9n7"
   },
   "outputs": [],
   "source": [
    "def get_latent_codes_and_labels(dataloader, model, num_objects):\n",
    "    lat_codes = torch.empty((0, model.lat_size)).to(device)\n",
    "    labels = torch.empty((0)).to(device)\n",
    "\n",
    "    for batch in dataloader:\n",
    "        x, y = batch\n",
    "        x, y = x.to(device), y.to(device)\n",
    "        cur_lat_codes = model.encode(x)\n",
    "    \n",
    "        lat_codes = torch.cat((lat_codes, cur_lat_codes), dim=0)\n",
    "        labels = torch.cat((labels, y), dim=0)\n",
    "    \n",
    "        if lat_codes.shape[0] >= num_objects:\n",
    "            break\n",
    "    lat_codes = lat_codes[:num_objects].detach().cpu().numpy()\n",
    "    labels = labels[:num_objects].detach().cpu().numpy()\n",
    "\n",
    "    return lat_codes, labels\n",
    "    \n",
    "# соберем для 1000 случайных объектов их латентные коды и классы\n",
    "lat_codes, labels = get_latent_codes_and_labels(train_dataloader, model_2d, 1000)\n",
    "\n",
    "assert lat_codes.shape == (1000, 2)\n",
    "assert labels.shape == (1000, )"
   ]
  },
  {
   "cell_type": "code",
   "execution_count": null,
   "metadata": {
    "colab": {
     "base_uri": "https://localhost:8080/",
     "height": 592
    },
    "id": "z7EsW2MbF9n8",
    "outputId": "e1446e32-9840-49f4-bddb-a87eebc38d1a"
   },
   "outputs": [
    {
     "data": {
      "image/png": "[encoded data removed]",
      "text/plain": [
       "<Figure size 720x720 with 1 Axes>"
      ]
     },
     "metadata": {
      "tags": []
     },
     "output_type": "display_data"
    }
   ],
   "source": [
    "plt.figure(figsize=(10, 10))\n",
    "\n",
    "for cl in range(10):\n",
    "    lat_codes_class = lat_codes[labels == cl]\n",
    "    plt.scatter(lat_codes_class[:, 0], lat_codes_class[:, 1], label=f'{cl}')\n",
    "plt.legend()\n",
    "plt.show()"
   ]
  },
  {
   "cell_type": "markdown",
   "metadata": {
    "id": "YCxy1rkjF9n9"
   },
   "source": [
    "Объекты одного и то же класса находятся в латентном пространстве близко друг к другу! При этом визуально похожие классы (1-4 или 4-9) тоже находятся близко друг к другу."
   ]
  },
  {
   "cell_type": "markdown",
   "metadata": {
    "id": "HbFfW9x9F9n9"
   },
   "source": [
    "### 3.3 Структура латентного пространства (продолжение)\n",
    "\n",
    "А теперь давайте обучим автоэнкодер с **32** латентными кодами, а потом сожмем до размемрности **2** с помощью **t-sne**."
   ]
  },
  {
   "cell_type": "code",
   "execution_count": null,
   "metadata": {
    "id": "bgEMbfEsF9n9"
   },
   "outputs": [],
   "source": [
    "from sklearn.manifold import TSNE"
   ]
  },
  {
   "cell_type": "code",
   "execution_count": null,
   "metadata": {
    "id": "KAH6pPG2F9n-"
   },
   "outputs": [],
   "source": [
    "model_big = AutoEncoder(32)\n",
    "model_big.to(device)\n",
    "optimizer = optim.Adam(model_big.parameters(), lr=1e-3)\n",
    "\n",
    "train_model(model_big, train_dataloader, optimizer)"
   ]
  },
  {
   "cell_type": "code",
   "execution_count": null,
   "metadata": {
    "id": "1fQG0RYBF9n-"
   },
   "outputs": [],
   "source": [
    "tsne = TSNE(n_components=2)"
   ]
  },
  {
   "cell_type": "code",
   "execution_count": null,
   "metadata": {
    "id": "Uq1O8qvxF9n_"
   },
   "outputs": [],
   "source": [
    "lat_codes, labels = get_latent_codes_and_labels(train_dataloader, model_big, 1000)"
   ]
  },
  {
   "cell_type": "code",
   "execution_count": null,
   "metadata": {
    "id": "3u8a5Y70F9n_"
   },
   "outputs": [],
   "source": [
    "new_codes = tsne.fit_transform(lat_codes)"
   ]
  },
  {
   "cell_type": "code",
   "execution_count": null,
   "metadata": {
    "id": "KCNlkjiZF9oA"
   },
   "outputs": [],
   "source": [
    "assert new_codes.shape == (1000, 2)\n",
    "assert labels.shape == (1000,)"
   ]
  },
  {
   "cell_type": "code",
   "execution_count": null,
   "metadata": {
    "id": "eAKp0wF1F9oA"
   },
   "outputs": [],
   "source": [
    "plt.figure(figsize=(10, 10))\n",
    "\n",
    "for cl in range(10):\n",
    "    lat_codes_class = new_codes[labels == cl]\n",
    "    plt.scatter(lat_codes_class[:, 0], lat_codes_class[:, 1], label=f'{cl}')\n",
    "    \n",
    "plt.legend()\n",
    "plt.show()"
   ]
  },
  {
   "cell_type": "markdown",
   "metadata": {
    "id": "fTTyx8IyF9oA"
   },
   "source": [
    "## 4. Denoising\n",
    "\n",
    "Кроме того, автоэнкодеры часто используют для очистки исходных данных от шума. Латентный код сохраняет только главную информацию об объекте, отбрасывая шумовые компоненты. \n",
    "\n",
    "Давайте реализуем функцию, которая обращает 10% пикселей исходного изображения и обучим на такой выборке автоэнкодер."
   ]
  },
  {
   "cell_type": "code",
   "execution_count": null,
   "metadata": {
    "id": "eVA8xJdGF9oB"
   },
   "outputs": [],
   "source": [
    "class FlipRandomBits(object):\n",
    "    def __init__(self, flip_ratio=0.1):\n",
    "        self.flip_ratio = flip_ratio\n",
    "        \n",
    "    def __call__(self, x):\n",
    "        mask = (torch.rand_like(x) < self.flip_ratio)\n",
    "        x[mask] = 1 - x[mask]\n",
    "        \n",
    "        return x\n",
    "\n",
    "transform = transforms.Compose([transforms.ToTensor(), \n",
    "                                FlipRandomBits()])\n",
    "\n",
    "trainset_with_noise = torchvision.datasets.MNIST(root='./mnist', train=True,\n",
    "                                        download=True, transform=transform)\n",
    "train_dataloader_with_noise = torch.utils.data.DataLoader(trainset_with_noise, batch_size=64,\n",
    "                                          shuffle=True, num_workers=0)\n"
   ]
  },
  {
   "cell_type": "code",
   "execution_count": null,
   "metadata": {
    "id": "Uu3G518KF9oC"
   },
   "outputs": [],
   "source": [
    "for x, y in train_dataloader_with_noise:\n",
    "    break\n",
    "\n",
    "plt.figure(figsize=(11, 1))\n",
    "\n",
    "for i in range(10):\n",
    "    plt.subplot(1, 10, i + 1)\n",
    "    plt.axis('off')\n",
    "    plt.imshow(x[i, 0].cpu().detach().numpy(), cmap='gray')"
   ]
  },
  {
   "cell_type": "code",
   "execution_count": null,
   "metadata": {
    "id": "GnEChL3nF9oD"
   },
   "outputs": [],
   "source": [
    "# обучим автоэнкодер на зашумленных данных\n",
    "\n",
    "model_for_noise = AutoEncoder(64)\n",
    "model_for_noise.to(device)\n",
    "optimizer = optim.Adam(model_for_noise.parameters(), lr=1e-3)\n",
    "\n",
    "train_model(model_for_noise, train_dataloader_with_noise, optimizer)"
   ]
  },
  {
   "cell_type": "code",
   "execution_count": null,
   "metadata": {
    "id": "ZCG4r8ttF9oF"
   },
   "outputs": [],
   "source": [
    "_, rec_x = model.compute_loss(x.to(device), return_rec=True)"
   ]
  },
  {
   "cell_type": "code",
   "execution_count": null,
   "metadata": {
    "id": "o2gK06jlF9oF"
   },
   "outputs": [],
   "source": [
    "fig, axs = plt.subplots(nrows=5, ncols=2, figsize=(5, 8),)\n",
    "i = 0\n",
    "\n",
    "for ax, noised, denoised in zip(axs, x[:10], rec_x[:10]):\n",
    "    ax[0].imshow(noised[0].cpu().detach().numpy(), cmap='gray')\n",
    "    ax[1].imshow(denoised[0].cpu().detach().numpy(), cmap='gray')\n",
    "    ax[0].axis('off')\n",
    "    ax[1].axis('off')\n",
    "    if i == 0:\n",
    "        ax[0].set_title(f'Noised')\n",
    "        ax[1].set_title(f'Denoised')\n",
    "        i += 1"
   ]
  },
  {
   "cell_type": "code",
   "execution_count": null,
   "metadata": {
    "id": "1CGEOv6DF9oG"
   },
   "outputs": [],
   "source": [
    "for x, y in test_dataloader:\n",
    "    break\n",
    "    \n",
    "_, rec_x = model.compute_loss(x.to(device), return_rec=True)"
   ]
  },
  {
   "cell_type": "code",
   "execution_count": null,
   "metadata": {
    "id": "UMjS5oq3F9oH"
   },
   "outputs": [],
   "source": [
    "fig, axs = plt.subplots(nrows=5, ncols=2, figsize=(5, 8),)\n",
    "i = 0\n",
    "\n",
    "for ax, noised, denoised in zip(axs, x[:10], rec_x[:10]):\n",
    "    ax[0].imshow(noised[0].cpu().detach().numpy(), cmap='gray')\n",
    "    ax[1].imshow(denoised[0].cpu().detach().numpy(), cmap='gray')\n",
    "    ax[0].axis('off')\n",
    "    ax[1].axis('off')\n",
    "    if i == 0:\n",
    "        ax[0].set_title(f'Test')\n",
    "        ax[1].set_title(f'Reconstructed')\n",
    "        i += 1"
   ]
  },
  {
   "cell_type": "markdown",
   "metadata": {
    "id": "M81CooGVF9oM"
   },
   "source": [
    "## 5. Variational AE"
   ]
  },
  {
   "cell_type": "markdown",
   "metadata": {
    "id": "g5A8aeLyF9oM"
   },
   "source": [
    "В отличии от обычного автоэнкодера, мы теперь с помощью энкодера предсказываем не конкретную точку в латентном представлении, а распределение. Более того, мы хотим, чтобы наше латентное представление было распределено по нормальному закону. Для этого мы будем использовать метрику `KL дивергенции`. Как только у вас появляются два разных распределения, вы можете посчитать \"расстояние\" между ними с помощью KL, чем KL меньше, тем два распределения \"ближе\". Если вероятность семпла x в P большая, а в Q - маленькая, то KL растет. Если иначе, то тоже растет, но не так сильно. \n",
    "\n",
    "KL = 0 тогда и только тогда когда P = Q везде. \n",
    "\n",
    "Еще раз, как можно видеть по формуле, несимметричность выражается в том, что семплы взвешены по вероятности в P. Значит что если p(x) близка к нулю, как бы велико q(x) не было, в KL оно добавит не очень много\n",
    "\n",
    "![KL дивергенция непрерывная](KL_div_1.png)\n",
    "\n",
    "В дискретном случае формула будет выглядеть так\n",
    "\n",
    "![KL дивергенция дискретная](KL_div_2.png)\n",
    "\n",
    "Представим простой пример, мы хотим унимодальным распределением покрыть бимодальное:\n",
    "\n",
    "До:\n",
    "![KL до](kl_after.png)\n",
    "После:\n",
    "![KL после](kl_was.png)"
   ]
  },
  {
   "cell_type": "code",
   "execution_count": null,
   "metadata": {
    "id": "yb_pOKjMF9oN"
   },
   "outputs": [],
   "source": [
    "class MNISTEncoder_vae(nn.Module):\n",
    "    def __init__(self, lat_size):\n",
    "        super(MNISTEncoder_vae, self).__init__()\n",
    "        self.lat_size = lat_size\n",
    "\n",
    "        self.enc_net = nn.Sequential(\n",
    "            nn.Flatten(), \n",
    "            nn.Linear(784, 512), nn.ReLU(),\n",
    "            nn.Linear(512, 256), nn.ReLU())\n",
    "        \n",
    "        self.mu = nn.Linear(256, self.lat_size)\n",
    "        self.log_sigma = nn.Linear(256, self.lat_size)\n",
    "        \n",
    "    def forward(self, x):\n",
    "        \n",
    "        # your code here\n",
    "        \n",
    "        return mu, log_sigma \n",
    "    \n",
    "class MNISTDecoder_vae(nn.Module):\n",
    "    def __init__(self, lat_size):\n",
    "        super(MNISTDecoder_vae, self).__init__()\n",
    "        self.lat_size = lat_size\n",
    "        \n",
    "        self.dec_net = nn.Sequential(\n",
    "            nn.Linear(self.lat_size, 128), nn.ReLU(),\n",
    "            nn.Linear(128, 784), nn.Sigmoid())\n",
    "        \n",
    "    def forward(self, z):\n",
    "\n",
    "        x_rec = self.dec_net(z)\n",
    "        x_rec = x_rec.view(-1, 1, 28, 28)\n",
    "        \n",
    "        return x_rec"
   ]
  },
  {
   "cell_type": "code",
   "execution_count": null,
   "metadata": {
    "id": "G09PgZzcF9oN"
   },
   "outputs": [],
   "source": [
    "class VariationalAutoEncoder(nn.Module):\n",
    "    def __init__(self, lat_size, KL_weight=0.001,\n",
    "                 encoder_class=MNISTEncoder_vae, \n",
    "                 decoder_class=MNISTDecoder_vae,\n",
    "                 criterion_class=nn.MSELoss,):\n",
    "        super(VariationalAutoEncoder, self).__init__()\n",
    "        \n",
    "        self.lat_size = lat_size\n",
    "        self.enc = encoder_class(lat_size)\n",
    "        self.dec = decoder_class(lat_size)\n",
    "        \n",
    "        self.criterion = criterion_class()\n",
    "        \n",
    "        self.k = 0\n",
    "        self.KL_weight = KL_weight\n",
    "        \n",
    "    def encode(self, x):\n",
    "        return self.enc(x)\n",
    "    \n",
    "    def decode(self, z):\n",
    "        return self.dec(z)\n",
    "    \n",
    "    def sample_z(self, mu, log_sigma):\n",
    "        eps = # your code here\n",
    "        return mu + torch.exp(log_sigma / 2) * eps\n",
    "    \n",
    "    def custom_loss(self, x, rec_x, mu, log_sigma):\n",
    "        \n",
    "        KL = torch.mean(-0.5 * torch.sum(1 + log_sigma - mu ** 2 - log_sigma.exp(), dim = 1), dim = 0)\n",
    "        \n",
    "        recon_loss = self.criterion(x, rec_x)\n",
    "        \n",
    "        return KL*self.KL_weight + recon_loss\n",
    "    \n",
    "    def compute_loss(self, x, return_rec=False):\n",
    "        \n",
    "        mu, log_sigma = self.encode(x)\n",
    "        z = self.sample_z(mu, log_sigma)\n",
    "        rec_x = self.decode(z)\n",
    "        \n",
    "        loss = self.custom_loss(x, rec_x, mu, log_sigma)\n",
    "        \n",
    "        if return_rec:\n",
    "            return loss, rec_x, z\n",
    "        else:\n",
    "            return loss"
   ]
  },
  {
   "cell_type": "code",
   "execution_count": null,
   "metadata": {
    "id": "CBORQvYcF9oN"
   },
   "outputs": [],
   "source": [
    "hidden_dim = 2\n",
    "model_vae = VariationalAutoEncoder(hidden_dim, 0.002)\n",
    "model_vae.to(device)\n",
    "optimizer = optim.Adam(model_vae.parameters(), lr=1e-3)\n",
    "\n",
    "train_model(model_vae, train_dataloader, optimizer, 5)"
   ]
  },
  {
   "cell_type": "markdown",
   "metadata": {
    "id": "etBDNuidF9oO"
   },
   "source": [
    "### 5.1 Interpolation of latent codes"
   ]
  },
  {
   "cell_type": "code",
   "execution_count": null,
   "metadata": {
    "id": "K2Iy0GCkF9oP"
   },
   "outputs": [],
   "source": [
    "for x, _ in train_dataloader:\n",
    "    break\n",
    "    \n",
    "x1 = x[0].to(device)\n",
    "x2 = x[1].to(device)"
   ]
  },
  {
   "cell_type": "code",
   "execution_count": null,
   "metadata": {
    "id": "5FSRkqu3F9oP"
   },
   "outputs": [],
   "source": [
    "plt.figure(figsize=(4, 2))\n",
    "\n",
    "plt.subplot(1, 2, 1)\n",
    "plt.axis('off')\n",
    "plt.title('x1')\n",
    "plt.imshow(x1[0].cpu().detach().numpy(), cmap='gray')\n",
    "\n",
    "plt.subplot(1, 2, 2)\n",
    "plt.axis('off')\n",
    "plt.title('x2')\n",
    "plt.imshow(x2[0].cpu().detach().numpy(), cmap='gray')"
   ]
  },
  {
   "cell_type": "code",
   "execution_count": null,
   "metadata": {
    "id": "MDohEvuOF9oQ"
   },
   "outputs": [],
   "source": [
    "# получите латентные коды объектов\n",
    "z_1_mu, z_1_logs = model_vae.encode(x1[None, :, :, :])\n",
    "z_2_mu, z_2_logs = model_vae.encode(x2[None, :, :, :])\n",
    "z_1 = model_vae.sample_z(z_1_mu, z_1_logs)\n",
    "z_2 = model_vae.sample_z(z_2_mu, z_2_logs)\n",
    "\n",
    "assert z_1.shape == z_2.shape == torch.Size([1, hidden_dim])\n",
    "\n",
    "# постройте батч с интерполяцией этих латентных кодов по прямой в 11 точках (используйте функцию torch.linspace)\n",
    "linspace = torch.linspace(0, 1, 11)[:, None].to(device)\n",
    "z_linspace = z_2 * linspace + z_1 * (1 - linspace)\n",
    "# assert z_linspace.shape == torch.Size([11, 8])\n",
    "\n",
    "# восстановите для всех латентных кодов изображения\n",
    "x_linspace = model_vae.decode(z_linspace)\n",
    "assert x_linspace.shape == torch.Size([11, 1, 28, 28])"
   ]
  },
  {
   "cell_type": "code",
   "execution_count": null,
   "metadata": {
    "id": "dea9BaO-F9oQ",
    "scrolled": false
   },
   "outputs": [],
   "source": [
    "#нарисуем проинтерполированные объекты\n",
    "plt.figure(figsize=(11, 1))\n",
    "\n",
    "for i, d in enumerate(np.linspace(0, 1, 11)):\n",
    "    plt.subplot(1, 11, i + 1)\n",
    "    plt.axis('off')\n",
    "    plt.title(f'{d:.2}')\n",
    "    plt.imshow(x_linspace[i, 0].cpu().detach().numpy(), cmap='gray')\n"
   ]
  },
  {
   "cell_type": "markdown",
   "metadata": {
    "id": "T5us1D0uF9oR"
   },
   "source": [
    "### 5.2 Структура латентного пространства"
   ]
  },
  {
   "cell_type": "code",
   "execution_count": null,
   "metadata": {
    "id": "to-e6RcRF9oT"
   },
   "outputs": [],
   "source": [
    "def get_latent_codes_and_labels_vae(dataloader, model, num_objects):\n",
    "    lat_codes = torch.empty((0, model.lat_size)).to(device)\n",
    "    labels = torch.empty((0)).to(device)\n",
    "\n",
    "    for batch in dataloader:\n",
    "        x, y = batch\n",
    "        x, y = x.to(device), y.to(device)\n",
    "        cur_lat_mean, cur_lat_var = model.encode(x)\n",
    "        \n",
    "        eps = torch.randn(cur_lat_mean.shape).to(device)\n",
    "        cur_lat_codes = cur_lat_mean + torch.exp(cur_lat_var / 2) * eps\n",
    "        \n",
    "        lat_codes = torch.cat((lat_codes, cur_lat_codes), dim=0)\n",
    "        labels = torch.cat((labels, y), dim=0)\n",
    "    \n",
    "        if lat_codes.shape[0] >= num_objects:\n",
    "            break\n",
    "    lat_codes = lat_codes[:num_objects].detach().cpu().numpy()\n",
    "    labels = labels[:num_objects].detach().cpu().numpy()\n",
    "\n",
    "    return lat_codes, labels"
   ]
  },
  {
   "cell_type": "code",
   "execution_count": null,
   "metadata": {
    "id": "o3grcuzjF9oT"
   },
   "outputs": [],
   "source": [
    "lat_codes, labels = get_latent_codes_and_labels_vae(train_dataloader, model_vae, 1000)"
   ]
  },
  {
   "cell_type": "code",
   "execution_count": null,
   "metadata": {
    "id": "WowT_42HF9oV"
   },
   "outputs": [],
   "source": [
    "plt.figure(figsize=(10, 10))\n",
    "\n",
    "for cl in range(10):\n",
    "    lat_codes_class = lat_codes[labels == cl]\n",
    "    plt.scatter(lat_codes_class[:, 0], lat_codes_class[:, 1], label=f'{cl}')\n",
    "    \n",
    "plt.legend()\n",
    "plt.show()"
   ]
  },
  {
   "cell_type": "markdown",
   "metadata": {
    "id": "E09JA6l5F9oW"
   },
   "source": [
    "##### Теперь попробуем нарисовать красивую картинку из лекции"
   ]
  },
  {
   "cell_type": "code",
   "execution_count": null,
   "metadata": {
    "id": "rDjim3DdF9oX"
   },
   "outputs": [],
   "source": [
    "xx = torch.linspace(-1.2, 1.2, 10).to(device)\n",
    "yy = torch.linspace(-1.2, 1.2, 10).to(device)\n",
    "\n",
    "xm, ym = torch.meshgrid(xx, yy)"
   ]
  },
  {
   "cell_type": "code",
   "execution_count": null,
   "metadata": {
    "id": "LjfZVTz4F9oY"
   },
   "outputs": [],
   "source": [
    "z_vectors = torch.cat([xm.unsqueeze(2), ym.unsqueeze(2)], dim = 2)"
   ]
  },
  {
   "cell_type": "code",
   "execution_count": null,
   "metadata": {
    "id": "3RiWibg2F9oY"
   },
   "outputs": [],
   "source": [
    "pred = model_vae.decode(z_vectors.view(-1, 2))"
   ]
  },
  {
   "cell_type": "code",
   "execution_count": null,
   "metadata": {
    "id": "GZ2AqWcQF9oY"
   },
   "outputs": [],
   "source": [
    "pred = pred.view(10, 10, 28, 28)"
   ]
  },
  {
   "cell_type": "code",
   "execution_count": null,
   "metadata": {
    "id": "epw4vAzTF9oZ"
   },
   "outputs": [],
   "source": [
    "fig, axes = plt.subplots(10, 10, figsize = (15, 15))\n",
    "\n",
    "for i in range(10):\n",
    "    for j in range(10):\n",
    "        axes[i, j].axis('off')\n",
    "        axes[i, j].imshow(pred[i, j].cpu().detach().numpy(), cmap='gray')"
   ]
  },
  {
   "cell_type": "markdown",
   "metadata": {
    "id": "Ordv9QYiF9oa"
   },
   "source": [
    "### 5.3 Sampling from the distribution"
   ]
  },
  {
   "cell_type": "code",
   "execution_count": null,
   "metadata": {
    "id": "IhZJcaSNF9oa"
   },
   "outputs": [],
   "source": [
    "z = # your code here"
   ]
  },
  {
   "cell_type": "code",
   "execution_count": null,
   "metadata": {
    "id": "bQXmEPgjF9oa"
   },
   "outputs": [],
   "source": [
    "sampled_from_z = model_vae.decode(z)"
   ]
  },
  {
   "cell_type": "code",
   "execution_count": null,
   "metadata": {
    "id": "TqkMAZ-MF9oa"
   },
   "outputs": [],
   "source": [
    "fig, axs = plt.subplots(nrows=5, ncols=2, figsize=(5, 8),)\n",
    "\n",
    "for ax, sampled in zip(axs.flat, sampled_from_z):\n",
    "    ax.imshow(sampled[0].cpu().detach().numpy(), cmap='gray')\n",
    "    ax.axis('off')"
   ]
  },
  {
   "cell_type": "markdown",
   "metadata": {
    "id": "69v5nhs4F9oa"
   },
   "source": [
    "## 6. Conditional VAE"
   ]
  },
  {
   "cell_type": "code",
   "execution_count": null,
   "metadata": {
    "id": "OXJic8sEF9ob"
   },
   "outputs": [],
   "source": [
    "def train_model_conditional(model, tr_dataloader, optimizer, num_epochs=5, verbose_num_iters=32):\n",
    "    model.train()\n",
    "    loss_trace = []\n",
    "    \n",
    "    for epoch_i in range(num_epochs):        \n",
    "        print(f'Epoch {epoch_i + 1}')\n",
    "        for iter_i, batch in enumerate(tr_dataloader):\n",
    "            x, y = batch\n",
    "            x = x.to(device)\n",
    "            y = y.to(device)\n",
    "            \n",
    "            optimizer.zero_grad() # Зануляем градиенты\n",
    "            \n",
    "            loss, rec_x = model.compute_loss(x, y, return_rec=True)\n",
    "            \n",
    "            loss.backward() # Считаем градиенты\n",
    "            optimizer.step() # Обновляем параметры модели\n",
    "            \n",
    "            loss_trace.append(loss.item())\n",
    "        \n",
    "            if (iter_i + 1) % verbose_num_iters == 0:\n",
    "                clear_output(wait=True)\n",
    "                plt.figure(figsize=(10, 5))\n",
    "                \n",
    "                plt.subplot(1, 2, 1)\n",
    "                plt.xlabel('Iteration')\n",
    "                plt.ylabel('L2 loss (x, x_rec)')\n",
    "                plt.plot(loss_trace)\n",
    "                \n",
    "                for i in range(3):\n",
    "                    plt.subplot(2, 6, 4 + i)\n",
    "                    plt.axis('off')\n",
    "                    plt.imshow(x[i, 0].cpu().detach().numpy(), cmap='gray')\n",
    "                    \n",
    "                    plt.subplot(2, 6, 10 + i)\n",
    "                    plt.axis('off')\n",
    "                    plt.imshow(rec_x[i, 0].cpu().detach().numpy(), cmap='gray')\n",
    "                    \n",
    "                plt.show()\n",
    "                \n",
    "    model.eval()"
   ]
  },
  {
   "cell_type": "code",
   "execution_count": null,
   "metadata": {
    "id": "fsDOnrl5F9oc"
   },
   "outputs": [],
   "source": [
    "class MNISTEncoder_cvae(nn.Module):\n",
    "    def __init__(self, lat_size):\n",
    "        super(MNISTEncoder_cvae, self).__init__()\n",
    "        self.lat_size = lat_size\n",
    "        \n",
    "        self.flatten = nn.Flatten()\n",
    "        self.enc_net = nn.Sequential( \n",
    "            nn.Linear(794, 512), nn.ReLU(),\n",
    "            #nn.Linear(256, 64), nn.ReLU()\n",
    "        )\n",
    "        \n",
    "        self.mu = nn.Linear(512, self.lat_size)\n",
    "        self.log_sigma = nn.Linear(512, self.lat_size)\n",
    "        \n",
    "    def forward(self, x, y):\n",
    "        \n",
    "        z = self.flatten(x)\n",
    "        onehot_y = nn.functional.one_hot(y, 10)\n",
    "        z = torch.cat([z, onehot_y], dim=1)\n",
    "        z = self.enc_net(z)\n",
    "        mu = self.mu(z)\n",
    "        log_sigma = self.log_sigma(z)\n",
    "        \n",
    "        return mu, log_sigma \n",
    "    \n",
    "class MNISTDecoder_cvae(nn.Module):\n",
    "    def __init__(self, lat_size):\n",
    "        super(MNISTDecoder_cvae, self).__init__()\n",
    "        self.lat_size = lat_size\n",
    "        \n",
    "        self.dec_net = nn.Sequential(\n",
    "            nn.Linear(self.lat_size+10, 512), nn.ReLU(),\n",
    "            nn.Linear(512, 784), nn.Sigmoid())\n",
    "        \n",
    "    def forward(self, z, y):\n",
    "        \n",
    "        onehot_y = nn.functional.one_hot(y, 10)\n",
    "        z_cond = torch.cat([z, onehot_y], dim=1)\n",
    "\n",
    "        x_rec = self.dec_net(z_cond)\n",
    "        x_rec = x_rec.view(-1, 1, 28, 28)\n",
    "        \n",
    "        return x_rec"
   ]
  },
  {
   "cell_type": "code",
   "execution_count": null,
   "metadata": {
    "id": "y9efJG1DF9oc"
   },
   "outputs": [],
   "source": [
    "class ConditionalVariationalAutoEncoder(nn.Module):\n",
    "    def __init__(self, lat_size, KL_weight=0.001,\n",
    "                 encoder_class=MNISTEncoder_cvae, \n",
    "                 decoder_class=MNISTDecoder_cvae,\n",
    "                 criterion_class=nn.MSELoss,):\n",
    "        super(ConditionalVariationalAutoEncoder, self).__init__()\n",
    "        \n",
    "        self.lat_size = lat_size\n",
    "        self.enc = encoder_class(lat_size)\n",
    "        self.dec = decoder_class(lat_size)\n",
    "        \n",
    "        self.criterion = criterion_class()\n",
    "        \n",
    "        self.k = 0\n",
    "        self.KL_weight = KL_weight\n",
    "        \n",
    "    def encode(self, x, y):\n",
    "        return self.enc(x, y)\n",
    "    \n",
    "    def decode(self, z, y):\n",
    "        return self.dec(z, y)\n",
    "    \n",
    "    def sample_z(self, mu, log_sigma):\n",
    "        eps = torch.randn(mu.shape).to(device)\n",
    "        return mu + torch.exp(log_sigma / 2) * eps\n",
    "    \n",
    "    def custom_loss(self, x, rec_x, mu, log_sigma):\n",
    "        \n",
    "        KL = torch.mean(-0.5 * torch.sum(1 + log_sigma - mu ** 2 - log_sigma.exp(), dim = 1), dim = 0)\n",
    "        recon_loss = self.criterion(x, rec_x)\n",
    "        \n",
    "        return KL*self.KL_weight + recon_loss\n",
    "    \n",
    "    def compute_loss(self, x, y, return_rec=False):\n",
    "        \n",
    "        mu, log_sigma = self.encode(x, y)\n",
    "        z = self.sample_z(mu, log_sigma)\n",
    "        rec_x = self.decode(z, y)\n",
    "        \n",
    "        loss = self.custom_loss(x, rec_x, mu, log_sigma)\n",
    "        \n",
    "        if return_rec:\n",
    "            return loss, rec_x\n",
    "        else:\n",
    "            return loss"
   ]
  },
  {
   "cell_type": "code",
   "execution_count": null,
   "metadata": {
    "id": "AKGwaMkyF9oc"
   },
   "outputs": [],
   "source": [
    "hidden_dim = 2\n",
    "model_cvae = ConditionalVariationalAutoEncoder(hidden_dim, 0.001)\n",
    "model_cvae.to(device)\n",
    "optimizer = optim.Adam(model_cvae.parameters(), lr=1e-3)\n",
    "\n",
    "train_model_conditional(model_cvae, train_dataloader, optimizer, 3)"
   ]
  },
  {
   "cell_type": "code",
   "execution_count": null,
   "metadata": {
    "id": "zRMeEFwHF9oe"
   },
   "outputs": [],
   "source": [
    "z = torch.rand((10, hidden_dim), device=device)\n",
    "y = torch.arange(10).to(device) #=device)\n",
    "\n",
    "sampled_from_z = model_cvae.decode(z, y)"
   ]
  },
  {
   "cell_type": "code",
   "execution_count": null,
   "metadata": {
    "id": "D_2HwulQF9of"
   },
   "outputs": [],
   "source": [
    "fig, axs = plt.subplots(nrows=5, ncols=2, figsize=(5, 8),)\n",
    "\n",
    "for ax, sampled, label in zip(axs.flat, sampled_from_z, y):\n",
    "    ax.imshow(sampled[0].cpu().detach().numpy(), cmap='gray')\n",
    "    ax.set_title(f'Condition: {label}')\n",
    "    ax.axis('off')"
   ]
  },
  {
   "cell_type": "code",
   "execution_count": null,
   "metadata": {
    "id": "bxsQn0X2F9of"
   },
   "outputs": [],
   "source": [
    "def get_latent_codes_and_labels_cvae(dataloader, model, num_objects):\n",
    "    lat_codes = torch.empty((0, model.lat_size)).to(device)\n",
    "    labels = torch.empty((0)).to(device)\n",
    "\n",
    "    for batch in dataloader:\n",
    "        x, y = batch\n",
    "        x, y = x.to(device), y.to(device)\n",
    "        cur_lat_mean, cur_lat_var = model.encode(x, y)\n",
    "        \n",
    "        eps = torch.randn(cur_lat_mean.shape).to(device)\n",
    "        cur_lat_codes = cur_lat_mean + torch.exp(cur_lat_var / 2) * eps\n",
    "        \n",
    "        lat_codes = torch.cat((lat_codes, cur_lat_codes), dim=0)\n",
    "        labels = torch.cat((labels, y), dim=0)\n",
    "    \n",
    "        if lat_codes.shape[0] >= num_objects:\n",
    "            break\n",
    "    lat_codes = lat_codes[:num_objects].detach().cpu().numpy()\n",
    "    labels = labels[:num_objects].detach().cpu().numpy()\n",
    "\n",
    "    return lat_codes, labels"
   ]
  },
  {
   "cell_type": "code",
   "execution_count": null,
   "metadata": {
    "id": "SJVJNu3DF9og"
   },
   "outputs": [],
   "source": [
    "lat_codes, labels = get_latent_codes_and_labels_cvae(train_dataloader, model_cvae, 1000)"
   ]
  },
  {
   "cell_type": "code",
   "execution_count": null,
   "metadata": {
    "id": "lQmqYESTF9oh"
   },
   "outputs": [],
   "source": [
    "plt.figure(figsize=(10, 10))\n",
    "\n",
    "for cl in range(10):\n",
    "    lat_codes_class = lat_codes[labels == cl]\n",
    "    plt.scatter(lat_codes_class[:, 0], lat_codes_class[:, 1], label=f'{cl}')\n",
    "    \n",
    "plt.legend()\n",
    "plt.show()"
   ]
  },
  {
   "cell_type": "markdown",
   "metadata": {
    "id": "IKmNNNigF9oh"
   },
   "source": [
    "Статьи с помощью которых я реализовывал последние 2 секции, довольно подробно поясняющие, что происходит:\n",
    "\n",
    "* [**VAE**](https://wiseodd.github.io/techblog/2016/12/10/variational-autoencoder/)\n",
    "* [**Conditional VAE**](https://wiseodd.github.io/techblog/2016/12/17/conditional-vae/)"
   ]
  },
  {
   "cell_type": "code",
   "execution_count": null,
   "metadata": {
    "id": "kO29kyGEF9oi"
   },
   "outputs": [],
   "source": []
  }
 ],
 "metadata": {
  "colab": {
   "name": "sem2-autoencoders.ipynb",
   "provenance": []
  },
  "kernelspec": {
   "display_name": "Python 3",
   "language": "python",
   "name": "python3"
  },
  "language_info": {
   "codemirror_mode": {
    "name": "ipython",
    "version": 3
   },
   "file_extension": ".py",
   "mimetype": "text/x-python",
   "name": "python",
   "nbconvert_exporter": "python",
   "pygments_lexer": "ipython3",
   "version": "3.9.0"
  }
 },
 "nbformat": 4,
 "nbformat_minor": 1
}
