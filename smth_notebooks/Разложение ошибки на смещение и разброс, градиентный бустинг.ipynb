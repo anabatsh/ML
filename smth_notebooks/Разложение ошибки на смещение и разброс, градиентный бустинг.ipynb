{
 "cells": [
  {
   "cell_type": "markdown",
   "metadata": {
    "id": "atl96lQF8efB"
   },
   "source": [
    "# Машинное обучение, ВМК МГУ\n",
    "\n",
    "## Практическое задание 4. Разложение ошибки на смещение и разброс. Градиентный бустинг ~~своими руками~~\n",
    "\n",
    "### Общая информация\n",
    "\n",
    "Дата выдачи: 30.11.2020 01:00\n",
    "\n",
    "Мягкий дедлайн: 01:00MSK 14.12.2020\n",
    "\n",
    "Жесткий дедлайн: 01:00MSK 21.12.2020\n",
    "\n",
    "### Оценивание и штрафы\n",
    "Каждая из задач имеет определенную «стоимость» (указана в скобках около задачи). Максимально допустимая оценка за работу — 10 баллов.\n",
    "\n",
    "Сдавать задание после указанного срока сдачи нельзя. При выставлении неполного балла за задание в связи с наличием ошибок на усмотрение проверяющего предусмотрена возможность исправить работу на указанных в ответном письме условиях.\n",
    "\n",
    "Задание выполняется самостоятельно. «Похожие» решения считаются плагиатом и все задействованные студенты (в том числе те, у кого списали) не могут получить за него больше 0 баллов (подробнее о плагиате см. на странице курса). Если вы нашли решение какого-то из заданий (или его часть) в открытом источнике, необходимо указать ссылку на этот источник в отдельном блоке в конце вашей работы (скорее всего вы будете не единственным, кто это нашел, поэтому чтобы исключить подозрение в плагиате, необходима ссылка на источник).\n",
    "\n",
    "Неэффективная реализация кода может негативно отразиться на оценке.\n",
    "\n",
    "### Формат сдачи\n",
    "Задания сдаются через систему anytask. Посылка должна содержать:\n",
    "* Ноутбук homework-practice-04-Username.ipynb\n",
    "\n",
    "Username — ваша фамилия и имя на латинице именно в таком порядке\n",
    "\n",
    "### О задании\n",
    "\n",
    "В этом задании вам предстоит воспользоваться возможностями bootstraping для оценки смещения и разброса алгоритмов машинного обучения. Делать мы это будем на данных boston. \n",
    "Также в задании вам будет предложено пообучать готовые модели градиентного бустинга и CatBoost."
   ]
  },
  {
   "cell_type": "markdown",
   "metadata": {
    "id": "7_u3TQZg8efJ"
   },
   "source": [
    "**Напоминание:**\n",
    "    \n",
    "* Все ваши графики должны быть **\"красивыми\"** --- подробнее о том, как их оформлять, можно найти в первом практическом задании. При несоответствии какиму-то из критериев вам могут снять баллы.\n",
    "* Пишите в текстовых ячейках/print в коде ответы на **все вопросы из заданий/просьбы сделать выводы** --- при их отсутствии мы не можем понять, сделали ли вы задание и понимаете, что происходит, и поэтому будем снижать баллы"
   ]
  },
  {
   "cell_type": "code",
   "execution_count": 1,
   "metadata": {
    "id": "MZWIynjK8efL"
   },
   "outputs": [],
   "source": [
    "import numpy as np\n",
    "import pandas as pd\n",
    "import seaborn as sns\n",
    "import lightgbm\n",
    "import catboost\n",
    "import numpy.linalg as LA \n",
    "from matplotlib import pyplot as plt\n",
    "%matplotlib inline\n",
    "\n",
    "from sklearn import preprocessing\n",
    "from sklearn.metrics import accuracy_score, roc_auc_score\n",
    "from sklearn.linear_model import LinearRegression\n",
    "from sklearn.tree import DecisionTreeRegressor\n",
    "from sklearn.ensemble import RandomForestRegressor\n",
    "from sklearn.model_selection import train_test_split, GridSearchCV\n",
    "from sklearn.impute import SimpleImputer\n",
    "from sklearn.datasets import load_boston\n",
    "from catboost import CatBoostClassifier \n",
    "from lightgbm import LGBMClassifier"
   ]
  },
  {
   "cell_type": "markdown",
   "metadata": {
    "id": "jrovzvii8efO"
   },
   "source": [
    "## Часть 1. Bias-Variance Decomposition"
   ]
  },
  {
   "cell_type": "code",
   "execution_count": 2,
   "metadata": {
    "id": "S5llwz7u8efO"
   },
   "outputs": [],
   "source": [
    "boston = load_boston()"
   ]
  },
  {
   "cell_type": "markdown",
   "metadata": {
    "id": "xa4TKW9R8efP"
   },
   "source": [
    "Будем изучать данные о стоимости жилья в Бостоне."
   ]
  },
  {
   "cell_type": "code",
   "execution_count": 3,
   "metadata": {
    "id": "7zV0QsgU8efQ"
   },
   "outputs": [
    {
     "data": {
      "text/plain": [
       "dict_keys(['data', 'target', 'feature_names', 'DESCR', 'filename'])"
      ]
     },
     "execution_count": 3,
     "metadata": {},
     "output_type": "execute_result"
    }
   ],
   "source": [
    "boston.keys()"
   ]
  },
  {
   "cell_type": "markdown",
   "metadata": {
    "id": "1lLlPNHf8efR"
   },
   "source": [
    "- **data**: выборка из различных домов с признаковыми описаниями \n",
    "- **target**: целевая переменная - средняя цена на дом в 1000\\$\n",
    "- **feature_names**: имена признаков\n",
    "- **DESCR**: описание датасета\n",
    "\n",
    "```boston.DESCR```\n",
    "\n",
    "Размер выборки: 506 \\\n",
    "Количество признаков: 13 \\\n",
    "Целевая переменная: **MEDV** \\\n",
    "Пропущенные значения: отсутсвуют\n",
    "    \n",
    "- **CRIM**: Per capita crime rate by town\n",
    "- **ZN**: Proportion of residential land zoned for lots over 25,000 sq. ft\n",
    "- **INDUS**: Proportion of non-retail business acres per town\n",
    "- **CHAS**: Charles River dummy variable (= 1 if tract bounds river; 0 otherwise)\n",
    "- **NOX**: Nitric oxide concentration (parts per 10 million)\n",
    "- **RM**: Average number of rooms per dwelling\n",
    "- **AGE**: Proportion of owner-occupied units built prior to 1940\n",
    "- **DIS**: Weighted distances to five Boston employment centers\n",
    "- **RAD**: Index of accessibility to radial highways\n",
    "- **TAX**: Full-value property tax rate per 10,000\\$\n",
    "- **PTRATIO**: Pupil-teacher ratio by town\n",
    "- **B**: 1000$(B_k — 0.63)^2$, where Bk is the proportion of [people of African American descent] by town\n",
    "- **LSTAT**: Percentage of lower status of the population\n",
    "- **MEDV**: Median value of owner-occupied homes in 1000$"
   ]
  },
  {
   "cell_type": "code",
   "execution_count": 4,
   "metadata": {
    "id": "4EagCNPs8efS"
   },
   "outputs": [],
   "source": [
    "X = boston.data\n",
    "y = boston.target"
   ]
  },
  {
   "cell_type": "markdown",
   "metadata": {
    "id": "GHsfXKn38efW"
   },
   "source": [
    "### Вычисление bias и variance с помощью бутстрапа\n",
    "На лекции была выведено следующая формула, показывающая, как можно представить ошибку алгоритма регрессии в виде суммы трех компонент:\n",
    "$$\n",
    "L(\\mu) = \n",
    "    \\mathbb{E}_{x, y}\\bigl[\\mathbb{E}_{X}\\bigl[ (y - \\mu(X)(x))^2 \\bigr]\\bigr] = \n",
    "$$\n",
    "$$\n",
    "    \\underbrace{\\mathbb{E}_{x, y}\\bigl[(y - \\mathbb{E}[y|x] )^2\\bigr]}_{\\text{шум}} + \\underbrace{\\mathbb{E}_{x}\\bigl[(\\mathbb{E}_{X}[\\mu(X)(x)] - \\mathbb{E}[y|x] )^2\\bigr]}_{\\text{смещение}} +\n",
    "    \\underbrace{\\mathbb{E}_{x}\\bigl[\\mathbb{E}_{X}\\bigl[(\\mu(X)(x) - \\mathbb{E}_{X}[\\mu(X)(x)] )^2\\bigr]\\bigr]}_{\\text{разброс}},\n",
    "$$\n",
    "* $\\mu(X)$ — алгоритм, обученный по выборке $X = \\{(x_1, y_1), \\dots (x_\\ell, y_\\ell)\\}$;\n",
    "* $\\mu(X)(x)$ — ответ алгоритма, обученного по выборке $X$, на объекте $x$;\n",
    "* $\\mathbb{E}_{X}$ — мат. ожидание по всем возможным выборкам;\n",
    "* $\\mathbb{E}_{X}[\\mu(X)(x)]$ — \"средний\" ответ алгоритма, обученного по всем возможным выборкам $X$, на объекте $x$.\n",
    "    \n",
    "С помощью этой формулы мы можем анализировать свойства алгоритма обучения модели $\\mu$, если зададим вероятностную модель порождения пар $p(x, y)$.\n",
    "\n",
    "В реальных задачах мы, конечно же, не знаем распределение на парах объект - правильный ответ. Однако у нас есть набор семплов из этого распределения (обучающую выборка), и мы можем использовать его, чтобы оценивать математические ожидания. Для оценки мат. ожиданий по выборкам мы будем пользоваться бутстрэпом - методом генерации \"новых\" выборок из одной с помощью выбора объектов с возвращением. Разберем несколько шагов на пути к оценке смещения и разброса.\n",
    "\n",
    "#### Приближенное вычисление интегралов\n",
    "На занятиях мы разбирали примеры аналитического вычисления смещения и разброса нескольких алгоритмов обучения. Для большинства моделей данных и алгоритмов обучения аналитически рассчитать математические ожидания в формулах не удастся. Однако мат. ожидания можно оценивать приближенно. Чтобы оценить математическое ожидание $\\mathbb{E}_{\\bar z} f(\\bar z)$ функции от многомерной случайной величины $\\bar z = (z_1, \\dots, z_d)$, $\\bar z \\sim p(\\bar z)$, можно сгенерировать выборку из распределения $p(\\bar z)$ и усреднить значение функции на элементах этой выборки:\n",
    "$$\\mathbb{E}_{\\bar z} f(z) = \\int f(\\bar z) p(\\bar z) d \\bar z \\approx \\frac 1 m \\sum_{i=1}^m f(\\bar z_i), \\, \\bar z_i \\sim p(\\bar z), i = 1, \\dots, m.$$\n",
    "\n",
    "Например, оценим $\\mathbb{E}_z z^2,$ $z \\sim \\mathcal{N}(\\mu=5, \\sigma=3)$ (из теории вероятностей мы знаем, что\n",
    "$\\mathbb{E}_z z^2 = \\sigma^2 + \\mu^2 = 34$):"
   ]
  },
  {
   "cell_type": "code",
   "execution_count": 5,
   "metadata": {
    "id": "Gwr7OquS8efW"
   },
   "outputs": [
    {
     "data": {
      "text/plain": [
       "35.72562264449362"
      ]
     },
     "execution_count": 5,
     "metadata": {},
     "output_type": "execute_result"
    }
   ],
   "source": [
    "z = np.random.normal(loc=5, scale=3, size=1000)\n",
    "(z**2).mean()"
   ]
  },
  {
   "cell_type": "markdown",
   "metadata": {
    "id": "QeUjBfQd8efW"
   },
   "source": [
    "#### Оценивание $\\mathbb{E}_{x, y}$\n",
    "Оценить мат. ожидания по $x$ и по $x, y$, встречающиеся во всех трех компонентах разложения, несложно, потому что у нас есть выборка объектов из распределения данных $p(x, y)$:\n",
    "$$ \\mathbb{E}_{x} f(x) \\approx \\frac 1 N \\sum_{i=1}^N f(x_i), \\quad\n",
    "\\mathbb{E}_{x, y} f(x, y) \\approx \\frac 1 N \\sum_{i=1}^N f(x_i, y_i),$$\n",
    "где $N$ - число объектов в выборке, $\\{(x_i, y_i)\\}_{i=1}^N$ - сама выборка. \n",
    "\n",
    "#### Оценивание $\\mathbb{E}_X$ с помощью бутстрапа\n",
    "Чтобы оценить мат. ожидание по $X$, нам понадобится выборка из выборок:\n",
    "$$\\mathbb{E}_X f(X) \\approx \\frac 1 s \\sum_{j=1}^s f(X_j),$$\n",
    "где $X_j$ - $j$-я выборка. Чтобы их получить, мы можем воспользоваться бутстрапом - методом генерации выборок на основе выбора объектов с возвращением. Чтобы составить одну выборку, будем $N$ раз выбирать индекс объекта $i \\sim \\text{Uniform}(1 \\dots N)$ и добавлять $i$-ю пару (объект, целевая переменная) в выборку. В результате в каждой выборке могут появиться повторяющиеся объекты, а какие-то объекты могут вовсе не войти в некоторые выборки.\n",
    "\n",
    "#### Итоговый алгоритм оценки смещения и разброса алгоритма $a$\n",
    "1. Сгенерировать $s$ выборок $X_j$ методом бутстрапа.\n",
    "1. На каждой выборке $X_j$ обучить алгоритм $a_j$.\n",
    "1. Для каждой выборки $X_j$ определить множество объектов $T_j$, не вошедших в нее (out-of-bag). Вычислить предсказания алгоритма $a_j$ на объектах $T_j$. \n",
    "\n",
    "Поскольку у нас есть только один ответ для каждого объекта, мы будем считать шум равным 0, а $\\mathbb{E}[y|x]$ равным имеющемуся правильному ответу для объекта $x$. \n",
    "\n",
    "Итоговые оценки:\n",
    "* Смещение: для одного объекта - квадрат разности среднего предсказания и правильного ответа. Среднее предсказание берется только по тем алгоритмам $a_j$, для которых этот объект входил в out-of-bag выборку $T_j$. Для получения общего смещения выполнить усреденение смещений по объектам.\n",
    "* Разброс: для одного объекта - выборочная дисперсия предсказаний алгоритмов $a_j$, для которых этот объект входил в out-of-bag выборку $T_j$. Для получения общего разброса выполнить усреденение разбросов по объектам.\n",
    "* Ошибка $L$: усреднить квадраты разностей предсказания и правильного ответа по всем выполненным предсказаниям для всех объектов.\n",
    "\n",
    "В результате должно получиться, что ошибка приблизительно равна сумме смещения и разброса!\n",
    "\n",
    "Алгоритм также вкратце описан по [ссылке](https://web.engr.oregonstate.edu/~tgd/classes/534/slides/part9.pdf) (слайды 19-21).\n",
    "\n",
    "__Задание 1. (1.5 баллa)__\n",
    "\n",
    "Реализуйте описанный алгоритм. Обратите внимание, что если объект не вошел ни в одну из out-of-bag выборок, учитывать его в вычислении итоговых величин не нужно. Как обычно, разрешается использовать только один цикл - по выборкам (от 0 до num_runs-1)."
   ]
  },
  {
   "cell_type": "code",
   "execution_count": 6,
   "metadata": {
    "id": "n7V4uMAk8efV"
   },
   "outputs": [],
   "source": [
    "def bootstrap_samples(X, y, num_runs, out_of_bag=False):\n",
    "    \"\"\"\n",
    "    :param X: numpy-array выборка объектов\n",
    "    :param y: numpy-array целевая переменная\n",
    "    :param num_runs: int число подвыбоорок? генерируемых бутстрепом\n",
    "    :param out_of_bag: bool, если True, возвращается 2D-boolean array вхождения объектоов выборки в out_of_bag\n",
    "    :returns: выборка подвыборок размера n_runs вместе с соответсвующими значениями y\n",
    "    \"\"\"\n",
    "    N = X.shape[0]\n",
    "    indices = np.random.randint(0, N, (num_runs, N))\n",
    "    if out_of_bag:\n",
    "        out_of_bag_mask = np.ones((num_runs, N), dtype=bool)\n",
    "        for i, row in enumerate(indices):\n",
    "            out_of_bag_mask[i][np.unique(row)] = False\n",
    "        return X[indices], y[indices], out_of_bag_mask\n",
    "    else:\n",
    "        return X[indices], y[indices]\n",
    "\n",
    "def compute_biase_variance(regressor, X, y, num_runs=1000):\n",
    "    \"\"\"\n",
    "    :param regressor: sklearn estimator with fit(...) and predict(...) method\n",
    "    :param X: numpy-array representing training set ob objects, shape [n_obj, n_feat]\n",
    "    :param y: numpy-array representing target for training objects, shape [n_obj]\n",
    "    :param num_runs: int, number of samples (s in the description of the algorithm)\n",
    "    \n",
    "    :returns: bias (float), variance (float), error (float) \n",
    "    each value is computed using bootstrap\n",
    "    \"\"\"\n",
    "    X_samples, y_samples, out_of_bag_mask = bootstrap_samples(X, y, num_runs, out_of_bag=True)\n",
    "    y_preds = np.empty((num_runs, y.shape[0]))\n",
    "    y_preds.fill(np.nan)\n",
    "\n",
    "    for i in range(num_runs):\n",
    "        X_train = X_samples[i]\n",
    "        y_train = y_samples[i]\n",
    "        X_test = X[out_of_bag_mask[i]]\n",
    "        y_test = y[out_of_bag_mask[i]]\n",
    "\n",
    "        regressor.fit(X_train, y_train)\n",
    "        y_preds[i][out_of_bag_mask[i]] = regressor.predict(X_test)\n",
    "        \n",
    "    y_preds_mean = np.nanmean(y_preds, axis=0)\n",
    "    y_preds_var = np.nanvar(y_preds, axis=0)\n",
    "    not_nan_mask = ~np.isnan(y_preds_mean)\n",
    "\n",
    "    y_preds_mean = y_preds_mean[not_nan_mask]\n",
    "    y_preds_var = y_preds_var[not_nan_mask]\n",
    "    y_new = y[not_nan_mask]\n",
    "    bias = np.power(y_preds_mean - y_new, 2).mean()\n",
    "    variance = y_preds_var.mean()\n",
    "    loss = np.nanmean(np.power(y_preds - y, 2))\n",
    "    return bias, variance, loss"
   ]
  },
  {
   "cell_type": "markdown",
   "metadata": {
    "id": "853ypouk8efW"
   },
   "source": [
    "**Задание 2. (0.5 баллa)**\n",
    "\n",
    "Оцените смещение, разброс и ошибку для трех алгоритмов с гиперпараметрами по умолчанию: линейная регрессия, решающее дерево, случайный лес.\n"
   ]
  },
  {
   "cell_type": "code",
   "execution_count": 7,
   "metadata": {
    "id": "TLX-Mwoj8efV"
   },
   "outputs": [
    {
     "name": "stdout",
     "output_type": "stream",
     "text": [
      "linear: bias: 23.757 + variance: 0.940 = 24.696 ~ loss: 24.656\n",
      "tree: bias: 10.133 + variance: 12.929 = 23.062 ~ loss: 23.112\n",
      "forest: bias: 21.746 + variance: 2.459 = 24.204 ~ loss: 24.115\n"
     ]
    }
   ],
   "source": [
    "linear = LinearRegression()\n",
    "tree = DecisionTreeRegressor(random_state=0)\n",
    "forest = RandomForestRegressor(max_depth=2, random_state=0)\n",
    "\n",
    "label = ('linear: ', 'tree: ', 'forest: ')\n",
    "s = 'bias: {:.3f} + variance: {:.3f} = {:.3f} ~ loss: {:.3f}'\n",
    "\n",
    "for i, regressor in enumerate((linear, tree, forest)):\n",
    "    bias, variance, loss = compute_biase_variance(regressor, X, y, num_runs=1000)\n",
    "    print(label[i] + s.format(bias, variance, bias + variance, loss))"
   ]
  },
  {
   "cell_type": "markdown",
   "metadata": {
    "id": "boa8kAdm8efX"
   },
   "source": [
    "В результате, действительно, ошибка практически равна сумме разброса и смещения. Несовпадение объясняется приблизительным подсчетом интеграла, ненормальным распределением ошибки, другими погрешностями вычислений."
   ]
  },
  {
   "cell_type": "markdown",
   "metadata": {
    "id": "kKfUv5b38efX"
   },
   "source": [
    "### Визуализация предсказаний базовых алгоритмов бэггинга\n",
    "\n",
    "В материалах лекций можно найти изображение, похожее на мишень - визуализация алгоритмов с разным смещением и разным разбросом. В центре \"мишени\" - правильный ответ, а \"попадания\" - предсказания алгоритмов, обученных по разным выборкам. Построим похожее изображение на наших данных для трех алгоритмов. Наши \"мишени\" будут одномерными, потому что мы решаем задачу одномерной регрессии.\n",
    "\n",
    "__Задание 3. (1.5 балла)__\n",
    "\n",
    "Реализуйте фукнцию plot_predictions. Она должна выполнять следующие действия:\n",
    "1. Случайно выбрать num_test_objects пар объект-целевая переменная из выборки X, y. Получится две выборки: маленькая X_test, y_test (выбранные тестовые объекты) и X_train, y_train (остальные объекты).\n",
    "1. Сгенерировать num_runs выборок методом бутстарапа из X_train, y_train. На каждой выборке обучить алгоритм regressor и сделать предсказания для X_test.\n",
    "1. Нарисовать scatter-график. По оси абсцисс - объекты тестовой выборки (номера от 0 до num_test_objects-1), по оси ординат - предсказания. В итоге получится num_test_objects столбиков с точками. Для каждого тестового объекта надо отметить одним цветом все предсказания для него, а также черным цветом отметить правильный ответ.\n",
    "1. Подпишите оси и название графика (аргумент title)."
   ]
  },
  {
   "cell_type": "code",
   "execution_count": 8,
   "metadata": {
    "id": "CdSY8xgB8efX"
   },
   "outputs": [
    {
     "data": {
      "image/png": "[encoded data removed]",
      "text/plain": [
       "<Figure size 2160x576 with 3 Axes>"
      ]
     },
     "metadata": {
      "needs_background": "light"
     },
     "output_type": "display_data"
    }
   ],
   "source": [
    "def plot_predictions(regressor, X, y, num_runs=100, num_test_objects=10, title=\"\"):\n",
    "    \"\"\"\n",
    "    plot graphics described above\n",
    "    \"\"\"\n",
    "    X_train, X_test, y_train, y_test = train_test_split(X, y, test_size=num_test_objects, random_state=42) \n",
    "    X_samples, y_samples = bootstrap_samples(X_train, y_train, num_runs, out_of_bag=False)\n",
    "    plt.title(title)\n",
    "    plt.plot(range(num_test_objects), y_test, 'o-', color='black', lw=2)\n",
    "    for i in range(num_runs):\n",
    "        regressor.fit(X_samples[i], y_samples[i])\n",
    "        y_preds = regressor.predict(X_test)\n",
    "        plt.scatter(range(num_test_objects), y_preds, c='b', s=10)\n",
    "    \n",
    "fig = plt.figure(figsize=(30, 8))\n",
    "\n",
    "ax1 = fig.add_subplot(131)\n",
    "plot_predictions(linear, X, y, num_runs=10, num_test_objects=10, title=\"linear\")\n",
    "\n",
    "ax2 = fig.add_subplot(132, sharey=ax1)\n",
    "plot_predictions(tree, X, y, num_runs=10, num_test_objects=10, title=\"tree\")\n",
    "\n",
    "ax3 = fig.add_subplot(133, sharey=ax1)\n",
    "plot_predictions(forest, X, y, num_runs=10, num_test_objects=10, title=\"forest\")\n"
   ]
  },
  {
   "cell_type": "markdown",
   "metadata": {
    "id": "WzIWquSm8efY"
   },
   "source": [
    "Нарисуйте графики для линейной регрессии, решающего дерева и случайного леса. Нарисуйте три графика в строчку (это можно сделать с помощью plt.subplot) с одинаковой осью ординат (это важно для понимания масштаба разброса у разных алгоритмов):"
   ]
  },
  {
   "cell_type": "markdown",
   "metadata": {
    "id": "RZiZf0e_8efZ"
   },
   "source": [
    "### Часть 2. Градиентный бустинг"
   ]
  },
  {
   "cell_type": "markdown",
   "metadata": {
    "id": "S5V8zcUd8efZ"
   },
   "source": [
    "**Задание 4 (1 балл)**\n",
    "\n",
    "Мы будем использовать датасет группы \"Home Credit\" по предоставлению кредитов. \n",
    "* Загрузить таблицу application_train.csv;\n",
    "* Записать в y столбец с целевой переменной (TARGET);"
   ]
  },
  {
   "cell_type": "code",
   "execution_count": 9,
   "metadata": {
    "id": "i8lZCvNw8efZ"
   },
   "outputs": [],
   "source": [
    "df = pd.read_csv('/home/youngcat/Downloads/application_train.csv')\n",
    "y = df['TARGET']\n",
    "X = df.drop(columns=['TARGET'])"
   ]
  },
  {
   "cell_type": "markdown",
   "metadata": {
    "id": "sjk64a968efa"
   },
   "source": [
    "* Удалить ненужные столбцы:\\\n",
    "Проанализировав описания признаков в таблице 'Home_Credit_description.csv', исключим относительно бесполезные признаки с APARTMENTS_AVG по EMERGENCYSTATE_MODE, флаги документов FLAG_DOCUMENT_N, с AMT_REQ_CREDIT_BUREAU_HOUR по AMT_REQ_CREDIT_BUREAU_YEAR. В статье https://habr.com/ru/post/414613/ изучены некооторые другие признаки. А именно: 'CNT_CHILDREN', 'CNT_FAM_MEMBERS', 'WEEKDAY_APPR_PROCESS_START', 'HOUR_APPR_PROCESS_START' отмечены как не слишком влияющие на решение о выдаче кредита. Потому от них тоже избавляемся. Другие флаговые признаки суммируем в один столбец из предположения, что чем больше из них отмечено \"1\", тем лучше. \n",
    "После этого избавимся от признаков, в которых слишком много пропусков. "
   ]
  },
  {
   "cell_type": "code",
   "execution_count": 10,
   "metadata": {
    "id": "UMiDgZ0j8efi"
   },
   "outputs": [],
   "source": [
    "X = X.drop(columns=X.columns[X.columns.get_loc('APARTMENTS_AVG') : \n",
    "                             X.columns.get_loc('EMERGENCYSTATE_MODE') + 1])\n",
    "X = X.drop(columns=X.columns[X.columns.get_loc('FLAG_DOCUMENT_2') : \n",
    "                             X.columns.get_loc('FLAG_DOCUMENT_21') + 1])\n",
    "X = X.drop(columns=X.columns[X.columns.get_loc('AMT_REQ_CREDIT_BUREAU_HOUR') : \n",
    "                             X.columns.get_loc('AMT_REQ_CREDIT_BUREAU_YEAR')])\n",
    "X = X.drop(columns=['CNT_CHILDREN', 'CNT_FAM_MEMBERS', 'WEEKDAY_APPR_PROCESS_START', 'HOUR_APPR_PROCESS_START'])\n",
    "\n",
    "flag = X.columns[X.columns.get_loc('FLAG_MOBIL') : \n",
    "                 X.columns.get_loc('FLAG_EMAIL') + 1]\n",
    "X['CONTACT_FLAG'] = X[flag].sum(axis=1)\n",
    "X = X.drop(columns=flag)\n",
    "\n",
    "flag = X.columns[X.columns.get_loc('REGION_RATING_CLIENT_W_CITY') : \n",
    "                 X.columns.get_loc('LIVE_CITY_NOT_WORK_CITY') + 1]\n",
    "X['ADRESS_FLAG'] = X[flag].sum(axis=1)\n",
    "X = X.drop(columns=flag)\n",
    "\n",
    "X = X.drop(columns=X.columns[X.isna().sum() >= 0.1 * len(X)])"
   ]
  },
  {
   "cell_type": "markdown",
   "metadata": {
    "id": "b15Pzlkh8efi"
   },
   "source": [
    "Взглянем на корреляцию признаков в результате"
   ]
  },
  {
   "cell_type": "code",
   "execution_count": 11,
   "metadata": {
    "colab": {
     "base_uri": "https://localhost:8080/",
     "height": 592
    },
    "id": "6NPw-vmp8efi",
    "outputId": "0320966a-8d6d-4468-983d-a64d06fdec62"
   },
   "outputs": [
    {
     "data": {
      "image/png": "[encoded data removed]",
      "text/plain": [
       "<Figure size 864x720 with 2 Axes>"
      ]
     },
     "metadata": {
      "needs_background": "light"
     },
     "output_type": "display_data"
    }
   ],
   "source": [
    "plt.figure(figsize=(12,10))\n",
    "abs_cor = abs(X.corrwith(y, method='spearman')).sort_values()\n",
    "sns.heatmap(pd.DataFrame(abs_cor), cmap='coolwarm')\n",
    "plt.show()"
   ]
  },
  {
   "cell_type": "markdown",
   "metadata": {
    "id": "iaJKOVcz8efk"
   },
   "source": [
    "Ну, все лучше, чем абсолютно синее полотно изначальных 122 признаков."
   ]
  },
  {
   "cell_type": "markdown",
   "metadata": {
    "id": "-ywpBKCd8efl"
   },
   "source": [
    "* Определить тип столбцов и заполнить пропуски - стратегия произвольная;"
   ]
  },
  {
   "cell_type": "code",
   "execution_count": 12,
   "metadata": {
    "colab": {
     "base_uri": "https://localhost:8080/"
    },
    "id": "LXyHRxsP8efl",
    "outputId": "77d5e91c-d9fe-49a4-b2ff-4b829f96f7ec"
   },
   "outputs": [
    {
     "data": {
      "text/plain": [
       "SK_ID_CURR                      int64\n",
       "NAME_CONTRACT_TYPE             object\n",
       "CODE_GENDER                    object\n",
       "FLAG_OWN_CAR                   object\n",
       "FLAG_OWN_REALTY                object\n",
       "AMT_INCOME_TOTAL              float64\n",
       "AMT_CREDIT                    float64\n",
       "AMT_ANNUITY                   float64\n",
       "AMT_GOODS_PRICE               float64\n",
       "NAME_TYPE_SUITE                object\n",
       "NAME_INCOME_TYPE               object\n",
       "NAME_EDUCATION_TYPE            object\n",
       "NAME_FAMILY_STATUS             object\n",
       "NAME_HOUSING_TYPE              object\n",
       "REGION_POPULATION_RELATIVE    float64\n",
       "DAYS_BIRTH                      int64\n",
       "DAYS_EMPLOYED                   int64\n",
       "DAYS_REGISTRATION             float64\n",
       "DAYS_ID_PUBLISH                 int64\n",
       "REGION_RATING_CLIENT            int64\n",
       "ORGANIZATION_TYPE              object\n",
       "EXT_SOURCE_2                  float64\n",
       "OBS_30_CNT_SOCIAL_CIRCLE      float64\n",
       "DEF_30_CNT_SOCIAL_CIRCLE      float64\n",
       "OBS_60_CNT_SOCIAL_CIRCLE      float64\n",
       "DEF_60_CNT_SOCIAL_CIRCLE      float64\n",
       "DAYS_LAST_PHONE_CHANGE        float64\n",
       "CONTACT_FLAG                    int64\n",
       "ADRESS_FLAG                     int64\n",
       "dtype: object"
      ]
     },
     "execution_count": 12,
     "metadata": {},
     "output_type": "execute_result"
    }
   ],
   "source": [
    "X.dtypes"
   ]
  },
  {
   "cell_type": "markdown",
   "metadata": {
    "id": "onOoWFtb8efl"
   },
   "source": [
    "Запомним категориальные признаки:"
   ]
  },
  {
   "cell_type": "code",
   "execution_count": 13,
   "metadata": {
    "id": "BzpgSf8M8efm"
   },
   "outputs": [],
   "source": [
    "cat_mask = X.dtypes==object\n",
    "cat_indices = np.where(cat_mask)[0]\n",
    "cat_feature = X.columns[cat_mask]\n",
    "num_feature = X.columns[~cat_mask]"
   ]
  },
  {
   "cell_type": "markdown",
   "metadata": {
    "id": "aOb_j_aj8efm"
   },
   "source": [
    "Заполним столбцы с пропусками самым частым значением по столбцу"
   ]
  },
  {
   "cell_type": "code",
   "execution_count": 14,
   "metadata": {
    "id": "hNsUvPq18efn"
   },
   "outputs": [],
   "source": [
    "si = SimpleImputer(missing_values=np.nan, strategy='most_frequent')\n",
    "columns = X.columns[X.isna().sum() > 0]\n",
    "X[columns] = si.fit_transform(X[columns])"
   ]
  },
  {
   "cell_type": "markdown",
   "metadata": {
    "id": "b55FcdgV8efn"
   },
   "source": [
    "* Разбить выборку в соотношении 70:30 с random_state=0."
   ]
  },
  {
   "cell_type": "code",
   "execution_count": 15,
   "metadata": {
    "id": "6Ru6Yu_I8efn"
   },
   "outputs": [],
   "source": [
    "X_train, X_test, y_train, y_test = train_test_split(X, y, test_size=0.3, random_state=0)"
   ]
  },
  {
   "cell_type": "markdown",
   "metadata": {
    "id": "qZwnlC_r8efn"
   },
   "source": [
    "**Задание 5 (1 балл)**"
   ]
  },
  {
   "cell_type": "markdown",
   "metadata": {
    "id": "LXxiVz2O8efn"
   },
   "source": [
    "Обучить реализации градиентного бустинга LightGBM и Catboost на вещественных признаках без подбора параметров. "
   ]
  },
  {
   "cell_type": "markdown",
   "metadata": {
    "id": "RmnLOPhr8efn"
   },
   "source": [
    "Так как в данных имеется значительный дисбаланс классов, в качестве метрики качества везде будем использовать площадь под precision-recall кривой (AUC-PR)."
   ]
  },
  {
   "cell_type": "code",
   "execution_count": 16,
   "metadata": {
    "id": "Ggp_oSPY8efn",
    "outputId": "dd3e5f55-4e99-4c88-d6d3-bd380d552570"
   },
   "outputs": [
    {
     "name": "stdout",
     "output_type": "stream",
     "text": [
      "Одобрено: 91.911%, Не одобрено: 8.089%\n"
     ]
    },
    {
     "data": {
      "image/png": "[encoded data removed]",
      "text/plain": [
       "<Figure size 432x288 with 1 Axes>"
      ]
     },
     "metadata": {
      "needs_background": "light"
     },
     "output_type": "display_data"
    }
   ],
   "source": [
    "balance = y.value_counts(normalize=True).values * 100\n",
    "print('Одобрено: {:.3f}%, Не одобрено: {:.3f}%'.format(balance[0], balance[1]))\n",
    "plt.hist(y)\n",
    "plt.title('Распределение классов')\n",
    "plt.show()"
   ]
  },
  {
   "cell_type": "markdown",
   "metadata": {
    "id": "pJPmDamj8efo"
   },
   "source": [
    "### CatBoost"
   ]
  },
  {
   "cell_type": "code",
   "execution_count": 17,
   "metadata": {
    "colab": {
     "base_uri": "https://localhost:8080/"
    },
    "id": "NRi0lMcj8efp",
    "outputId": "48a0098c-7a16-4af3-93b7-e8f24b465034"
   },
   "outputs": [
    {
     "name": "stdout",
     "output_type": "stream",
     "text": [
      "0.700296860409721\n",
      "CPU times: user 1min 12s, sys: 1.58 s, total: 1min 13s\n",
      "Wall time: 4.99 s\n"
     ]
    }
   ],
   "source": [
    "%%time\n",
    "\n",
    "cat = CatBoostClassifier(iterations=300, logging_level='Silent')\n",
    "cat.fit(X_train[num_feature], y_train)\n",
    "\n",
    "print(roc_auc_score(y_test, cat.predict_proba(X_test[num_feature])[:, 1]))"
   ]
  },
  {
   "cell_type": "markdown",
   "metadata": {
    "id": "deU6-bBW8efp"
   },
   "source": [
    "### LightGBM"
   ]
  },
  {
   "cell_type": "code",
   "execution_count": 18,
   "metadata": {
    "colab": {
     "base_uri": "https://localhost:8080/"
    },
    "id": "ombjwIXt8efq",
    "outputId": "b0257925-c958-4605-b598-a4f0b97e6a94"
   },
   "outputs": [
    {
     "name": "stdout",
     "output_type": "stream",
     "text": [
      "0.7004937001611482\n",
      "CPU times: user 17.2 s, sys: 41.2 ms, total: 17.3 s\n",
      "Wall time: 1.16 s\n"
     ]
    }
   ],
   "source": [
    "%%time\n",
    "\n",
    "lgbm = LGBMClassifier(n_estimators=300)\n",
    "lgbm.fit(X_train[num_feature], y_train)\n",
    "\n",
    "print(roc_auc_score(y_test, lgbm.predict_proba(X_test[num_feature])[:, 1]))"
   ]
  },
  {
   "cell_type": "markdown",
   "metadata": {
    "id": "gxQlL7Np8efr"
   },
   "source": [
    "Итак, можно заметить, что разница в качестве, мягко говоря, невелика, а вот во времени значительна, что подтверждает теорию о том, что catboost работает хорошо только при правильно настроенных категориальных данных."
   ]
  },
  {
   "cell_type": "markdown",
   "metadata": {
    "id": "1XQm_VxF8efr"
   },
   "source": [
    "__Задание 6. (2 балла)__\n",
    "\n",
    "Подобрать оптимальные с точки зрения метрики качества параметры алгоритмов, изменяя:\n",
    "\n",
    "* глубину деревьев\n",
    "* количество деревьев\n",
    "* темп обучения\n",
    "* оптимизируемый функционал"
   ]
  },
  {
   "cell_type": "code",
   "execution_count": 19,
   "metadata": {
    "id": "nC4Z9yPz8efr"
   },
   "outputs": [],
   "source": [
    "def fit_score(clf):\n",
    "    clf.fit(X_train[num_feature], y_train)\n",
    "    train_score = roc_auc_score(y_train, clf.predict_proba(X_train[num_feature])[:, 1])\n",
    "    test_score = roc_auc_score(y_test, clf.predict_proba(X_test[num_feature])[:, 1])\n",
    "    return train_score, test_score\n",
    "\n",
    "def plot(x, xlabel):\n",
    "    plt.figure(figsize=(8, 5))\n",
    "    for i, label in enumerate(('cat_train', 'cat_test', 'lgbm_train', 'lgbm_test')):\n",
    "        plt.plot(x, roc_auc[:,i], marker='.', label=label)\n",
    "    plt.xlabel(xlabel)\n",
    "    plt.ylabel('AUC-ROC')\n",
    "    plt.legend()\n",
    "    plt.show()"
   ]
  },
  {
   "cell_type": "markdown",
   "metadata": {
    "id": "xbCbmj1Q8efr"
   },
   "source": [
    "Оценим **глубину**. Остальные параметры оставляем по умолчанию."
   ]
  },
  {
   "cell_type": "code",
   "execution_count": 20,
   "metadata": {
    "colab": {
     "base_uri": "https://localhost:8080/",
     "height": 484
    },
    "id": "MdPEyOBI8efr",
    "outputId": "55d92aed-89d4-4529-ec3a-737b11cc4313"
   },
   "outputs": [
    {
     "name": "stdout",
     "output_type": "stream",
     "text": [
      "[LightGBM] [Warning] Accuracy may be bad since you didn't explicitly set num_leaves OR 2^max_depth > num_leaves. (num_leaves=31).\n",
      "[LightGBM] [Warning] Accuracy may be bad since you didn't explicitly set num_leaves OR 2^max_depth > num_leaves. (num_leaves=31).\n",
      "[LightGBM] [Warning] Accuracy may be bad since you didn't explicitly set num_leaves OR 2^max_depth > num_leaves. (num_leaves=31).\n",
      "[LightGBM] [Warning] Accuracy may be bad since you didn't explicitly set num_leaves OR 2^max_depth > num_leaves. (num_leaves=31).\n",
      "[LightGBM] [Warning] Accuracy may be bad since you didn't explicitly set num_leaves OR 2^max_depth > num_leaves. (num_leaves=31).\n"
     ]
    },
    {
     "data": {
      "image/png": "[encoded data removed]",
      "text/plain": [
       "<Figure size 576x360 with 1 Axes>"
      ]
     },
     "metadata": {
      "needs_background": "light"
     },
     "output_type": "display_data"
    },
    {
     "name": "stdout",
     "output_type": "stream",
     "text": [
      "CPU times: user 1h 45s, sys: 1min 46s, total: 1h 2min 31s\n",
      "Wall time: 6min 53s\n"
     ]
    }
   ],
   "source": [
    "%%time\n",
    "depth = list(range(1, 15, 2))\n",
    "roc_auc = np.empty((len(depth), 4))\n",
    "\n",
    "for i, d in enumerate(depth):\n",
    "    cat = CatBoostClassifier(max_depth=d, logging_level=\"Silent\")\n",
    "    lgbm = LGBMClassifier(max_depth=d)\n",
    "    roc_auc[i] = fit_score(cat) + fit_score(lgbm)\n",
    "plot(depth, 'Depth of trees')"
   ]
  },
  {
   "cell_type": "markdown",
   "metadata": {
    "id": "tRx1Q-YX8efs"
   },
   "source": [
    "Как видно, оптимальная глубина для catboost: **5** lightgbm: **5**\n",
    "\n",
    "Оценим **число деревьев**. Остальные параметры оставляем по умолчанию."
   ]
  },
  {
   "cell_type": "code",
   "execution_count": 21,
   "metadata": {
    "colab": {
     "base_uri": "https://localhost:8080/",
     "height": 369
    },
    "id": "QsD2XOvm8eft",
    "outputId": "05fe92af-d23e-4372-d776-886a4e044b7d"
   },
   "outputs": [
    {
     "data": {
      "image/png": "[encoded data removed]",
      "text/plain": [
       "<Figure size 576x360 with 1 Axes>"
      ]
     },
     "metadata": {
      "needs_background": "light"
     },
     "output_type": "display_data"
    },
    {
     "name": "stdout",
     "output_type": "stream",
     "text": [
      "CPU times: user 10min 53s, sys: 12.9 s, total: 11min 6s\n",
      "Wall time: 45.8 s\n"
     ]
    }
   ],
   "source": [
    "%%time\n",
    "n_trees = [1, 10, 100, 200, 300, 400, 500, 700]\n",
    "roc_auc = np.empty((len(n_trees), 4))\n",
    "\n",
    "for i, n in enumerate(n_trees):\n",
    "    cat = CatBoostClassifier(n_estimators=n, logging_level=\"Silent\")\n",
    "    lgbm = LGBMClassifier(n_estimators=n)\n",
    "    roc_auc[i] = fit_score(cat) + fit_score(lgbm)\n",
    "plot(n_trees, 'Number of trees')"
   ]
  },
  {
   "cell_type": "markdown",
   "metadata": {
    "id": "g-Wpaf_k8eft"
   },
   "source": [
    "Как видно, оптимальное число деревьев для catboost: **100** lightgbm: **100**\n",
    "\n",
    "Оценим **темп обучения**. Остальные параметры оставляем по умолчанию."
   ]
  },
  {
   "cell_type": "code",
   "execution_count": 22,
   "metadata": {
    "id": "dt77yq0u8eft",
    "outputId": "62e870d0-c37c-471f-8102-3a3cdc359874"
   },
   "outputs": [
    {
     "data": {
      "image/png": "[encoded data removed]",
      "text/plain": [
       "<Figure size 576x360 with 1 Axes>"
      ]
     },
     "metadata": {
      "needs_background": "light"
     },
     "output_type": "display_data"
    },
    {
     "name": "stdout",
     "output_type": "stream",
     "text": [
      "CPU times: user 40min 46s, sys: 54.8 s, total: 41min 41s\n",
      "Wall time: 2min 44s\n"
     ]
    }
   ],
   "source": [
    "%%time\n",
    "learning_rate = list(np.arange(0.01, 0.2, 0.02))\n",
    "roc_auc = np.empty((len(learning_rate), 4))\n",
    "\n",
    "for i, lr in enumerate(learning_rate):\n",
    "    cat = CatBoostClassifier(learning_rate=lr, logging_level=\"Silent\")\n",
    "    lgbm = LGBMClassifier(learning_rate=lr)\n",
    "    roc_auc[i] = fit_score(cat) + fit_score(lgbm)\n",
    "plot(learning_rate, 'Learning rate')"
   ]
  },
  {
   "cell_type": "markdown",
   "metadata": {
    "id": "2OEWU5N68eft"
   },
   "source": [
    "Как видно, оптимальный темп для catboost: **0.075** lightgbm: **0.075**\n",
    "\n",
    "Оценим **минимизируемый функционал**. Остальные параметры оставляем по умолчанию."
   ]
  },
  {
   "cell_type": "code",
   "execution_count": 23,
   "metadata": {
    "id": "HjufGJqu8efu",
    "outputId": "39a0e070-4cb9-43fe-ca98-9b4867a6bc47"
   },
   "outputs": [
    {
     "data": {
      "image/png": "[encoded data removed]",
      "text/plain": [
       "<Figure size 576x360 with 1 Axes>"
      ]
     },
     "metadata": {
      "needs_background": "light"
     },
     "output_type": "display_data"
    },
    {
     "name": "stdout",
     "output_type": "stream",
     "text": [
      "CPU times: user 8min 9s, sys: 10.6 s, total: 8min 20s\n",
      "Wall time: 32.7 s\n"
     ]
    }
   ],
   "source": [
    "%%time\n",
    "metrics = ('Logloss', 'CrossEntropy')\n",
    "roc_auc = np.empty((len(metrics), 4))\n",
    "\n",
    "for i, m in enumerate(metrics):\n",
    "    cat = CatBoostClassifier(loss_function=m, logging_level=\"Silent\")\n",
    "    lgbm = LGBMClassifier(metric=m)\n",
    "    roc_auc[i] = fit_score(cat) + fit_score(lgbm)\n",
    "plot(metrics, 'Learning rate')"
   ]
  },
  {
   "cell_type": "markdown",
   "metadata": {
    "id": "a0QVTA1I8efu"
   },
   "source": [
    "**Задание 7 (1.5 баллa)**\n",
    "\n",
    "Добавьте категориальные признаки к вещественным следующими способами:\n",
    "\n",
    "* как OHE признаки;\n",
    "* как счетчики со сглаживанием.\n",
    "\n",
    "Можно использовать библиотечные реализации; при подсчете счетчиков нельзя использовать циклы.\n",
    "\n",
    "Как меняется время, необходимое для обучения моделей в зависимости от способа кодирования? (Параметры можно не подбирать)."
   ]
  },
  {
   "cell_type": "code",
   "execution_count": 24,
   "metadata": {},
   "outputs": [],
   "source": [
    "X_copy = X.copy()"
   ]
  },
  {
   "cell_type": "code",
   "execution_count": 25,
   "metadata": {
    "colab": {
     "base_uri": "https://localhost:8080/",
     "height": 444
    },
    "id": "AmHE9-Tx8efu",
    "outputId": "e7d36eee-0540-48b9-fa4a-ec70930d144f"
   },
   "outputs": [],
   "source": [
    "def smooth_counter(X, y, cat_feature):\n",
    "    X['target'] = y\n",
    "    C = 10\n",
    "    prior = y.mean()\n",
    "    X_code = X[cat_feature].copy()\n",
    "    for cf in cat_feature:\n",
    "        X[cf] = X[cf].map((X.groupby(cf)['target'].sum() + C * prior) / (X[cf].value_counts() + C))\n",
    "    X = X.drop(columns=['target'])\n",
    "    return X\n",
    "\n",
    "X_sc = smooth_counter(X, y, cat_feature)"
   ]
  },
  {
   "cell_type": "code",
   "execution_count": 26,
   "metadata": {
    "colab": {
     "base_uri": "https://localhost:8080/"
    },
    "id": "yQ41swtBEOUa",
    "outputId": "68b8797e-2b66-4766-bddd-635563b365f7"
   },
   "outputs": [],
   "source": [
    "X = X_copy\n",
    "X_gd = pd.get_dummies(X, columns=cat_feature)"
   ]
  },
  {
   "cell_type": "code",
   "execution_count": 27,
   "metadata": {
    "id": "wHFck75a8efu"
   },
   "outputs": [],
   "source": [
    "from time import time\n",
    "\n",
    "def time_stat(X, title):\n",
    "    X_train, X_test, y_train, y_test = train_test_split(X, y, test_size=0.3, random_state=0)\n",
    "\n",
    "    start = time()\n",
    "    cat = CatBoostClassifier(logging_level='Silent')\n",
    "    cat.fit(X_train[num_feature], y_train)\n",
    "    cat_time = time() - start\n",
    "\n",
    "    start = time()\n",
    "    lgbm = LGBMClassifier()\n",
    "    lgbm.fit(X_train[num_feature], y_train)\n",
    "    lgbm_time = time() - start\n",
    "\n",
    "    print(title + 'cat_time: {:.3f}sec, lgbm_time: {:.3f}sec'.format(cat_time, lgbm_time))"
   ]
  },
  {
   "cell_type": "code",
   "execution_count": 28,
   "metadata": {},
   "outputs": [
    {
     "name": "stdout",
     "output_type": "stream",
     "text": [
      "One-hot time: cat_time: 15.701sec, lgbm_time: 0.425sec\n",
      "Smooth_counter time: cat_time: 15.814sec, lgbm_time: 0.477sec\n"
     ]
    }
   ],
   "source": [
    "time_stat(X_gd, 'One-hot time: ')\n",
    "time_stat(X_sc, 'Smooth_counter time: ')"
   ]
  },
  {
   "cell_type": "markdown",
   "metadata": {
    "id": "9yHXkrTL8efu"
   },
   "source": [
    "**Задание 8 (1 балл)**\n",
    "\n",
    "Для CatBoost можно не делать ручную обработку категориальных признаков, а подавать как есть. Обучите модель CatBoost, не обрабатывая специально категориальные признаки, замерьте время обучения (параметры возьмите из предыдущего пункта).  Сравните с временем обучения модели CatBoost из предыдущего пункта. Как изменилось время? Почему?"
   ]
  },
  {
   "cell_type": "code",
   "execution_count": 29,
   "metadata": {},
   "outputs": [],
   "source": [
    "X = X_copy"
   ]
  },
  {
   "cell_type": "code",
   "execution_count": 30,
   "metadata": {
    "id": "hV3SzBo38efu"
   },
   "outputs": [],
   "source": [
    "X_train, X_test, y_train, y_test = train_test_split(X, y, test_size=0.3, random_state=0)\n",
    "\n",
    "start = time()\n",
    "cat = CatBoostClassifier(cat_features=cat_indices, logging_level='Silent')\n",
    "cat.fit(X_train, y_train)\n",
    "cat_time = time() - start"
   ]
  },
  {
   "cell_type": "code",
   "execution_count": 31,
   "metadata": {},
   "outputs": [
    {
     "data": {
      "text/plain": [
       "43.31150770187378"
      ]
     },
     "execution_count": 31,
     "metadata": {},
     "output_type": "execute_result"
    }
   ],
   "source": [
    "cat_time"
   ]
  },
  {
   "cell_type": "markdown",
   "metadata": {
    "id": "CbEhjGlf8efu"
   },
   "source": [
    "**Бонус. (1 балл)**\n",
    "\n",
    "Подберите оптимальные параметры для LightGBM с вещественными и категориальными признаками (предварительно обработанные каким-нибудь способом). Подберите оптимальные параметры для CatBoost с вещественными и необработанными категориальными признаками. Сравните качество моделей на наилучших параметрах. Какой метод получился лучше с точки зрения качества? Совпадает ли результат с вашими ожиданиями?"
   ]
  },
  {
   "cell_type": "markdown",
   "metadata": {
    "id": "pJO0CK0H8efv"
   },
   "source": [
    "**Бонус (0.2 балла)**\n",
    "![](https://sun9-9.userapi.com/impg/SPQtmsIMbfJYL65dpu1CajqF6AzUn49FHkeA5w/eEmP2FxDRsU.jpg?size=1060x1080&quality=96&proxy=1&sign=56b757698386e81337979247af59da18&type=album)"
   ]
  },
  {
   "cell_type": "code",
   "execution_count": null,
   "metadata": {},
   "outputs": [],
   "source": []
  }
 ],
 "metadata": {
  "colab": {
   "collapsed_sections": [
    "GHsfXKn38efW",
    "QeUjBfQd8efW",
    "kKfUv5b38efX",
    "O6u87pnJ8efv"
   ],
   "name": "homework-practice-04.ipynb",
   "provenance": []
  },
  "kernelspec": {
   "display_name": "Python 3",
   "language": "python",
   "name": "python3"
  },
  "language_info": {
   "codemirror_mode": {
    "name": "ipython",
    "version": 3
   },
   "file_extension": ".py",
   "mimetype": "text/x-python",
   "name": "python",
   "nbconvert_exporter": "python",
   "pygments_lexer": "ipython3",
   "version": "3.8.5"
  }
 },
 "nbformat": 4,
 "nbformat_minor": 1
}
